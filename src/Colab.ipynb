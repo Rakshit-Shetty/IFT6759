{
  "cells": [
    {
      "cell_type": "markdown",
      "metadata": {
        "id": "view-in-github",
        "colab_type": "text"
      },
      "source": [
        "<a href=\"https://colab.research.google.com/github/TimkLee/IFT6759/blob/main/src/Colab.ipynb\" target=\"_parent\"><img src=\"https://colab.research.google.com/assets/colab-badge.svg\" alt=\"Open In Colab\"/></a>"
      ]
    },
    {
      "cell_type": "markdown",
      "source": [
        "# GPU-CHECK\n",
        "\n",
        "To get a GPU Instance: \n",
        "\n",
        "```\n",
        "Runtime -> Change Runtime Type -> Hardware Accelerator -> GPU\n",
        "```\n",
        "\n",
        " "
      ],
      "metadata": {
        "id": "DB9uvPFY-Ftf"
      },
      "id": "DB9uvPFY-Ftf"
    },
    {
      "cell_type": "code",
      "execution_count": null,
      "metadata": {
        "id": "CbzdJQjQflLn"
      },
      "outputs": [],
      "source": [
        "!nvidia-smi"
      ],
      "id": "CbzdJQjQflLn"
    },
    {
      "cell_type": "markdown",
      "source": [
        "# Installing Libraries Not present in Colab"
      ],
      "metadata": {
        "id": "Fwkr68hu-lB2"
      },
      "id": "Fwkr68hu-lB2"
    },
    {
      "cell_type": "code",
      "execution_count": null,
      "metadata": {
        "id": "fZUPooEgOHLa"
      },
      "outputs": [],
      "source": [
        "!pip install -U PyYAML\n",
        "!pip install wandb"
      ],
      "id": "fZUPooEgOHLa"
    },
    {
      "cell_type": "markdown",
      "metadata": {
        "id": "auHqnattfsym"
      },
      "source": [
        "# Load from GitHub\n",
        "\n",
        "\n",
        "\n",
        "```\n",
        "!git clone https://{TOKEN}@github.com/TimkLee/IFT6759.git\n",
        "```\n",
        "\n",
        "Create your own PAT over [here](https://docs.github.com/en/authentication/keeping-your-account-and-data-secure/creating-a-personal-access-token)"
      ],
      "id": "auHqnattfsym"
    },
    {
      "cell_type": "code",
      "execution_count": 1,
      "metadata": {
        "id": "YkFa0exJpfT8"
      },
      "outputs": [],
      "source": [
        "#Enter your PAT here\n",
        "TOKEN = ''"
      ],
      "id": "YkFa0exJpfT8"
    },
    {
      "cell_type": "code",
      "execution_count": null,
      "metadata": {
        "id": "Y5A1ZB3HfxvC"
      },
      "outputs": [],
      "source": [
        "!git clone https://{TOKEN}@github.com/TimkLee/IFT6759.git"
      ],
      "id": "Y5A1ZB3HfxvC"
    },
    {
      "cell_type": "code",
      "source": [
        "%cd /content/IFT6759/\n",
        "!git pull"
      ],
      "metadata": {
        "id": "UnFvOjb7Xa4y"
      },
      "id": "UnFvOjb7Xa4y",
      "execution_count": null,
      "outputs": []
    },
    {
      "cell_type": "code",
      "execution_count": null,
      "metadata": {
        "id": "THi1df46qVFq"
      },
      "outputs": [],
      "source": [
        "%cd /content/IFT6759/src"
      ],
      "id": "THi1df46qVFq"
    },
    {
      "cell_type": "markdown",
      "source": [
        "# Importing Libraries"
      ],
      "metadata": {
        "id": "RRAGToxN-0Y4"
      },
      "id": "RRAGToxN-0Y4"
    },
    {
      "cell_type": "code",
      "execution_count": 7,
      "metadata": {
        "id": "3740872e-d934-4408-8834-b7b25267d557"
      },
      "outputs": [],
      "source": [
        "import argparse\n",
        "import logging\n",
        "import os\n",
        "import torch\n",
        "import yaml\n",
        "import numpy as np\n",
        "import pickle\n",
        "import logging\n",
        "import torch.nn.functional as F\n",
        "import wandb"
      ],
      "id": "3740872e-d934-4408-8834-b7b25267d557"
    },
    {
      "cell_type": "markdown",
      "source": [
        "# Config Selection"
      ],
      "metadata": {
        "id": "1Wp-Cu9c-44_"
      },
      "id": "1Wp-Cu9c-44_"
    },
    {
      "cell_type": "code",
      "execution_count": 10,
      "metadata": {
        "id": "50332fc8-1852-4057-ae74-498a8a74f2b3"
      },
      "outputs": [],
      "source": [
        "#Folder should either be \"Supervised\" or \"SemiSupervised\"\n",
        "configfolder_name = \"Supervised\"\n",
        "config_name = \"Sup_Config0\"\n",
        "\n",
        "with open(f\"./Config/{configfolder_name}/{config_name}.yaml\") as f:\n",
        "    config = yaml.load(f, Loader=yaml.FullLoader)"
      ],
      "id": "50332fc8-1852-4057-ae74-498a8a74f2b3"
    },
    {
      "cell_type": "code",
      "execution_count": null,
      "metadata": {
        "id": "nTa3hhvAIiCY"
      },
      "outputs": [],
      "source": [
        "config"
      ],
      "id": "nTa3hhvAIiCY"
    },
    {
      "cell_type": "markdown",
      "source": [
        "# Global Variables and Config Setup"
      ],
      "metadata": {
        "id": "1GxmDCvD-8_8"
      },
      "id": "1GxmDCvD-8_8"
    },
    {
      "cell_type": "code",
      "execution_count": 11,
      "metadata": {
        "id": "4c7742bd-30ec-4a75-92bf-49f9ab06ef5a"
      },
      "outputs": [],
      "source": [
        "device = torch.device(\"cuda\" if torch.cuda.is_available() else \"cpu\")\n",
        "num = config['num'] if ('num' in config) else 0 \n",
        "task = config[\"task\"] if ('task' in config) else 'super' \n",
        "data_file = config[\"data\"]\n",
        "model_file = config[\"model\"]\n",
        "augment_file = config[\"augment\"] if (\"augment\" in config) else None \n",
        "augment_strength = config[\"aug_strength\"] if (\"aug_strength\" in config) else None\n",
        "eval_file = config[\"eval\"]\n",
        "batch_size = config[\"batch_size\"] if (\"batch_size\" in config) else 64\n",
        "learn_rate = config[\"learning_rate\"] if (\"learning_rate\" in config) else 0.001\n",
        "epoch = config[\"epoch\"] if (\"epoch\" in config) else 50\n",
        "optimizer = config[\"optimizer\"] if (\"optimizer\" in config) else \"adam\"\n",
        "momentum = config[\"momentum\"] if (\"momentum\" in config) else 0\n",
        "weight_decay = config[\"weight_decay\"] if (\"weight_decay\" in config) else 0\n",
        "seed = config[\"seed\"] if (\"seed\" in config) else 6759 "
      ],
      "id": "4c7742bd-30ec-4a75-92bf-49f9ab06ef5a"
    },
    {
      "cell_type": "markdown",
      "source": [
        "# Initializing Datasets, Augmentation Methods, Models, "
      ],
      "metadata": {
        "id": "WXT-NWcz_ZJG"
      },
      "id": "WXT-NWcz_ZJG"
    },
    {
      "cell_type": "code",
      "execution_count": null,
      "metadata": {
        "id": "eeb541e8-4db0-4107-ac7a-47c8a6ee7412"
      },
      "outputs": [],
      "source": [
        "# logging.info(f\"==========Dataset: {data_file}==========\")\n",
        "print(f\"==========Dataset: {data_file}==========\")\n",
        "data_file_path = f\"Data.{data_file}\"\n",
        "_temp = __import__(name=data_file_path, fromlist=['Data_Load'])\n",
        "Data_Load = _temp.Data_Load"
      ],
      "id": "eeb541e8-4db0-4107-ac7a-47c8a6ee7412"
    },
    {
      "cell_type": "code",
      "execution_count": null,
      "metadata": {
        "id": "3ef80f20-acff-4117-85de-6de6c415a932"
      },
      "outputs": [],
      "source": [
        "if augment_file == None:\n",
        "    print(\"No augmentation method selected\")\n",
        "else:\n",
        "    Aug = []\n",
        "    for i in range(len(augment_file)):\n",
        "        # logging.info(f\"==========Augmentation Methods: {augment_file[i]}, with a strength value of {augment_strength[i]}==========\")\n",
        "        print(f\"==========Augmentation Methods: {augment_file[i]}, with a strength value of {augment_strength[i]}==========\")\n",
        "        augment_file_path = f\"Augmentation.{augment_file[i]}\"\n",
        "        _temp = __import__(name=augment_file_path, fromlist=['Aug'])\n",
        "        Aug.append(_temp.Aug)"
      ],
      "id": "3ef80f20-acff-4117-85de-6de6c415a932"
    },
    {
      "cell_type": "code",
      "execution_count": null,
      "metadata": {
        "id": "8ee8877e-49e0-4628-b372-d28dd5e636ed"
      },
      "outputs": [],
      "source": [
        "# Importing the model class\n",
        "# logging.info(f\"==========Model Selected: {model_file}==========\")\n",
        "print(f\"==========Model Selected: {model_file}==========\")\n",
        "model_file_path = f\"Model.{model_file}\"\n",
        "_temp = __import__(name=model_file_path, fromlist=['ModelClass'])\n",
        "ModelClass = _temp.ModelClass"
      ],
      "id": "8ee8877e-49e0-4628-b372-d28dd5e636ed"
    },
    {
      "cell_type": "markdown",
      "source": [
        "# Creating DataLoaders based on the task"
      ],
      "metadata": {
        "id": "Q_Ub_Vsu_jFx"
      },
      "id": "Q_Ub_Vsu_jFx"
    },
    {
      "cell_type": "code",
      "execution_count": null,
      "metadata": {
        "id": "44c72fb6-66ff-4156-a84d-4cf6b2e09fa2"
      },
      "outputs": [],
      "source": [
        "labelledloader, unlabelledloader, validloader, testloader = Data_Load(task = task, batch_size = batch_size, seed = seed)\n",
        "logging.info(\"Dataloader ready\")"
      ],
      "id": "44c72fb6-66ff-4156-a84d-4cf6b2e09fa2"
    },
    {
      "cell_type": "markdown",
      "metadata": {
        "id": "C0n3_FDBhgLZ"
      },
      "source": [
        "# Supervised Learning\n",
        "\n"
      ],
      "id": "C0n3_FDBhgLZ"
    },
    {
      "cell_type": "code",
      "execution_count": null,
      "metadata": {
        "id": "h5V9MrOBr4gD"
      },
      "outputs": [],
      "source": [
        "#Supervised Learning\n",
        "if (task == \"super\"):  \n",
        "    torch.manual_seed(seed)\n",
        "    np.random.seed(seed)\n",
        "\n",
        "    #########################\n",
        "    '''\n",
        "    Training the Model\n",
        "    '''\n",
        "    #########################\n",
        "\n",
        "    Model = ModelClass(device=device, num_classes=len(testloader.dataset.classes), optimizer=optimizer,lr=learn_rate,weight_decay=weight_decay,momentum=momentum)\n",
        "    Model = Model.to(device=device)\n",
        "    example_ct = 0\n",
        "    batch_log_interval=25\n",
        "    \n",
        "    with wandb.init(project=f\"Supervised Learning {model_file} {data_file}\", entity='ift6759-aiadlp', job_type=\"train\", name=f'Config_{num}') as run:\n",
        "        for ep in range(epoch):\n",
        "            Model.train()\n",
        "            #logging.info(f\"==========Supervised Learning Epoch Number: {ep+1}/{epoch}==========\")\n",
        "            print(f\"==========Supervised Learning Epoch Number: {ep+1}/{epoch}==========\")\n",
        "            train_accs, valid_accs = [], []\n",
        "            train_losses, valid_losses = [], []\n",
        "            \n",
        "            if ep == epoch/2:\n",
        "                learn_rate = learn_rate/10\n",
        "                print(f\"Update Learning Rate: {learn_rate}\")\n",
        "                Model.update_lr(learn_rate)\n",
        "\n",
        "            if ep == 3*epoch/4:\n",
        "                learn_rate = learn_rate/10\n",
        "                print(f\"Update Learning Rate: {learn_rate}\")\n",
        "                Model.update_lr(learn_rate)\n",
        "\n",
        "            for idx, batch in enumerate(labelledloader):\n",
        "                data, target = batch\n",
        "                data = data.to(device=device)\n",
        "                labels = F.one_hot(target, num_classes = 10).float().to(device=device)\n",
        "\n",
        "                batch_len = data.shape[0]\n",
        "                aug_num = []\n",
        "                \n",
        "                if augment_file != None:\n",
        "\n",
        "                    for i in range(len(augment_strength)):\n",
        "                        aug_num.append(augment_strength[i]*batch_len)\n",
        "                    \n",
        "                    if len(aug_num) != 1:\n",
        "                        aug_num = torch.tensor(aug_num)\n",
        "                        aug_ind = torch.cumsum(aug_num,0).int()\n",
        "                    else:\n",
        "                        aug_ind = aug_num\n",
        "\n",
        "                    for i in range(len(Aug)):\n",
        "                        if i == 0:\n",
        "                            temp_Aug, temp_label = Aug[i](data[0:aug_ind[i]],labels[0:aug_ind[i]])\n",
        "                            Aug_data = temp_Aug\n",
        "                            Aug_labels = temp_label\n",
        "                        else:\n",
        "                            temp_Aug, temp_label = Aug[i](data[aug_ind[i-1]:aug_ind[i]],labels[aug_ind[i-1]:aug_ind[i]])\n",
        "                            Aug_data = torch.cat((Aug_data, temp_Aug), 0)\n",
        "                            Aug_labels = torch.cat((Aug_labels, temp_label), 0)\n",
        "\n",
        "                else:\n",
        "                    # Aug_data = torch.cat((data,data,data,data),0)\n",
        "                    # Aug_labels = torch.cat((labels,labels,labels,labels),0)\n",
        "                    # Aug_data = data\n",
        "                    # Aug_labels = labels\n",
        "                    Aug_data = torch.cat((data,data),0)\n",
        "                    Aug_labels = torch.cat((labels,labels),0)\n",
        "\n",
        "                #print(Aug_data.shape)\n",
        "\n",
        "                loss = Model.train_sup_up(Aug_data,Aug_labels)\n",
        "                #print(loss)\n",
        "                example_ct += len(Aug_data)\n",
        "\n",
        "                if idx % batch_log_interval == 0:\n",
        "                    #Logging into WANDB\n",
        "                    print('Train Epoch: {} \\tLoss: {:.6f}'.format(ep+1, loss))\n",
        "\n",
        "                    loss = float(loss)\n",
        "                    wandb.log({\"epoch\": ep+1, \"train/loss\": loss}, step=example_ct)\n",
        "                    print(f\"Loss after \" + str(example_ct).zfill(5) + f\" examples: {loss:.3f}\")\n",
        "                    \n",
        "            #Logging into WANDB\n",
        "            train_loss, train_accuracy = Model.test(labelledloader)\n",
        "            valid_loss, valid_accuracy = Model.test(validloader)\n",
        "            train_loss, train_accuracy, valid_loss, valid_accuracy = float(train_loss), float(train_accuracy), float(valid_loss), float(valid_accuracy)\n",
        "            wandb.log({\"epoch\": ep+1, \"train/loss\": train_loss, \"train/accuracy\": train_accuracy, \"validation/loss\": valid_loss, \"validation/accuracy\": valid_accuracy}, step=example_ct)\t\n",
        "            print(f\"Train Loss/accuracy after \" + str(example_ct).zfill(5) + f\" examples: {train_loss:.3f}/{train_accuracy:.3f}\")\n",
        "            print(f\"Validation Loss/accuracy after \" + str(example_ct).zfill(5) + f\" examples: {valid_loss:.3f}/{valid_accuracy:.3f}\")    \n",
        "\n",
        "    ##########################\n",
        "    '''\n",
        "    Evaluation on Test Dataset\n",
        "    '''\n",
        "    ##########################\n",
        "    Model.evaluation(testloader, project=f\"Supervised Learning {model_file} {data_file}\", entity='ift6759-aiadlp', name=f'Config_{num}')"
      ],
      "id": "h5V9MrOBr4gD"
    },
    {
      "cell_type": "markdown",
      "metadata": {
        "id": "b0kqxLO29BoC"
      },
      "source": [
        "# Semi-Supervised Learning\n",
        "\n",
        "![Semi-Supervised.png](data:image/png;base64,iVBORw0KGgoAAAANSUhEUgAAAwEAAAK4CAYAAAAsrfEcAAAAAXNSR0IArs4c6QAAAARnQU1BAACxjwv8YQUAAAAJcEhZcwAAEPoAABD6AcvHGlIAAO1jSURBVHhe7J0FuFTV14e33d0dqNgiYidioSiCga2AgomB3YWF3RhYiAoWthjYhaKiYnfh38LA1vnmXc7xG5F7ucCNufe87/PMc++cOefMmdp7xW+tPUmhSBIRERERkdwwaemviIiIiIjkBDMBIiJSK4wcOTL17NkzvfPOO6UtUonMPvvsab/99kubbLJJaYs0Fe655550wgknlO5JJXPsscemzTbbrHSvYdAJEBGRWuGNN94IJ2DgwIGlLVKJXHPNNem7775Lhx9+eGmLNBWuvfba9NZbb6UjjzyytEUqEZzwjh076gSIiEjT4PXXX0+HHHJIuuuuu0pbpBK54oor0v/+9z8NxSYITsD777+fjjvuuNIWqUS6d++etthiiwZ3AqwJEBERERHJGToBIiIiIiI5QydARERERCRn6ASIiIiIiOQMnQAREWmyDB8+PLrgjBgxorSleiiq3HLLLdMrr7xS2vI3o0aNSr17904DBgxIf/zxR2lr1fz666/phhtuSEcffXT66quvSltFRCoHnQAREWmyfP/999G16IcffihtqZ7Ro0en5557Lo4r5/fff4/1Dz799NNUk6Z6f/31V+xL29TffvuttFVEpHLQCRARkdyBIX/ppZemaaaZJs0111yxcM+3335bejSlhx56KE077bSpefPm6c477/yP4f/222+nNddcM47fbbfd0ueffx773HzzzWnKKadMSyyxRHr55ZdLe4uIVB46ASIikjs+/vjj9Mknn4Rc6Pjjjw/5z4svvhgRfJhhhhnSl19+mXbeeedYXOvDDz+M7UBWoVevXmnrrbcOmdEss8ySbrvttjjHxRdfnM4+++xwAKaeeurSESIilYdOgIiI5A6M/FatWqWbbrop9evXL1bQLWeVVVYJI36ttdZK008/fUT6Mz766KP0zDPPhGQI6dDXX38di2+9+eabIRvaaKONIkNAFkFEpFLRCRARkdwxZMiQdMQRR6Tll18+nXbaaSHfqSkUBuMAvPTSS+EMzDbbbGmppZZKk08+efrmm2/Szz//XNpTRKRy0QkQEZHcgf5//vnnDyfg3Xff/ZfcB55//vn0008/RVHxL7/8EpKfjHnnnTetscYaseT/kUceGbUBnGuBBRYIRwDngGLgzz77rHSEiEjloRMgIiI1hkg30W9kL40FDPyePXumdu3axe2iiy5Kq622WkT0u3Xrlm699dYw9NH6ZzUByHu22mqrdMstt6T27dunhRdeOLYDkf8999wz3XXXXWnbbbdN9913X8iLyAYccsgh6dRTT01du3aNmgIRkUplkkJNep2JiIgUoXiWgtjVV189HXTQQWmFFVZIk002WTxG1BwjGOO4UiCaj56/vE0nUf3ZZ589IvVId6aaaqo06aSTpplnnjk6+1A0zD4Y8Tw2zzzzxHYcA+7zGA4ELUA5fqaZZkpzzjlnZAFwJlhrgPeEWgKcirnnnjseqxSuuOKKeC1kMaRpce2118b377jjjittkUqke/fuaYsttohsYkNiJkBERGoMBi3FskTP11133bTHHntUtOyFNp/NmjWLKH12y4zyBRdcMIp3ifLz/4wzzhjFwIsvvng4Cey76KKLRpEvRj3OwKyzzpommWSSNMUUU8Rx7IM8KDPyOZ5t1BiwHZlQJTkAIiIZZgJEJKDQETmEQ4KMi3vuuSftv//+EfXGwCWKjjwG2QztMSspEyD/xUxA08VMQOOgUjIBOgEiEhx44IFp6NCh/0g7RKriq6++ipVwkboQFee2yCKLpDZt2oRERiegstEJaLroBDQOdAJEpKLYcsst00knnZSWW2650haR/4IG/rLLLov2mr/++mtIbVZeeeXUsWPH+P/oo4/WCahwdAKaLjoBjQNrAkREpNFBp53rrrsu9O7UA5x++unp0ksvjU46FM02BpAx3XDDDenYY4/953b99dfHol/V8eeff0a2DNmciEhjRydARERqDAWxrVu3ThdccEFkjsgg0R6zMUEG4+abb07vvPNOFAbPN998afDgwemaa675z8rB5bA6MPtQPyMi0tjRCRARkRrDglhIgTbZZJM0xxxzRD1AY2XFFVdMO+64Y/T0R840fPjw9Oabb0atQ9++fWNBsLZt26b+/funV155JbIeZBCon/noo4/Sk08+GcexH6sOs4aCiEhjQSdARERqDP3yszaZTQU6HFHPQIkchc3Dhg1LL7zwQurXr1/aZptt0qBBg9KPP/6YOnToEOsjIB+iFeiDDz6YDj/88HCKyBI89dRTsX6AiEhjQCdARERyT+bUkAVYZpllIrJ/4YUXpn333TfqIGC66aaLugcWFWMdgR49ekT2gL8sotaYVlEWEdEJEBGR3EPRL7DmwcCBA2ORsJYtW8aaCEsuuWQ8Vs5bb70V9RCsLkxHFhZQExFpTOgEiIhIrkHCQ7QfiQ9FwrRY3HTTTVO7du3SF198MdZuQJ988kn66aefoiYARo8eHX9FRBoLOgEiIpJLHnvssXTWWWelM844I/T9a6+9dlpqqaVSq1atwhE499xz0x133BEdg2grSi0EC6WxTsK0004b2QLao1Is/O6770bdgEvviEhjQSdARERyxTTTTBNrHNDhiOj/TDPNlDbeeOO0+eabR7tTnIF99tknzT333FEMfPDBB4fB36JFi9StW7c011xzpYUWWijttddeadlll4392YfHkROJiDQGXDFYRAJXDJaJ5fXXX0+HHHKIKwZXOK4Y3HRxxeDGgSsGi4iIiIhIg6ATICIiIiKSM3QCRERERERyhk6AiIiIiEjO0AkQEREREckZdgcSkcDuQDKxsIru9ttvn9q2bVvaIpXIG2+8ESscH3DAAaUttcPw4cPTgAEDSvfyQ03NqF69epX+qzvsDtQ4qJTuQDoBIhLoBMjE8uabb6auXbumfffdt7RFKpEnnngiLbLIIqlnz56lLbXDjTfemG666abUqVOn0hbJ2G+//dKXX35Zuld36AQ0DnQCRKSi0AmQicV1AhoHdbVOAE7Aq6++mk4++eTSFslYeOGF0wcffFC6V3foBDQOXCdAREREREQaBJ0AEREREZGcoRMgIiIiIpIzdAJERERERHKGToCIiDQ6KH4877zz0kMPPZT+/PPP0tbK4rvvvou2qb/88ktpS/Ww380335xeeuml0hYRkbpDJ0BERBoVGP0PPvhgdLc5//zz09dff116pHLAoL/vvvuiU9LPP/9c2lo97Ne3b9/0zDPPlLaIiNQdtggVkaCuWoR+88036bHHHove5O+8806NDSKZOCaddNI0++yzx+fZpk2b+DvllFOWHq0b6qtF6FdffZUOPfTQ9P3336ePP/449e7dO62zzjrhHAwZMiSNGDEiFi2baqqp0tlnn53WXnvteByj/Prrr0+LLrpommGGGdIss8yStt1223TnnXfGOT/77LNocdm5c+f0xRdfRJZh8803TzvvvHOafPLJ07333hstGHneo48+Ohbc4rnYj/eW7/jcc8+djj322PTss8+mvffeO/3xxx/pwAMPTDvttFO65557Uv/+/dPUU0+djjrqqLTSSivFufr165fuv//+tMoqq6Qnn3wyWgfuueeepVdb+9gitP6xRaiU4zoBIlJR1IUT8Oijj6bTTz89zTfffGnDDTdMSy65ZJpuuulKj0pdgkGMIfvCCy+EUb788sunU045JQzQuqK+nIDnnnsunXDCCbEAE4tTLbXUUmFoTzLJJOmGG24IQxoje9ppp01dunRJ22yzTWrRokU688wz431YddVVwwBu2bJlOBN8Rz/88MNYQRdjHEehT58+adSoUfH/QQcdFEY+UfqOHTuGI8vxt99+e/r222/jvOuvv35adtllwwDmuniOM844I/3000/xHK+99lpc2/777x+GMufFGH/77bfTVVddFc4IjgnXyvXoBDQtdAKkHNcJEJEmy2+//RZGzjnnnJMOPvjgdMkll4SRgwHWrFkzb/VwW2KJJSICjmE7aNCgNNNMM4UjNnLkyNKn1Dj5/fffQzO/wAILRCSdCP9TTz1V7WqsHPPGG2+kX3/9Na2++uph/HPLmHHGGeO7ucIKK6Sll146HIaVV145tuG0Yui/+OKLYaTznBj8OB44DkDGAUeX/ckEkB3guFlnnTXNPPPM8TiZgYUWWiiOb926dZp//vnDAcBJ4/PidfCca665ZpxTRKSu0QkQkVrlr7/+CoNn8ODBEY3FYEJKIQ0HBimRwV122SV17do1ClYbKxj7ZAIwsJGazTXXXGGkv/LKK2lcie3pp58+DHmkUtVBRqEcnAfkQrfccktE+Fu1ahXSNqQ8gKHP9WTnHfM6yAZw/NVXXx3OGc4Y0doff/wxHidrY1JeROobnQARqVU+//zzMHa22267iGxK5bDHHnuEjh1ZEIZtYwMHk4g8sqNHHnkk7bvvvqH5xwlAgoRRPsUUU4QOnxvGN5IejPppppkm/fDDDyGRYj/0/zUFWdGCCy4Y9QGPP/54XMPFF1+c2rZtW9qjenA8kIOQDUMWhJOMhGjdddcNx4RrwjHjenFsRETqA50AEalVKAKebLLJohhVKg808rStxBidEDBU0TY3RFvO0aNHh3yG2hIKbB944IEo9kWDj2PwySefRNEvmn3kaBTskjkgE4XMB6kO0fwBAwaM1+vHsSADgCOB5vrUU08N5wMHoyr4DSDBImMwbNiwOJ7rQhrH8VdeeWU4Ksh/kAtdd911UY+AQyAiUh/oBIhIrYIh0759+zrvRCMTBtIV9Od0spkQPvroo3TYYYdF4SyaeKLz9QVyGzT1nTp1ChkQYGxvsMEGUWiH0b3MMstEZyAKoDH6KXZfccUVYz9kUZyDyD5OAbUAROmR53DDyGdfugGxz5xzzhnnat68edQA7LjjjnEM7yFFv9QloPPv0KFDOB8cTwYMCRzPzzn5n/eIGoTddtstnCeyChTlzjPPPFF/sOuuu4aciOfjvDgMIiJ1jd2BRCSore5AGDu0QsQAk8oDg5QIOsXCSFrGl/feey9169Ytil/phtOuXbtof4kRW1/dgSaETz/9NNYUePnllyPyjhyqV69e4VTkDbsD1T92B5Jy7A4kIk0SCiCJaEplQiSc/vjVSVmqg+j3DjvsEMezYBeG9EYbbRQORSWvAYFTSnvO0047Lfr44xDQDUhEJK/USSaAdCidQaTymdgiNDpy7L777tHqTioXDLezzjorZBNVUVuZAFofos2WyuX555+PwlQit1VBNgfZDxH0MaEFLLUB5dMHUpz11lsvdO6VmAmQ/8dMQP1jJkDKadKLhZEeJsqCRlIqF/SrExu5o0MHBW0UuUnlQrQW/TFFoVWhE5AfauIEENnH0Gedh3KQE1FYS6tRHkdnz61Hjx5pk002CeNDJ6Cy0Qmof3QCpBzlQCIi0ujAwWPlWwpfcRhZTRfDL1uhty4gG/Hxxx/XqAiZuBYddsanaJl+/exPC9GaQLaDrj9I38ohQ0LnJZys7Pbuu+/GYmXVwTVzLo4XEakvdAJERKTG0GOf2957750GDhyYjj/++DTHHHOUHq0baKtJS04yD+MCAx0nhTacv/zyS2lr1eAoIGtk/6FDh9bIceD1H3jggemOO+4obfkbnI+99torWpb27t07nXjiieEcsbZAdQY+Ds5ll102XmsXiIhMLDoBIiJSY2iJedFFF4XcgNaZ41p9ty7ByM8M/ssvv/xfcguMbuoaaLl55513xhoDGPgs9HXeeefFMW+88UZp7/8HJ+LRRx+Nx5G1kiEAHBDWJEBG9fDDD8e2qkAaddNNN4VUku5DrE2Aoc/13nzzzXFu3kOyBqxjcOmll4aUhmOo0+J1ZOsJIK2qaYZCRGR80AkQEZEaQ199euyzAFdDQ3cimhIgQ6IZBStVs/IuIFvCEcCoRyf9zDPPRFtTFhHDqCaaT73DmPUrrObLeaiZoh0qEX0i/CxSxnlwJjh+bA7EmLCmwBprrBHtSHkenAuugSJq1mnA0Od6eS7W1eC95ZpxWnAYeJ5+/frFc/M6RERqE50AERFplCy//PJpq622Sm+++WYY70TWM8kQEiUKlSnAa9asWawePGTIkHicdQ322WefMMA5JgPDmzUUMNJ5nFaoFNBy/qeeeiqK6/fYY49YBCxbrKw6JplkkjDuyUDgCLDgGN3zcFy4XtZV4HFeB400aLU6++yzRxevxRZbLLIWw4cPT59//nmN6xtERGqKToA0CZAE0PkmiwJWB5MpGl20ukywNWmQReEg+19zzTU1isgRLUQugY5ZRGofIubIbVitd9NNNw3juhyi6hQvcyMiT+EtMhui7KyYvOaaa6bXXnstVkDOIPJOZ5X+/funJZZYInXs2DEi9xjhjAHTTz99RO3JPLDWwvhAcTBSIBwTjHxaK48N5EB010F6xD55W8sAeRQ1FXwGNYHPhfbHhx9+ePr6669LW6uHzMrKK68czp1IntEJkCYBkzcp+7FFyzDy2c6N/7nRGpUJg+hc9lg52TGZg8D/7M/zlG8r3wey4/7888/Yf0IXZBKR6sEwv//++6OtbevWrdPMM89ceuRv+C1mN2CVYFY1xrBHGoTWH8dgt912i8cB455IPNF+nAF0/AQKNt5444jqM8YwZkD5774qGAe+/fbbiPYTPKCWgIXKyCRwLWODTktPP/102nfffdMyyywTTkee4H3CEWCsHRvZuMstu897zGfJsdwv/2z4P9s/285nyGebdW0q3ycj28bf7DiRpoZOgDRpGOT79u2bWrRoEen2XXbZJY0cOTIeI4LUp0+f1LJly4gKDRs2LCbtl19+OW277bax/zbbbPMvuQAw0SAZYGEkZAb0S8c4QGNMwSFtE7t16xZ6YicPkYmH3xEONb8pWnMS0SfCz++PqO5zzz0Xa5ZgqGe/OSL+yH8wqJHVrLvuupEBIEtH606i8kT7y7X9rHew1lprhVyHfVgrgXVvMDJXWWWVuAY6CHFDzlMVjDFc50svvRSFvUiHWrVqFRIftnG7995702STTRaGJk4CmQ0ck9lmmy0KrnlNjDNkIhiX8j6W8D5RR0EmhfeRMZvPNXtfcNoY31kYkc5VSLsIxNChiWL2tddeO74TmRMHHMt3iixyJsfinMwb1IUg09p+++3TnnvuGU6DSFNDJ0CaNESUmGCR8bAwDul/jAXAGGCC5z4TNA4BxXt06WAiQQO85JJLhhNRHiFCPsDiaDvuuGMYCkzeV111VUzW3D/hhBMinY+TweQtIhMHCy0R+T/00EMjQk40HYOZKD6Rerr4IJvBMASMvv333z9af15wwQUReee3TpEu8iGKg1kwi98tOn2yCBQ7E51nv7Zt26ajjz46ZIOnnHJKWmSRReIcyI4YDxhHMDTnm2++eL4MHBOugQwF14mEkNoEugWxLzUGOAcYpowtGKYYohib1BtQhIxjsPnmm4fEEWeBbADnzTvUcjCeM44TbJliiilirGb8BTImfNa33nprFIlTNP7YY4+Fk0eXKIrAccjKV8Am2zBo0KBwvCjaZsFEvktZXQlzB58dcwNzgkhTQydAmjRMqEwWTAIY9eV6fqJzTMwUAa6//vqhD80kABQDZm39MPqzSQFnAEcBA5+iPlr6ZTpibsDkPvfcc8fEXgkdVEQaO8hz0MhnN7r0EJknus/92267LQzoAw44IBwADP3DDjssHXHEEdHLn8wchjTjASt08rvlOIxwsgc4Ahh7ZAyRDXXu3Dkex8hkG7CdSDPPxQJpOPvIhMrB4D/ttNP+uU5uxxxzTBiZwDVjiHI7/fTTQ8eOg8E4RKcg9l922WXDweB/gg3ctt5663j+PEMrWjI1ROoZzwnilIMTRZ0G4y9BHRwoHETGcN5LMjeM5WQHsuwBYzfjPgu64TzwP1kmsrrA3DDvvPPG/yJNEZ0AabJgsKP9pXgQiQ6TLvKBccFxpJKZZJiQ27dv/y9jngmECD91BTgDyAeIHGJgkGpmu4iI1B5kfnD+GJtpuoADOC4Yy5H2MJbjiNFJiuAPjl8G+zBus8+CCy4Yjl7e6jAkv+gESJOFgZ4JgOgQxjwRJKL3GUR9kAug8yVtvPjii0cUkYmA6Nyuu+4a8gAmiSwdTzRq/vnnD/kA0Sa6d/AcbOc4HAE0pmQSKPArzzzI+IMWm8WeevbsGXKQSgQDgjoSoolVwXeIqCTfOYwYjBkivHx3RGTcEHhBnkMdB+MCcp9yyMQi9eE3RhaAwA/ZWAI/ZFLIwvA7LDfw6SBF/QWSK4x/6gKQF5FxkJrBnErmCgcru9GOd0KlsHyO1GFQl8PniRSLYB6f3djgeajnY/xlLEbmx/jq2FozdAKkyUC6l+jQiiuuGAWArCDKhMEggdaTdp2kdmnBh3FO6p5CM3S+6HQxNNF9MmEQdWrTpk1oe5lIysHYp884ml2eh8GK4mIcDeQB6FWRCmTyg6YG7+ftt9/+rwK7uoLPhQEdqQQFoJUGWSGcS1Z/xTCpCl4Hiz4xUeEw0iKSAkflYtLYoFEC3/kJNfJqCrIqxnJujN/IMAnUUG9FvQcBGgqws5oAxnRqMDAgaezAbwy5F0XEGKbHH398jPkY/hm0fKX+AokQv8fLLrssnq/Sf5fUORB4qOvPoCbQlYlxjc8I+R3SOoqqCYRNCLT5RsLHeEqnLuZnJF7l2ZtycEIYW5FxMbaSleezd2ytIcVJrNbZbLPNCsUvRemeVCpFI7X034QzZMiQQpcuXUr3Go6iQVooDh7/3L7//vvCL7/8UigOkoWffvoptv3444+F0aNHx76///57bOfGvmz/66+/4lzlx2Tbuf38889xLBQnnDgf+7A9g/P+8MMPcRw3rqESKE6chSuvvLJ0b+y0b9++MHz48NK9quE1zTzzzIWVVlqpMGjQoEJxEi498jfzzTdf6b+Jg/ey6MgVtttuu0JxEi8UnbR4bt77++67r1A0BOJ6i05doUOHDoU+ffrEcUUDpVB0xgpFp6xwwAEHFIqOWuHNN98sXHPNNYX11lsvjltooYUKe++9d+H0008vzDTTTIWOHTsWikZGHP/SSy/FMTPOOGNhn332ie9CcdKN4w499NDCqquuWmjdunWMcV988UVh/fXXLxQnnDj3888/X7j55psLiy66aBzfuXPn2G+//fYrTDHFFIWiU1ooOlCF4mRZOOSQQ+L18H254IILCossskgcM3DgwPi+Pf300/G6jjzyyELRES3ssssuhc8++yyucWIZOnRooVOnTqV7Y6fo2BR69+5dulczRowYEeO/VDb8rnr16lW6N3707du3MMsssxR23HHH+G5n4ybccMMNhaIhXro3YXC+bPzNbvxGGA8YfxmvszGW/Riv+R1xPxuTs3Gac/FY+TmAMYTzcGz583E824BxjXNm9ycWxpza4tJLL43PgDHh/fffL239G8a5osNTulf3PPbYY4Utttii8Mwzz8T9V199tVB0BAr3339/4YEHHig0b968sNtuuxWKTlbhySefjPFszjnnjHGXsRreeeedwjbbbBPjH+PsVFNNFedj3OY+8wyf2WuvvVZo1qxZHMucwHi7++67x9jKczIvME8cffTR8bnzGZ9xxhmFBRdcMM599913x+eN3VJ0FAuHHXZYYZlllinssccehaIzE9dSX3Tr1q1w1113le41HGYCpElAmrj4I//nRrSHQjoiA6R/2UaKlz7g7EuUgO3c2JftWaSh/JhsOzci+xwLRPg5H/tkUiHgvESXOI5bUyzm4zUeeOCB0SGFFqpE0Oh/Xhxw/ym4qw2IzhH9Lxrd8TwUdhMNBKJ+xUE+ImE8Z3ESj4gg0SOiQkT86PqB/rc4kafiwP/P4xSNErmn/SKfIZkczlc0viOaRO0I0UFkBUQaL7zwwjie1DSfNzUmFH5TbMjz0K2kOAlGYSqRK7JItH8ki4TcjA4zyMaQl7EPUaqiMRLXz40CdKRC7E/BaHGCDzkDr433gGwWXWzYl+5TbBdpKFZbbbXoskSLVaK+rKzMd762aqEYa7PxN7sxpjLuMP4yXmdjLPsxXjPOcj8bk7NxmnPxWPk5gPGb83Bs+fNxPNuAhhKcM7tfSbDQHeMiBe7ImehERdFzJdSjMR5ncybjKuMvWQKi+0TtGYPJJDHOURjPNsY93nta75Yvjse4y7jHeMn4SxaIDlD8T8cw5geK+MnMn3vuuVGfxzjPMcwJLDjH+0LnJ7LXZJcYkxlD6TRF0T/dvshacE21OX81FiYreozHl/6vNXjjScmM74qKUr/06tUr2uBNDBhNGDAUz0rlgiFK2paBlgF0bDd6aCOHYvAc2+PZ7bPPPosJkkGdwZZBlpaLtEjFYEUmRfeUiYHBGCeD68bJQGpFRxCuj9Qw6WdkCdRl0MEDQ5rn5nGMewZ3pFq//vpr1Htg+HOd1GtgjDMJMPkg/eIYHAwMeN4fZGXUhGAAoE/94YcfQl/MhMN1IP1ismJiYpEq9uE+0gNqSihAxEHA4KeOAVkZnUvo+86Eje6YtrRcAwYVxj+vAecA54JrYVJivyeffDK2I0FjwmfiY5KcWJkZnyGfN9czts+YGzpcDCcMvpqC08Jky2c0tnN6q4wbziRGEN/VsT1e3Y3fFI4zjiq/Af4io2Hc4DGMMLqtyb/BSF199dXH+p6O7433PZMEZZ8BWnjGYxwBjGfWsakPGFepzyDgwneAeQHbjxW8CaKwVgdOCs4UcwMwzrEvYzNyW14HYy7jKU4bQQ/GaQJsjEPUdfDd4nXiUDCesqbDSiutFM/B95mxmXGSegScPeYA5gKuC5kwz4kz8N1330VdH+M5YysSYQI71IUwzuO81Ac4Poy/zFsNySTFybbWXR/6LNNrl0lMKheiHxMbOcCY4QdEkaNULjh8GH219Zsk6k8vbiagLOqD9pZFd4jUZBH7CYUJgpoOrhlNKMYK3zOM4FNPPTUMah5jER8GfvqvM+6wL4XE6Hop9OP7SZyDdSKo/6DlI99VjHP6v9NGksmCehAGZCYB3itg8mDiIuKGgY+hw8SDUU+feiKH9HsnC8KiUkS16BbFeZmo0CWzkBx6ZK6H94UMA8dzTUxqPD81JDggRFRxDPbff/+YENmPyBU6ZyY9sgmdOnWKyREnbGJg0uS6iChWBXUMTOTj49BhHLIiL++jVC44gRjr/J4mBKKpOP0Ym/xGMLr4LmFQcU4itvJveF/Gx6EeFxjOOALZZ8CYQCSc7CROOB2U6gMCNbTmZYxmHOPGuMcYwBxB1pjAAIEOxlkaZjDW8p1hG+MQjgPHcx6CKnyXGFd5HOeJNToIyuDoMHaWjy8EYKgZY6ziOOoScCQoVmbMZSzlepirunfvHk4HYzrHsC8OC5kEHBXqSerLCeBayCDTsrhBwQmobawJaBw0pZoAqZ6a1ATUlKKhWhgwYEBhuummK0w22WSFovFfKA5ohdtuuy3qI2qjJqBoTBaKhn2haNgXisZ1aDzRfrZs2bJQNOwLDz74YKE4sIduFD3p4osvHrp6NPPo+IuGa2j8ixNI1C68/vrroYMuGtaFDz74IPT2RYO8UHQMQgfM9Z9zzjmFonFT2HnnnQtXX311aIR5neyL1p19brnllsKoUaMKPXr0iGsqTsBxLdQUPPvss4Vbb7019K/UEBQdldDyc67ihB3Xj7aV5zv44IOjTgAdatEJCN0r18tx1AHcdNNNcW28fp6fa95ggw3iNRSNt9K7NOFYE5BvJqYmgDoYvstFQyt+/0XDtlB0iuN7WnTUJ7omoKlSmzUBI0eOjHFmyimnjM+gaPwWikZ/jIeM80VDubRn3TNmTUA59957b6HokMS4xrh32mmnhQ6fcY96rv79+0dNAzVSjOcfffRR6PaxTTgf4zbjLnVWjM2Ms8wzjLtFJ6Hw0EMPxThJ7RU1CDwH4yrjK99T6gF4vs8//zzGprZt28YYzpid1RRgq66++uqF66+/Ps5bX1gTIFKPEFk+66yzIiKQ3Yg0V9fRBdA0Es1A1yh/w3uCbp4ICtEWItlEz5GElddHTChEw5Ht8Jfzn3TSSXFj0SUyGWg3WVyJ5+I6iO4T+QGiSaTBkRLRoQnJT3Gci8dqAtIgIvBkGYjUUFeQnbsqiLwRVaUjBtfMjWslG0q0i6wJMiMidkSmyEiwD5CN4/nIKhDx530k60DkS6QSKRr7IbMgokpWjq5ryEqRtmWa+9qC3wz1NYzXRG5p5wxk+FhADskd3d5qAvInfl/I/aoaE5CzkX0julzJEH0nUk6Gkes955xz4jMgwl3bn0FtwVhH1Bv1AdmBorEeUkvmESLiSJnIBPD9Gtvng9SSLCO1BHwf0PIzjjLmM/7yPSRDzHcGkDKSuUU6SZaW7yrSUqVq/0Y5UI7JkxwIYx/JCGlSjFUGewrb6B3NZMKAMTbQoWNkkpKkJV1jhckPSQlynYmFtCpymKx1G+nf8hQqesuJkQMxJFG/wKSdregMOB9IVDD+eS08B7IGnp9rYjJgXyYJ5Ao77rhjOAMYEXxHmRzQ2pOKZtKgmBEpEZ89NQakm3k+JD3UGzBB8Ty0JWSC4vn4DrBGBLUwTC6kmnmM/ZH3cD6+azwP58OBYP8555wzjkGGxPmy3x1jJK+X14G2lgmc6+MYtKtsY/Kj0JFCZc6DtnViU9bIgc4888z4blcFEiec54MPPri0ZdzgdB1yyCGhd5XKBVkF31GK2scXnFikKDirfJeZRzL4PiH3qC05EEYewRtkczj3jMNLL710SP6Qu1D3g/PN725cEFhgTGBlaKQjY/sNMSYgDcFARc5XmyAHYgyoDZh3+a0h/+EzKA++0FIZSU19yYEYp1iVmc+AYEY5OGiM2ej1GQ/5PHkPqGtg3KO+igJtxmPG4C+++CLGYMZJZJqMh4y7OAqM84xHfPfYn/EePT2fI8+Rje2M38ijGJsZ83kuzsG5KGTnGhmjGXO5ZmRUvJdI2ZCA1hcEmZQDSYNCym1iaSxyINpI0qKsaNjE/aJBGdKN4oAfacbiYBHp8QUWWKDQqlWrSA0+9dRT8X9xkisUDd6QnZCKZBv7IbGhBVljoDblQEDalfdsbNSGHGhCKToDkWItOndxHcXJI1LJxcmntIeAcqB8MzFyoKIBFu0Xx0ZttAgth3GaNr5F4yzkgYMHDw7ZHJI5pHK06i0a7jEOI/2jLTBjM60pAeneCSecENsY64tGYkhQGLuwUTgHjyEZ+frrr0N2VzSsQ45X29SmHOjXX3+t8jOo7xahMmEoBxJpQIjiEgUgIkt3AToQINtAakKqETkIEg6KNekgQHSF6AIRA6JdpKZJyRJRLf6OSmfND7w39VVANT4Q7SGyQsqf6A+RKArP+OxEZOIhcjouiVxtQ2aM5yXLwBhNZizrfsMYTtcZitIZt8lKEwVnrGYcYGxHOkIWgMhwdgxSQs6B3JNoNtI/snqNAV5/fX8G0jRxZhQpQoqZzgB0HiCVPabOFIOXdCGaxFtvvTW6CiDVEJGGgTodDD9kAJXqiCNTQ56Q1YCMC/bDec207/I3SDiQfiARpE0kkhFkJEDwBqnPAgssEBIRJJ5IEmkbTAcj9qV+geN5HJCk0CKS+3w+OBhIRPm8RPKEToDkFgZ8jHuix/S5J1JE4RCLQ42pMcXIoFgMHR+TDzUv6OFFpP4honv33XeHppgaBOo3Kg1qWChUHDBgQBiqNYH9unXrVm2tRh4hc0sQBn03dVpov8lGAu8z9Tjli4Fl8D3BWRzTCWMbunkyumQN0KNn5xPJEzoBkkuYNEgXU2jJ5EJUn0K3lVdeOf4fc9LGCSDiSBqWYiwet2OQSMNA9JYuIjji9EqnMBAw+iigpnCSfZB34CywDUOQgnGkIfQlRwZCkSu/Y2QjLDJElo8gAFFiztGnT59YsI2AAefmeOQm7IPhyLhAESP7ci7Wo7jtttvieYlC05EEqQrOAEWN/KXgms5kWSaRfVk0iedCYij/BTkfkX4KOvmsCdJkEj+Md8ZxCj1xBiku5bNn3RIaBXCfG8dmch/GfMZ7utSwwjiOJNIgildF8oROgOQGJmxSxCxYwgJIRPZZvInuK3SZYNImKsTqh2hGuZFKJnXMolBkAOgOg1yI6B7baxrhE5HaAwMaI3yvvfaK3yi1ORj5GOoY2kTSMfow8Fnkjd86Mhs6ybAiMwYjLQUZD/gN0ymM/diH9pd0o0FqRKAAo52/dICiyxTSEx5DEkhkmvuZAc992sAOGzYsriW7Jv6iZceBoPMV/9PhBuM0cyw4Pw4Ff+W/MPbi9BGoofNLBhkA6rZ4n2klTDchVojdeOONY1ynIwxjNs5ZFrjBaWDhPbpY4QjgqFViNkmkrtEJkFzARIGBT+s3Jgb6B+++++4xWVBgxTYep70tLRFpgUkkCX0pBWT0bV9hhRUiYkTtAG1FkQSxbHklFsiKNFWyiD7Foq1bt47MHNF6jP6qQDKCk4+RjvFH+0fav2YgI+E+22nbRwCAMYLVmYkeIx2hwBRDkd8+gQQcicxg5/y0gOzcuXO0M8QRof3rGmuskVq1ahX93MkUkEnkWCQ/ODJkKMhoELFmxVLa7nK8/A3Rfuqw6IXPeIwcE0OfrABjNv/zufH+7rbbbvH+8RnyGfE+8hmwAvfOO+8cAR/kPxxHDQD3+Rw6dOgQ65HQkpL2u2Rv+E6J5AGdAMkFDPqrr756rBGQ3dATZz2ucRLWX3/96CzDJMHEnfWdb9u2bUwYRI8w+jk2izRRgCYi9QeRe+Q6RIXp642hTUQ9kwSNDbKARIHJ5mHoISHBichgfOC3Tr91ggIsAMeYwP88hlNAD/n77rsvDE3GBJ6P/uiQrQXB8dzGlAoiT8GRuP3222NRLfrUk00g84BjwXNlN55b/oYAC8Y/0h0+u2bNmsW4na3pseaaa8YYjhNHnQCfC4vvZY4UtQT00WfMZiEtHuM44L1mrOcxAjw4aJwXBwC5kEge0AkQEZFGw/Dhw0O/z4rQGN4472j6MdDR3VcHxjgGOtKR8QEDEcOSIAE1BkT6kSORFQSMTW5VgaGKnIUsBLIhnBhuNCIAut5kenURkfpCJ0BERGoMBjSF9UTX6xsi8jgByy23XEiCiKKTGWDl20cffTSK94n00/edyDvae2Q8RPOJFBMxpn6AugAKQmsK0X3kIjgQ1ABQCLzMMstUq9/POo9h3CNhIrtI5oCMAgXISAxpS0lkm9fB66L9JUXCIiL1gU6AiIjUGLTs1MNgsGK81qczgEGNgY98AykQhja6cWQdSPWoC+Av635Q10OBLlpxJDZI9+gXT9EwshykIUT4cRDQmHPDaGdfpEb8TwSf/vJkAZAdIQuk8PSUU05JV111VTwPPezRniMn4hjkJzwXjgNFrBj9dA1CjoKEkLokHJBzzjkn9iWTgYyFgmKyBOjecWREROqaSYoDeK2P4BRXMkkwMErlwgRHZG1iICJGxwy6W0jl0qtXryig69KlS2lL3YEBhNZZKhei4WeeeWa1/ejpioO8hkL5cl577bVYhRn5C0WYGLFEuRlP6KJD8TxdVyoNNPgY2mjBaTGJrIffA4WheeOKK66IrAkZlNqE7xOr+tKNR/4NheN0lKtrrr322siC0ehCKhecfZoQIDFsSMwEiIhIjaGlLl1zkMXQnYXuK+jzH3744YpecZVIPwY/BaYjR45MW2+99T+afBGRPGImIMfURiYAbW2PHj3SsssuW9oilQgGG23w6EpS15gJqHxqmglA8oL2fUyQuCBdQeuOHAdZDhIddO5EgisxEyD/j5mA+sdMgJRTKZkAnYAcUxtOAIYAi+6w+JZULiyGQ2vCXXbZpbSl7tAJqHxq6gQg/Rmb40gRLoYeBcLIgnAEdthhhxj7WZBLJ6Cy0Qmof3QCpBydAGlwrAnID/VZE0AhJV1Z6MUulQdDPgtX8ZvFYK+KqmoCMB4xMDiWTkEUyx511FHRz53uN4ceeqhOQIWjE1D/6ARIOdYEiEiThAV9WAlVKhNWt0XOQ3HshMCxdLdhoSaCADfddFOs2IrWvq5Wzz766KPTgQceGH3+xwV1Ceeee27ac889x7luAODIsGov+1PXUJM1BL755ptwfvr27Vva8jc4QVnXIYIsdAii9oCOStXF2+h6hGHOfiIi9YVOgIjUKqym/MADD4z3gkxSP2Bw0juf9pUTAhHNQYMGpXvuuSdW4a5ukay6hpoEnJIRI0bE4l3lK/Xy/fvss8+iY9Gnn34azg+GOG1E6e/PMawxMCbsQ5Scx9kvOyfP9fnnn6c33ngjViiuDlqCkmXFqGeF2t69e8cxnANHgXPTrYgWq0iq+vfvn26++eZ4Db/99ls8JysSsx+vgWsXEaltdAJEpFah5zkruFKMLJUHnw2GJZH8CYE++rQFJdrd0CA9OfHEE1PPnj1T165dIyuRrbzLKrxIFelehKQJZwBD/JJLLon9ScefccYZ/3EEkGwgZ6HOiWJ6ZE9kIHAIkM/Q53/AgAHpq6++Kh1RNbPPPnt0JMLQ5/fANSDNo41q586dI5PAdhYIY/EznAccjTvvvDOyH1wj+3KcTrWI1DY6ASJSq1ATsNFGG4UBhrEplQOLZ1ELgCE766yzlrY2XpDlsBhYVrz84IMPRqQfiJ5369YtOhyxkNe9994bGSqMboz/yy+/PFbuxZHIQEp02223RST+lltuSUcccUTUNxD9HzJkSCwshhPRqVOnf56nOiiYpjaGa8GR4Hp32mmntPPOO4d8imvicRwFnDIMfxZBQ0aEA9K6detwSrhGswEiUtvoBIhIrYIWessttwyZCDpnZA9GMRsWJCb33XdfaOXJ1GBcNnYwioniI6Wh7z+LgJWDDIeVfmeeeeaof6BYEnkNNzqa8V4gzynX4SPPweAn8k6xM1kA6gqQ8BChp7h+ttlmS3POOWes9js+8Fycn+ulexYrDY8NPiuej/oEXiO/JxGRukAnQERqHYwk5Bn8Pf7449M555wTHYPKNdtSt2B0YhwTbaao9vbbbw8JClHspgByHLIaZDRofbvGGmuUHhk7FC0jYcKQX3vttaOLHY5A+XGTTz557MOCaBtssEG8V3x/s7USRo0aNV4LouH88p3nvByHA0CUn8XWkFSNDZyQPn36xCrMZDgmtIBbRGRc6ASISK2DDIJILNIHFpMjoonOep111gmDylvd31q0aBFGLMY/BbyHHXZYWm+99dJUU01V+pQaNxjrGNdE5tHcDx06tPTI31C4TNQfRwi9/fLLL59atmwZGQP+ZwVh2iiWt0nmMRY9w3hfa6214vwY5GS1iPyTDeB8SHSorRgXRP6J6POeN2/ePK6ZOgEcEtZYGRvsg2ODTIgsGhkMEZG6wHUCcozrBOSH+lwnYEwYYjCqiEwrC6pfMDZxyLIFvcaHqtYJqA5kNBSy1vY6AZyTbBKafMCAP++88yIyTxYAyQ+OD4Y6WY/BgweHkc7r5lr43hPRxxhnrDrllFOicJh6ARyl5557Lopyt91227TKKqvE74Xnowia/VkJGU3/6aefni699NLUsWPH6Di01VZb/es3hYyHGgUMfJ6b7z6tRM8666y4Zgp+t99++3AuVlpppTT33HNH3QGGP9dBFoC6BQqcqVlg7QUc6D322CPts88+tSYNcp2A+sd1AqQcFwuTBkcnID80pBMgjZNKcgKkdtEJqH90AqQcFwsTEREREZEGQSdARERERCRn6ASIiIiIiOQMnQARERERkZyhEyAiIiIikjN0AkREREREcoYtQnOMLULzgy1CZXyZkBah7777bqyE+/XXX5e2SCUy7bTTphNPPDHtueeepS21w8033xzrJMjYYa2JusYWoY0D1wmQBkcnID/oBMj44joBTZe6WidAGh6dgMaB6wSIiIiIiEiDoBMgIiIiIpIzdAJERERERHKGToCIiIiISM7QCRARERERyRk6ASIi0ugYPHhwmm222dJBBx2Ufv3119LWyuKDDz5It99+e/r2229LW6qH/egYctlll5W2iIjUHToBIiLSqPjll1/S008/nSaddNL01FNPpY8++qj0SEqjR49O33zzTfrzzz/TX3/9lb788svYRjds+rR/+umn0R7zq6++CqOb/b777rtY2+CLL76Ic33//fdxjo8//jiNGjUqjs2O/+STT2If2qcCDgj7cq7PPvsszsHz8vfCCy9M999/f5w/ex7OyTl4DcC+HMt2/v7xxx+xTUSkrtEJEBGRRgXG9ssvv5wOOOCAWPhq2LBhYThjQN96663R/559MKp33333dNttt8X/rF+z7bbbxkJZ3bp1i784BKeffnqc66ijjorFzg499NB03nnnxb7ZuXAaMOp33XXX1KFDh3TuueeGs/D888+nnj17pjPPPDN6f2+33XaxaNpLL70U13LPPffE87/99tvp5JNPTjvssEPaZptt0lVXXRWOBNmCww8/PI4jA8B1iojUBzoBIiLSaMDYZ1GyySabLG2++eZpzTXXjGxAdauxcswrr7yShg8fHoufYXSXR9t/++23NPnkk6ejjz465EVDhgwJQx1Dnwg9TsZjjz0WhvxFF10UCyRye/XVV+N4sgVLLLFEOAnTTTddHL/66qunzp07h3G/0047xcKKOBKDBg1KZ5xxRrrpppvSa6+9Fuf9/fffU58+fWK13c8//zzOKSJS1+gEiIhIowFpzwsvvBBG98ILL5zWWmut9M4776QPP/ywtMd/QYqDLGjqqaeOY2afffa0yCKLlB5NkU1YcMEF08wzz5xmnHHGtNRSS8UK2zPMMEMY9aysjgPA7dJLL40V0nFCcBCA4+acc87Yf6aZZornKueHH34Ix+W9995LvXv3TjfeeGNcE7Ii5Elzzz13mmuuueK29NJLl44SEalbdAJERKTRgMFP9ByZzR577BHRegxsto2rQJjoP8b3+ELtAZmCWWaZJS255JKpVatW6bjjjksrrbRSPD7VVFOlaaaZJk0yySRxf0yy4ylkXmaZZcJxOeSQQ8LZAGRFZCNEROqTRuUEPPTQQ2nTTTdNq622WmrdunW66667So/8Gwq47rvvvtB8ouUcG0wGL774YmhB0ZaWp4ZrAoVgJ5xwQkSEsgIxoLiMlDLXmN2OPfbYcU5OTExoS7kWERH5LxjKjJFE24844oiQ7hxzzDExLzDmo6fnMaRBjMtkB9DmY4DPN998cTx6fSL6d9xxR+ms4wYDv3nz5uEEYMAvu+yyId+p6bwx/fTTp+WWWy7Os/HGG6f5558/5EA4D4suumhkDpABkRl47rnnSkeJiNQtjcIJoNiLwqorrrgitJx33nlnOuuss9K1114bukweL4doDE4CaVfSq2ODyAwD+T777BPpV+6PD2g4mUxI5ZZPBGwnqkPh2C233JJuuOGGKPyiuKw6RwC9aq9evSJtXGm8//77oWfltYlIvqHrzb333tsgkWu66zzxxBMxrjPGr7rqqhFoadu2bQRS3nrrrYjOM56vu+666Zprrolxnjlh+eWXD50+YzGBmRYtWpTOOm44vk2bNqlly5apffv2ae211w6dP9KiqsgM/JtvvjkCQ2ussUbc53ooDt56663jeBwY5iDuU2+w4oorls4gIlLHFOqAzTbbrFA0kEv3Jp6ioV3o1KlT4bTTTiuMHj06thUnoEKfPn0KG2+8ceGFF14o9OjRo7D77rsX1ltvvcJBBx1U6Nu3b2HNNdeM63j66acLrVq1KswwwwyF4447rjDHHHMUXnrppULRsC1079698PjjjxdefPHFwqyzzlq44IILCsVBuFCcXArPPfdcoTixFAYPHlxo1qxZHL/BBhvEOUeOHFnYeeedCyeccEKhaLjHNcHnn39e2H///eM8P//8c2zj+iabbLI43yeffFLYY4894lyLL7544Y477ih8+eWXheIkVph88skLK6+8clzXoEGDCssss0xh+umnL2yyySaF//3vf3Gu2mTqqacu/Vc9d999d2G66aaL116cgOMzKDo+8diQIUMKXbp0if+lcjn55JMLV155ZemeyLgpGqSF3r17l+79P0OHDo1xqWjUFu6///4Y/7LxYMSIETH+VyKM+cwRRaO88P777xc6dOhQOPfcc0uP5ovLL7+80KtXr9I9aUoUHd/C8ccfX7onlUq3bt0Kd911V+lew9EoMgFE24vXmhZaaKFI6wKRngUWWCA0lkhwgIj8gAEDIgMw5ZRTxjbSrBRh0UGCiHzR0I/tVUG0m77OpHyLzkHIiUgdE80hA8HjtH0bn6g4RWNEf0j1cg2c+9FHH41IFufltdCqjkjT2WefHZpTuk0UHZlIGROJHzhwYOls9Q8RNDpl8H5wzbTIoxtH1g9bRPID0eui4x/Fue3atUvbb799SDWRs1TyeEAUniwBrT/J1M4xxxzRvUdEJK80mpoAUqt0achkO6Rn6ejA32zRFbpFoL0sB+0+utDFFlss9Jgrr7xy6ZGxw35TTDFFnIdjOT/FW08++WQY6GN2fRgfuPZMnoSBj/ZzbM4E18lES9qb/UiB1xVIlsZ1e/bZZ+M9YYLnepFm4Qwcdthh0XJPRJoejENIHsccDwhgEGQhMMN4gDQIScv+++8fdU2VCp179txzzyggph4MTT+dgERE8kqjcAIYvDH0WWUx0/9jkBKlp/iLbEB1MGFxw6AfF0SHyqHrxGmnnRbPi74ULej4wrXjPNBSjhoBCpqJQLGIzZiTEBMr9QFEq3B8LrjggvHSro4vGPg1uZHB4NqAv9n7X1XhtYg0blZZZZUoYB3beEB2NIv6Z+MBmYCsZaaIiFQ+jcIJYCKiWIpl4pl8mHSQ1jzwwAPRsYEey1WBA4GhTX9mim7Ht/MC/aE5BwVorCw5dOjQ0iM1A+eB627WrFlkKoiccc10sCAaNbYFbnAakBDRho4sxogRI0qP1D4sWjOuG6tnUriGFIsbjhCF2ThHG220UelMItKUoJUlK+iOOR5Q5Mp4nI0HOAunnnpqjAkUzYqISOOgUTgByICInK+wwgrREo4Wa2hS0XjS3ae6lC4LuKD/JHpF9wV07OMDhjuLxtDTmY4STHrUIFRXE0CbOro8sJolXSvQz7NcPYvToEklHd2jR4/od82+GP04Mixkw0TKNfI/xvcpp5wSrwFpUnXPWZeQmUAGQG0AK2Ly2njf6ZTB+yEi+YGs4FVXXRVj45lnnhmLZzGe4QzU1Xhw9dVXx/MQlBkXBF6o22LMHVdrZiCoRMaX/WknmmU4qoOAEvMB9WPlkPFFJskcld1OOumkf+rWqoJr5lwEmkRE6otJigPg3xqPWoRiMQZUjPTahKg5gyyt4NDXs+ojDgD3MaaR2xBBR/bDII2WHl0rkwdtO1m+HYP2sssuS/369Qt9Puck0s8xSFsw+JEOUZjLW0PEnvNwQxfPc/A42zHM2cZzZrUKXAvXWB7h5/wY8jwHkxiPM9FwLNuyx9jOpEUvatrvcc1ZtA2ngO3sV1vw3tRkUmWCJIOy3nrrhbOCTCmD1qG0aWW9BKlcaD/LdxvnWWRiQPLDQl1kAflOMTZlMFYQMKlqDZcJhewDKwVjUI9Z9zUmBEsIVLzxxhtRx0XtWHUwFhMkQu657bbbxjiXjedVwdhPgwQCTOW/Kd6b3XbbLeZAgkAY9cw/BIAOPPDAmCvGBlnt66+/PtY8IGtc19Bum2ujXao0LWidTjMRFrOTyqV79+5piy22SJtttllpS8PQKDIBGQz+DKYU7+JgZBkADHMcgnIjGcMbGRH1AshqBg0aFH8ZoMkmUHiLEUwNAJMYhi3n5n8mALoIcSwGOH95ProRzTvvvPFcGPA4EexXPmFwLRjKXGN2Y7/sunhOlqfn+Vm8hvPxHNlxdEDidfEcPCf7sg/PU5sOwPhAYfQuu+wS11buAIhI/mAcZCHGbLxsSAj+4IwwftKB7cEHHyw98ne0nrorxlzGLzKsOAgUBDPWcgzd2caEQAwyKB5n7H344YdjO0EaCouZh3B0qiObA5CRsp4Az42Ulevdcsst49zMAcxLBKZwbjDeeOzNN9+Mbkscz37MWdZeiUhd0KicgAmFlCxRIaL0RH06duxYekRqSkM5ICJSeVTKeIBMEWnia6+9FnIkuqlRoAxE5Wm9jJGNYY/BzarCdHqjoxHZzb333jsNGzYs9geyv2SJWXTsq6++iowCsh/Oj1yHDDHyzr322itqvcYFRnyW2cUBIEOy8847R9cl6icuueSSyCr37Nkz5Kp0XiM4RO0ZDsrtt98e10FHpoZYnE1Emja5cAKkacEESj0FTh2Q1s4m+qrA+cMRpEC8Ks0vkyz7EHWriUqO83A+jqnqnOWwDwYKkb6ayLBEpGr4PbEqMNF9CpOptSqHZgZE8pEsUU/28ssvx9oG1GAxfuAkUNdAk4kMsgfUBZDhwDnAcCdbTB0Ev1uaOpAJIUvL6sPjA2MKx5D5Pfnkk9PgwYNLj/wb5Kbrr79+OCvUYJVfn4hIbaITII0KJlLqD6jrYDIHomTHH398RMyqAgP/3HPPjQLDrM3smDDhsw9Rwqr2KYd9OB/H1CRKx/5of6mXMb0vMnFQM4WMhuj/EUccMc56F4IGjBkY9GQFqGvAOUB6mcFvlH1w7Fmo8ZlnnglnIpOe4rxnwYeawHjF2IBklL/UKND+maYPBxxwQGmvf0OQY7/99otrwVlAxioiUhfoBEiTgrUkcBIw5OlcQtEyKfwxYT9S8RgPWeE4EF0kSsj6DLRApdCRbdxwNtifSby8T3oGxeCk89mHwjs0xED0n65P3JAZiMjEg1GN409xHQW3FEOWQ+Sf1eZp6sDvHQ0+9U0Y/hQac8MBKC/EpZaMFdvZB+d+3333jWwC9Q/o/PktUxTMbxtjfVzgNNAKmloqasMINHC9nIvMwthgLMLRoJ6A/7NxRESkttEJkCYFkzQFdhjvdAUh2kd6vzx6h7FONxAmaAqvMdzR3gJRQCZ5JmkMdjp2YESgCSYqR4E2hseAAQPSyJEj4xggakcxX//+/eNYDBA0vcgLcERY/RlZAtKl6jIWIvJfkPzcfffd0ZGnU6dOUQeA0d+mTZtw5rmPUY6xnWUIKQhmLEC/z++fotsNNtggGhxQ+EvmgDGA/TJo+IBWHznQDjvsEO0+eW50+9SW8funKHjgwIHhMFQF2T6uc8cdd4zag6222irWXWCldbKHnTt3jjGFImMWvKSJBdlBVl0me8C+PDdyIDIXjEljBh1ERCaWRtUiVGoXJr+J1abXd4tQvq5M4BjdtEBjDQkm5BtvvPEfmQ2pdgr+SKOTcqcFF+1h2U471sMPPzwmXjS/TLLZug0YEkQHWQ+BriJsv/jii0NqRIcQJnMKBZm8kRNwzjvvvDMidTgI55xzTlwfkzcGC/vT2YNroJsKxgVGCc/LNdRHK8AMW4RKfVBXLUKJ5Jc73ejmMeYx7qnLoQAXpx/jnd84EXR+4/weyQSi66fgloJmnHAyBIwh/AYp3CUwQC9/jHzGFIIJ3HAKmMcw+DHC2YYjzzEcTwaiXE5EdgKjPcssAvsSbOBcBBSyDALPwzZ+l1wXr4NrJhOB0c/zZN2XeA5e17hal9YUW4Q2XZhjbBFa+dgiVKSOYOJkYqUAj4maSF65r4vRTscPIogHH3xw/BAxIiAzJjiWiZ/jieaTusfwX3zxxaP/N1F/JursvBgRrOyMhADZAT/w559/PtL/TOwYC0z4TPwYMCJSc4iU49RnNxx1ovMY7dxnBWOKdnEMCG4gvUHCgwHPooYU82JAY2zjELRo0SKOw0AHIvIcy2+e/XAYeBxZUBbxz7bzXPzGaeFZ7gAAv22KjbPr5IajwW8fuGauhxvXy/VxvYxZ1B6wP9eC08D/tD3lRnaxthwAEZEMRxVpdDBZY9gTBcQI5y/Ge9a2kL/Z/2PC/kTziOoRnSftXj65sp1oHn9xADgPkzTPSeSfKB+RRNoD0pkkOxbjnsmfegCiljgaFAEzmbPPhx9+GOfkWvkrIiIi0pDoBEijAqMcw5ooOzp+enYju6FHOBG+ccHxRA+J9qPbpx6AVnzoiDHOie4j5UH+Q+SfQkKidSxIhNSBgmOKhpH/ICnIIJJH1BCpD/3EyTSwH5HCTTbZJJwG5EXUIpCGFxEREWlIdAKk0cGy/qzcibFOHQArOrMqJyl3DPy11147jG8Mff4nbc9jK620UqTW6fZBgSBdgCgaZjVRpANIgDbccMO4Ifchgr/HHnvEOTkW/SxOA9pksgI4I5yPx3AC0Pa1bds2WgsiIaAokPQ/9QZkEqgfwKnYdNNNI+UvIiIi0lBYGJxjGmNhsEwYFgZLfVBXhcFSu1gY3HSxMLhxYGGwiIiIiIg0CGYCcoyZgPxgJkDqAyKQ9MfPVtiVyoQaKNYq6Nq1a2mLNBXIBJxwwgkhcZXKhVXJ+/Tp0+CZAJ2AHKMTkB90AqQ+oKPWF198ER22pHKhmxq1TtYmNT1oV+0q040DWhlTu9iQ6ATkmLw5AWP7qlfVSrSpoRMgIiIi5VgTILmARbto1YnnTT9/HNSdd945vfrqq9X27WcVUQxoWoeKiIiINBV0AiQ30PITreTbb7+dXnjhhViG/9JLL/2nb/9bb72VBg8enB599NFY8AvDn4wWnU7Yf/To0bHQGI+zH/sjfxARERFpbOgESC5BD7vllluGdpJVgOn9T9u8G2+8MZ199tnx/5tvvhk3DH8WFPvss89iAbEBAwak8847L51++umxErCIiIhIY0MnQHLLdNNNl/78888opOIvC4i1adMmOmcQ+edxJETLL798LPhF5oDFvtjG6sSsOPzRRx+NtdZAREREpJLRCRAp8t5776W+ffumTz/9NK244oqx4m85GPrUFSADGjZsWFp88cVjNWARERGRxohOgOSW7777Lk0xxRQR8b/77rujVdcOO+yQVltttdhWDk7A888/nx577LHo60vWQCdAREREGis6AZJLRo0aFe1N6RTUvHnzWNwIGRD9zR966KFY9GhMMPqRAbHPs88+G7UCIiIiIo0RnQDJBawHwMI4xx57bBjyyHkoCu7evXsUCbPKKfr+1q1bR/cgVlukG1CrVq2iOHiFFVZIk08+edQFtG/fPgqEf/jhB1uHioiISKPExcJyjCsG5wcXCxMREZFyzASIiIiIiOQMnQARERERkZyhEyAiIiIikjN0AkREREREcoZOgIiIiIhIztAJEBERERHJGToBIiIiIiI5QydARERERCRn6ASIiIiIiOQMnQARERERkZyhEyAiIiIikjN0AkREREREcoZOgIiIiIhIztAJEBERERHJGToBIiIiIiI5QydARERERCRn6ASIiIiIiOQMnQARERERkZyhEyAiIiIikjN0AkREREREcoZOgIiIiIhIztAJEBERERHJGToBIiIiIiI5QydARERERCRn6ASIiIiIiOQMnQARERERkZyhEyAiIiIikjN0AkREREREcoZOgIiIiIhIztAJEBERERHJGToBIiIiIiI5QydARERERCRn6ASIiIiIiOQMnQARERERkZyhEyAiIiIikjN0AkREREREcoZOgIiIiIhIztAJEBERERHJGToBIiIiIiI5QydARERERCRn6ASIiIiIiOSMSQpFSv/XGu3atUtvvPFGmmKKKUpbpBJ58803019//VW6N2EMGzYs7b777unnn38ubZFKZKqppkonnXRS2nzzzUtbREREJM/UiRPw559/TrRxKfXDxDpqfH34vOvgayS1yCSTTJImm2yy+CsiIiJSJ06AiIiIiIhULtYEiIiIiIjkDJ0AEREREZGcoRMgIiIiIpIzdAJERERERHKGToCIiIiISM7QCRARERERyRk6ASIiIiIiOUMnQEREREQkZ+gEiIiIiIjkDJ0AEREREZGcoRMgIiIiIpIzdAJERERERHKGToCIiIiISM7QCRARERERyRk6ASIiIiIiOUMnQEREREQkZ+gEiIiIiIjkDJ0AEREREZGcoRMgIiIiIpIzdAJERERERHKGToCIiIiISM7QCRARERERyRk6ASIiIiIiOUMnQEREREQkZ+gEiIiIiIjkDJ0AEREREZGcoRMgIiIiIpIzdAJERERERHKGToCIiIiISM7QCRARERERyRk6ASIiIiIiOUMnQEREREQkZ0xSKFL6v9a46qqr0htvvFG6J5XM6aefXvpvwvjss89S//7905dfflnaIpXIzDPPnDp27JiaN29e2iIiIiJ5pk6cgHbt2qVNN900zTnnnKUtUonssMMO6bfffivdmzCefPLJ1Lt377TTTjuVtkglct9996X1118/PnMRERGROnMCzj///LTooouWtkglMs0006Sff/65dG/CeOSRR9J1112XrrzyytIWqUR69eqV5plnntSlS5fSFhEREckz1gSIiIiIiOQMnQARERERkZyhEyAiIiIikjN0AkREREREcoZOgDQJXnrppTRgwID0yy+/lLZUDbXw77//fnTM+fzzz+P+uPj1119j/+effz799ddfpa1VQ9elwYMHp8cee6y0RURERKRy0AmQJsFzzz2Xrrnmmhp1O8KIf/vtt9Ptt9+ePvnkkxo7Aez/zDPPpD///LO0tWpwAu6444704IMPlraIiIiIVA46AdLkISK/+eabpzZt2qQzzjgj/fTTT7EdQ33gwIGpffv2qWvXrrHwGZAdOO6446Kv/jHHHJO+/fbb2F7Om2++mbp16xb7nHXWWXEuHIU777wzbbXVVunoo49O//vf/0p7i4iIiFQWOgHSpPnggw/Ss88+m44//vh0xBFHpHvvvTc98MAD8dgXX3yRllhiiXTiiSemkSNHpiuuuCJ988036dprr00fffRRbP/666/T5ZdfHvtncBzOxHzzzRcrLiP54RgkRmQL1lhjjVid96233kq///576SgRERGRykEnQJo0Cy20UDryyCPTE088kdq2bZtee+21fyRDCyywQFphhRXitssuu6SHH344vf766yERWnXVVdOKK66YVlpppXAkymVG3EcStPrqq6fll18+rbzyynHcyy+/HNmAjTfeOLVs2TKttdZaaYoppigdJSIiIlI56ARIkwWtP1H6VVZZJf34449h3K+55pqlR8cOUqF33nknMgc4AUT8f/jhh5D7AMb/d999F84EEqLlllsuVkz+448/4ka9QU1qBkREREQaEp0AabJgkH/88cepRYsWEen/6quv/qXvHzVqVMh/MPCpB5h55pnTHHPMkZZaaqnUs2fP6ASEvOfYY49NM800Uxwz2WSTpbnmmiv2Of/88yP6379//9SjR484lkwA0iKcCc5dk6JjERERkfpGJ0CaDET6r7zyynTxxRfH3xdffDEtuOCCafTo0enqq69Offv2DUcAaQ8Owpdffhnde9ifv9ttt11abLHFQgKEcX/eeeel3r17x3nKWXjhhdOSSy4Z9QXsQ7bgvffeS0svvXRaZplloivQrbfeGrKhmrQTFREREalvJjse3UMtQ2QU/fUss8xS2iKVSK9evaKLzcSAoTt8+PDosNOQoL0nkk/kHVkOELHHMJ911llDDrToooumTTbZJAz4+eefP/5SM4DcZ+21105bbLFFmnbaaWPb9NNPH9sp8uW7POWUU6bpppsuNW/ePC2yyCLxl+dhXQIeb926dZpxxhmjzoDMAt/9ddZZJyRFbGtoHn/88TTDDDPE9YiIiIhMUjSaal2v0K5du5BKYHRJ5TLNNNPUqK9+dTzyyCOhiSfyLpULDt8888yTunTpUtoiIiIieUY5kIiIiIhIztAJEBERERHJGToBIiIiIiI5QydAcgFFvCzo9cwzz/xzYz2ArP9/VdDd5/PPP/+n2FhERESkKaATILmATj8HHHBA9PO/8MILo/XncccdF4uJVecIvP322+ncc89N33//fWmLiIiISONHJ0Byw6STTpo6d+6c+vXrF+sGsNrvwIEDI9IPDz30UDrppJPC6B82bFi0Pz3zzDPToEGDou3t119/nV599dV4nP1YW4DFwUREREQaGzoBkkvomU8ff1YQZlVhpEH3339/rCnw1ltvhaPAYmLsRyvV2WefPfbFUWBNAlYbpi3qm2++6arAIiIi0ujQCZDcMtVUU4XmnwW/5phjjrTrrruG7IcI/4gRI+Lx5ZdfPhb72mijjWKBMRYbwzF47rnnYpE0sgMiIiIijQ2dAJEiLHrWsWPHWPX3sMMOS/POO2/pkb8h2v/ee++lo446KuoE9t13XxfDExERkUaLToDklq+++iqi/TPNNFPIfLbYYovIBiAJmmyyyUp7/Q1OAHUCX3zxRdQVLLLIIiELEhEREWmM6ARIrhg5cmS0Cn322WfD8F9llVXSkksumZo3bx51AU8//XS64447oigYqdDUU0+dfv7553hs7rnnjhv73HPPPbGPrUNFRESkMaITILmAqH2rVq3SCy+8kA455JDo7jPnnHOmHXfcMTT+HTp0SPPMM0+69NJLIxOwwQYbxDE4CRQFn3766bF91VVXTTfccEMUCS+77LJpyimnLD2DiIiISONhkkIdtDZp165dOv/889VMVzh0vSHKPTGgpb/uuuuiU45ULr169Qonp0uXLqUtIiIikmfMBIiIiIiI5AydABERERGRnKETICIiIiKSM3QCRERERERyhk6AiIiIiEjOsDtQjqmN7kCPPfZYOvfcc1PPnj1LW6QS6d+/f7Q33WWXXUpbRESkqTFq1Kj07rvvpl9++aW0RSoR7K/FF188WpQ3JDoBOaY2nICnnnoq9ejRIy2zzDKlLVKJvP/++2nvvfdO2223XWmLiIg0NQYNGpQuuOCCNN9885W2SCXCYqMnnnhiWnfddUtbGgadgBzjOgH5wXUCRESaPtdee20EfY477rjSFqlEunfvnrbYYou02WablbY0DNYEiIiIiIjkDJ0AEREREZGcoRMgIiIiIpIzdAJERERERHKGToCIiIiISM7QCRARERERyRk6ASIiIiIiOUMnQEREREQkZ+gEiIiIiIjkDJ0AEREREZGcoRMgIiIiIpIzdAJERERERHKGToCIiIiISM7QCRARERERyRk6ASIiIiIiOWOSQpHS/7VGu3bt0vnnn58WXXTR0hapRKaZZpr0888/l+5NGI888ki67rrr0pVXXlnaIpVIr1690jzzzJO6dOlS2iIiUrs888wz6cILLyzdkzHp169f6b+649prr03vv/9+Ou6440pbpBLp3r172mKLLdJmm21W2tIw6ATkGJ2A/KATICJ1zY033pjuv//+MHDk33To0CF9/vnnpXt1h05A40AnQBocnYD8oBMgInUNTsCrr76aTj755NIWyVh44YXTBx98ULpXd+gENA4qxQmwJkBEREREJGfoBIiIiIiI5AydABERERGRnKETICIiIiKSM3QCRERERERyhk6AiIiIiEjO0AkQEREREckZOgEiIiIiIjlDJ0BEREREJGfoBIiIiIiI5IxG5QS899576frrr09XXHFFuuaaa9Jbb71VeuTfFAqF9M4776Q777wz/fDDD6Wt/4Z9Ro4cmZ588sn4y/3x4eeff06PPvpoevHFF9Pvv/9e2prSTz/9lIYMGRLXmN24/8cff5T2GDt//fVX+uyzz9IXX3xR2iIiIiIiUjc0CicAA3n48OGpb9++6ZVXXkn/+9//0ptvvpkuv/zyNHTo0Hh8TH799dc0atSo9Oeff5a2/JfffvstnIRyI76mfP/99+nKK68MR4PnymB7//790x133BFG/ccffxz73X777dU6Ap9++mm8nrfffru0pXL4+uuvw6mq7r0UERERkcZDo3ACMOavvfbaMLYPPPDAdOSRR6bDDjssTTvttKlPnz7pgw8+iMzAZZddlo4++uh01VVXpS+//DIMVwx9MghHHHFE2n777dPNN9+cunXrlj766KM0evTo9Mknn8Rf7u++++5p8ODB6aCDDorneP/99+P5X3vttbTXXnvF8b169QqjuDqmm266tNFGG6VDDz00rmezzTZLhx9+eFwnr4Vr5lz77bdfevnll8MROeecc9Kll14aDgPPN2zYsNSjR4/Y7/TTT49rbCiy18918BrGN2siIiIiIpVFo3ACiKZjpC+11FJppplmim0Y2ssvv3xE3jHkMZoff/zxtMkmm6T1118/tj300EPp888/D8OfqHyXLl0ig0BUHmOcjMLzzz+fvvrqq/Ttt9+m2267LYzy9u3bx2PIeJAK3XPPPWnjjTdOXbt2DfnQoEGDxinvyZhiiilSq1at0qSTTppef/31OP93330X5yKDcd1110UmYp111kkLL7xw2mCDDdJUU02VnnrqqbTeeuulbbfdNt1yyy2RcWgoZptttviLo9KhQ4d02mmnpR9//DG2iYiIiEjjo1E4AUTzMfrnnXfeNPnkk8c2jOp55pknDOYsMo+T0LJly7TgggumSSaZJLZhxD/22GPx2JprrpnWXnvt2F4V888/fzgX8803X0S9Of8+++wTxjxR+WeeeSZ988034xUNn2yyySJrgdG/xhprpHbt2kXEn4zFhx9+GPvwvDg4Cy20UFp00UXDSfjll18i8/HSSy/FczYUSy65ZNp8883D8OdaTjnllLT44ounc889N2ojRERERKRx0SicAAx+DFAkPpkuHYOa+0TkZ5llltiGsZ0Z/xnsN8ccc6QFFlggHseYr45FFlkkzsGNY5EUbbjhhmngwIERyScyP77gMHDdyJkuvPDCtMMOO8TtjDPO+CfKXg7yGxwFMhsUH7dp06b0SO0z88wzj/PGNSJnwikBPgucK5wBsgMiIiIi5WAzoHzIbsia67K2kHOjDrF+seY0CieAyD6GKEY4XyTgyzRixIgwsGefffbYNjYw+jkGfT8ZhfGNqJMNIEp/wAEHhGMwvsdzfZwDo5nz8BdHYrXVVosv65iyIhwP5E/NmjVL3bt3j+dkv7oCWdS4bnQsOv7449PUU08d1zP33HOHxAlZEPUTIiIiIuWcdNJJabHFFkvrrrtuWmuttUJRQHCzrox0GsjMNddcIQ+XmtEonIBZZ5017bzzzqHTp+UmUXk66eAEUMw755xzlvb8L3whiKS/+uqr0bWHOoHxgQwCkqC777473XDDDem5554L7xZjvSp4HNkMNQY33XRTuuuuu9KJJ56Yll122ZD6cN033nhjeuCBB6IeAUcAuRNSJ768WRbi3nvvjYJnCpvH9Zx1Cc4X3Y5wtqiNwCEgQ0GNBY6BiIiISDnYNNtss00Y/tRYNm/ePOwhmqFwoxELNZtPP/30P9JiAo/Ubd56663Rgh37iMeox3z33XfDDkJG/cQTT8R2zsP/nGfMxiUEgJGD8xh1lpmaQf6fRuEEIONBz0+3HDxIinn5cPfff/8opJ1++unD0F911VXjS4cRvfTSS4fkhgwCciG+GBizFN9izGK8YuDTxQf9P44E3XqoO8Doz+oHqCXYbrvt4stGAS/dflZYYYUw2un6g8a/XGLEdop8eV4cAb7EK6+8cjgrM8wwQ0iLVlxxxbj+Tp06hWc85ZRTRraD+2QrcHq22GKLWHOAWgK8aRyI8i93fcJr5/qOPfbYqGWguxLXJSIiIjIukBZjoyEnxv6hwcrFF1+c7rvvvviLrcR21oKiXhLjnWAvgVECwKeeemrsix3GY8iRUVbgHCBLvv/++yMTkAVLcQ5oqEIglv3pvogjIv9mkqJhWeuWJXr2888/P6LeDQ06fDIAdNjB0KfLEKkpCm5xHvLMNNNM84/3XR3IkbjhIFGfUc4jjzwSHY5wDqRyobUthfRkb0RE6gIy3GTdTz755NIWySAASaS6rrn22mtD/nzccceVtjQcXAO1m7QXx3g/4YQTIlB78MEHx/+s+4QtRt0m8xMOAoHWnj17plVWWSWdffbZEVjdcsstQ5Ldtm3bCKgOGDAglBk4AiguyBYQJCbwSndHlArYN9ihBFQJ9vbr1y8yD9RlVqceqS+Qe3NtBJMbkkaRCZgYiOrzRtP3n+4+rC/Am593B2B8mHHGGaOeYUwHQERERGRsoNwgGo9hjiGPE0SbcdQYqDeQVx911FHhuCADQubDgqk4AuyHJIj27qgixgbKCRwHlBc4Cxj3mZya4whyYrug/EDNwKKsPI/8P7mw6viCINtBisOtErxAERERkaYKgUPk0bQTR+LDQqk0RUFCjRSa+khkxrReR02AsY88G8eAfakNIICbrQ81NljjCeOeTEMGjgCBXp6/KgdC/sbQrjQqUK8xKLAac7aKMoXiW221VQwEVUFB0J577hkDDtGDsUEXJPZhMCofUKqC83A+jqlJwRH7E/Fg3QkKnERE5G+Q7tL4g9o8ZLs1gYJS5Mf8rQksIrrpppuGhFXqHoxxDHhar9PxkM6CyIEw3MkMIM9BDsNnwnbWaKJ2AAkRCgRkRGQDUHSwNhE6f+Z9CoGBc1Ojyf7UDTz77LORfaCOlDWXqAfF0WAtKZq7rL/++mmJJZaIY+VvdAKkScFEwirRtHKl1SqG/ZhtWIH9SBfSeYm/5S3LSCHiUDAREUXIymZII7I/Ewn7jFlOwzno9sQ+XEPmSGD8cy3calKDISIi/w/yDopGkYswvpZLOniMmjUeY9zNgjyMx9kYj4FYPsZnELxhPGcfDFPOxbjN+M9YzvmyYJOMPxjhSH/GlBKz/aKLLori4JVWWinWY2KB1OWWWy50/meeeWY0ZqG744477hjOA84eHRORdVNfQQ0BTgD3cRxwJCgUxuHAaaDxCwE36gOoL6CZCesdyb/RCZAmBd0BdtpppygIopBo3333TW+88ca/DHYGedqFkU3Yddddo4tU1leYCWTo0KHpmGOOia5QFJUzUTAhEPVn37333juiE+WTA5MHEQcKnmhnSzSLtmg8F9EO2qQxANHJwDZlIiI1h/EXOQnjORFkDMVs/RwCNbSd5DHGXsZ2xl2yA2Rpd9lll3TIIYdEwXK5I8A4jF6dGkEMSda9wfhHt46GneJmjFG6EY7NgZBxwxxMe3T0+mNCZoC5kaw4xb0tW7aM7XR2ZMFU5m2Kh7NjqSHAoKcL0BFHHBEZe5wD5N3M95yH9uVvvvlmZBSAlqR0G+IxuguN7Tryjk6ANDmI/DPAZB0qXn755X9lAzD0acvKhIFRT9aASQQw5ulqhYZxjz32SA8++GBMDAw8tDCjIwHbSTsSecogs0C6kTQknQvWW2+9uE+UicmL4nTaoLFwihpFEZGaQQCHDCoyDoIrRIhp9ZhJhhhzW7duHUYhkpF77rknxmzaRm6yySYxHlMUyhpB5WMv4zfr3zCeI9MkipwZ/MhYllxyyZCj0E2Q5xBpiugESJODVCARAgqDGPRJHWPcZ+AQMEkQlUcuVL7gGf/TTQA9IlEENIjs88ILL0TkiYgDNQjl6WMgK0DkgrQmbc0efvjh2AcnABlQixYtInVJGpN1IEREZNzgBBDZf+uttyJLi5FeLi+hFSTSECQmRJMZpxl7yQjgLBDNZ6zPZJwZRPwpSCWrizSFdpXsw5jO+XEc0KmLNGV0AqTRgcawOhi4q1rMjAmFgZ7VmulNTM9hUodjahbLISpENwOel0mGrgZEpIhM8RgQKcKBoLMB+5BeZh8Mf56TwiQRERk/yNxizBNYobvf1ltvPc4W38wBSD/IvK6++uppr732ijGZ4E4GYzrjMxF/sgtITJCcaPhLntAJkEYHxUJEeYj2oOukrzBRGyJB4wKjHYOdCQAngJQw2tFM84mxnkmAiDpxTgqMWEGax1j9mcmFGgKeO3MCiEbhFHAe2tGSfSCyREaCSYZMAh0M0DqSdhYRkXHDGIt8kwwq4yzjMr3hM5Bzso3gDpIfWoIzFjMO8z9OANIhdOHltWHIPuksQyHpMsssE2M655LaAYkVtRjln1VVMG9SH0CtB5nzmkDRNvtTLJzN39XBdeDoIc+V/0cnQBoVTAisGsjy4xjmGNm0C0PXyQRRE4jWox1l4bhu3bpFYRHdIzDqiRQxUVAUzCDGeVkpeeONN04dO3aMLgMUH5E9IAWdQRZg2223jeOR/rBCNTpVsgfszwTDdTNRuU6FiDRWKLBFRjO2rmu1AcW6dInJOssgr1xxxRWjOJgxnywugR/uAw4CQRayBMiGWBWdQBHjLrVeGPg8jlNQLv1E9klN2FlnnRW96znPsssuW21WuFKgAQYLbdXVZ1AbIKMlUFcTA505F3ktzhr1dTWBDBH747iVO3dVwXWwkrJBuDEovnm1zmabbVYoet2le1KpFAfE0n8TzpAhQwrFQbd0TyqVk08+uXDllVeW7omITBhXXXVVYbrppitsvvnmheeff77w448/Fv7666947IYbbigcddRR8b/8m4UWWqj038TTp0+f+Azat29fGDZsWGH06NH/fAbXXHNNoegAxf8NyRlnnFHo2LFjYdSoUaUtf1N0XArnnHNOoejkFYrOWuHAAw8sFB26wo033ljYcccdC7vuumthjjnmKKyzzjqFt956q1A03gtDhw4ttGnTpjDzzDPHPkXDv/DBBx8UunfvXujXr1+h6DgU7r333sISSywR+xx00EGF77//PvbjvSg6fIXtttuusNFGGxVOOeWU0pU0LN26dSsUndTSvYbDTICIiIjUiLXWWisyo8g3kNrQYhN5JpHfok1R2kvqErrPbbDBBiGFIStOK1RkrWS0K/0zoCCbjD7ZGVqAkiXn+wNE9Tt37hxF4GRqig5NRO8vu+yyyKy//vrrUe933nnn/avZB21Be/fuHfIg9kfOS2tQZGJkjegcRdtv/pd/MwmeQOn/WoNFHeiiguZOKhfkMxO7eNUjjzwSqy/yI5PKpVevXiFFYvIQEZkYbr755nT77beHHIVC2qzlcta0IWvPLP8PneFoOVpb3HjjjSF3yj4DpE6siTDDDDPE3H7ccceV9mwYMMqRjfXt2zcKsDNwFnFYqJnD+KfWDgOdTn4UgLPWDgXdl19+ebTmRt519dVXR20eC4vhfALr/GBn4pRSKH7JJZdEYTcrBdPxifebWkHq8KhNoKYEh5U6EGoDGhquhdbhrJjckOgE5BidgPyAE8CAywAoIjIxsBBi1lCBRgsYodQ8UaNFMa5OwH/BKKUGobZg4SzWq8k+AxwxVs2lloIoeiU6AVzrTTfdFGvmsPgm18liYqwKPDYn4L777ku77bZbZAJ4fWzntVL4TRaKtSCoE8GWYW0f2npTc8f3kboS6kZY+4H6P76bOgH/RScgx+gE5AecAAqZiaqIiEwoSC0woliEC6OO6OtWW20VhbcvvfRSSDZ0Av4LTgBSmNqADjoYtjSgQBZDUTSNK/gMcAwomK1EJ4BrxVag3eull14akX4M+SOPPDKcgAsvvDAdddRRYdjz+rBRmLOQ/9BljxX+ifLTrIMiblYBpr0rjx199NGxavQ666wTmQOad7DOD7IgGnyQFeB7StMPnYD/x5oAyQUMBqQPmbCyGwMIbTurg24TpL6zJepFRPIMC28hyaCjDsbWBRdcEIYaXXiI0tYmGI3IXhiviRhn662w0u9GG22UevbsGTr4mkBLSYxEDNCqYp9IVfbff/8IblUyjz32WLRDxVimix1BV7T0Sy+9dK1/BhMDGSMM3cxRRL5E9zw6AbHeDpp/pDzfffddOJRkMegOxTF8Fl27do3oPw4OmQ+285fufuWQAaA7H44H2RAW7qT1K/USPB9OKQ5G+ToR8jdmAnJMnjIBDDqkYhk0d9ppp5g4aD231FJLpQMPPLDKwYHVgbkRtWjMK/2aCRCR2oBiS9ZXYSylBoA1VzIw2GkhWluZAAxDWngSFUb7jeQDmcdpp50WTkEW9SXKOy5oV4nspEePHhENztZ4KYfXxfzAQo8YlbVJbWYCkGLh1CCJYb2b8gXOcAoojm3oTACGPfNuBs7JzDPPHLULFABjeyDx4dop9uXzYBsmKVkBtiEto2Ur7UA5hjbeOA1s57vBc3A+1u7hMeQ/1EiQeeC5gPUBWLdnqqmminOzf3mNQkNhJkCkAWDwYDCm3z8GMV0FmBwYHMgUMCBRgIQGEQeHgiUyAUQX2JfUIhMOAxraRQYhEZG8wIKJrNpLUKHcAahLkH8QVMTIw/ilRz6R5QyMvJNOOimcEsZmMgWAEUqQh20HHHDAP5kEIFpMpJgxH4NsXFnhSgLjn+g4n0G5A1BJYGgz12Y35lWKlvnOsI4D2/hc0fBj2GPI8/nh1FDcy99szQacBTT9HMM+OAy8buZzjgOMe2oM2IeMAvtw4zl5bp6H560EB6CS0AmQ3MIAQoSBieXFF1+MSD8TA+3WWDWY+4cffnhktu6+++6ITDCp8D86R46hvVkdJNNERKQEhhvGI1kGxlwytxjwMHr06NS/f/8Yx3mM4lKyB7SgRLrESsFsQ+aTSWWQh55xxhkR9aeGgXPjOExsZlyksaETIFKEKAOFRsh+KLYiHTkmpBcpNrrnnnsi5VoeVRIRkbqBSDE6cGScGPpkYzMJJwY9MhuivQRu6P7CeE4P/XfeeSeivxSOohHPJCLIfpA14UDQqpKaL85NDZhIntAJkNyChpB0I6lG2pahmyfqT+sy0qzlEO1n0kAeNN9884Xe0poXEZG6hwg+4y5rnVA4SrEoNW1A8TA6cDTfmXwkg+1IhfhbDhlggji0TabAFslIs2bN/skUiOQFnQDJJaR9hw8fHppEIkhMCBSc0WUA7f/YovxEnJAEsd/IkSOtBxARqQcw7nECiNwj+yGqnxn8aMIJ2uAgENGnPSaGPxkBsgD8T1tTNP9ZhhftOIXN1DYQ0Fl//fXjnDgSUj/wWbJeAAt5ZbeaSLJw6HDclG7VDjoBkhuIGFHwS0EZnR/Q9G+zzTYxIbAEO3pT6gHQjxL5Z5BiYsApoM8wkSfSyWhL0aCSUi7vfiAiInUDUh8CMK1atfpXNyCkQnRYQddPC1C6BjGut27dOlZIxxmgOJgxOzMcqQdjESpWPaYugJanFJaOmUmQuoPPIlvxmEJnsjt0GRw0aFB0/qkK5Li0Fv31119LW2RisEVojslTi1AGFYx2ovkZdBDIOlwwoKArJU3MZIBEiC4ETAp0D+J4HAKMfm68dwxeZBIynWklY4tQEalrartFKOYJEXwi/ARrGL+Zs9D8E9UnY4tDwDhNhoB96RrDNrK2BH6yjkLUEDDOcyxjNv+TNeA8OAVsZ3+2MfbX9rhO15raahFaHZXSInRc8LnsvvvuEZCjfTdzL3YExdwUdlMMTt9/avT47HHkyNTQyYmsD8fQOpb9r7jiipiXCdDtsssujULWZYtQkXqEQQGnlKhQdmOiwAEABhekQESaKECjRRlpZox9FsGhIBjdKMdwLMuWszBLY3AAREQaI7R4pLUjUWKCM7SNZAwmSMPYi46fMZzxHekPzR0oAsYBAJwDjmfMJojDY9mYzZjPWM9jGJk4D5yX53Jcr39475lTceSQ27LaMJ8f2Rpaeg8YMCAkYWRwWKiO+jzWDmB/Mvw4CQQk6fAnNUcnQEREREQaFJw+sj/caAG75ZZbpqOPPjqdeeaZkTnAKcBZwGHL6vM6dOgQ8iD2w3moTkok/0UnQEREREQaFFq0ktXhRtHwrrvumnbeeed0zjnn/KdjH3Lc++67LySuZOYvv/zykOfK+KETICIiIiINBjUaI0aM+Ge14I8//ji1bds25FrUdIxZv4gTwD7Ivej0RBco6gpk/NAJEBEREZF6BcMezT+F5CeccELo+enshGG/0korxarPZ599dhT/UhSOkU/9BovAXX311VEHQjE3hcSs5E8r2LEt9ClVoxMgIiIiIvUGrV3p5kO0n4JfirSR/6y99tqh/Wd7165dU4sWLaL1Kze6Nq277rrp8MMPj6LwlVdeOdp383f77beP9rBkEqTm6ASIiIiISL1Bt6dNN900de7c+Z8bXYAo/AUMftb0oRUobTTXWWedaOvNdvYlY0CnKNb44T7n2nHHHf9TOyDVoxMgIiIiIpIzdAJERERERHKGToCIiIiISM7QCRARERERyRk6ASIiIiIiOUMnQEREREQkZ+gEiIiIiIjkDJ0AEREREZGcoRMgIiIiIpIzdAJERERERHKGToCIiIiISM7QCRARERERyRk6ASIiIiIiOUMnQEREREQkZ+gEiIiIiIjkDJ0AEREREZGcoRMgIiIitcLvv/+efv75Z29j3AqFQukdEqkcJil+MWv9m9muXbt0/vnnp0UXXbS0RSqRaaaZJganieGRRx5J1113XbryyitLW6QS6dWrV5pnnnlSly5dSltERGqXe++9Nx1yyCGlezImr776aum/uuPaa69N77//fjruuONKW6QS6d69e9piiy3SZpttVtrSMOgE5BidgPygEyAi0vTRCWgcVIoToBxIRERERCRn6ASIiIiIiOQMnQARERERkZyhEyAiIiIikjN0AkREREREcoZOgIiIiIhIztAJEBERERHJGToBIiIiIiI5QydARERERCRn6ASIiIiIiOQMnQARERERkZyhEyAiIiIikjN0AkREREREcoZOgIiIiIhIztAJEBERERHJGZMUipT+rzXatWuXVlhhhTTrrLOWtkglcvjhh6fff/+9dG/CePrpp9OJJ56YNthgg9IWqUSGDh2aOnTokDp16lTaIiIiTY1bbrkl3XTTTWnVVVctbZFK5KGHHko9e/ZMbdq0KW1pGOrECbj77rvTBx98ULonlcw+++xT+m/C+Oqrr9LgwYPTt99+W9oilcgMM8yQ1l133bTQQguVtoiISFPj448/To888kj6/vvvS1ukEpllllnS+uuvn+aee+7SloahTpwAERERERGpXKwJEBERERHJGToBIiIiIiI5QydARERERCRn6ASIiIiIiOQMnQARERERkZyhEyAiIiIikjN0AkREREREcoZOgIiIiIhIztAJEBERERHJGToBIiIiIiI5QydARERERCRn6ASIiIiIiOQMnQARERERkZyhEyAiIiIikjN0AkREREREcoZOgIiIiIhIztAJEBERERHJGToBIiIiIiI5QydARERERCRn6ASIiIiIiOQMnQARERERkZyhEyAiIiIikjN0AkREREREcoZOgIiIiIhIztAJEBERERHJGToBIiIiIiI5QydARERERCRn6ASIiIiIiOQMnQARERERkZyhEyAiIiIikjN0AkREREREcoZOgIiIiIhIzpikUKT0v4iIyATzxx9/pM8++yz99ttvpS1SiUw++eRpttlmSzPMMENpizQVfvjhh/TFF1+U7kklM88886TpppuudK9h0AkQEZFa4f3330+dOnVKs846a2mLVCI//fRT2nXXXVPXrl1LW6SpcO2116aTTjopNWvWrLRFKpHXXnstXXrppWmzzTYrbWkYdAJERKRWeP3119MhhxyS7rrrrtIWqUSuuOKK9L///S8deeSRpS3SVMAJwBk/7rjjSlukEunevXvaYostGtwJsCZARERERCRn6ASIiIiIiOQMnQARERERkZyhEyAiIiIikjN0AkREpMny+++/p++++y7+1gTanH799df/2f+vv/6K9os///xzaUv10HODfb///vs4VkSk0tAJEBGRJsuzzz6bdtlllzRs2LDSlup544030nLLLZeee+650pa/wTE4+OCDo61fTRyKX375JV100UWpS5cuaeTIkaWtIiKVg06AiIjkknfffTfdcMMN6ZZbbkmvvPLKv4x7FlziMdqdsgDamIwePTo98MADsc8zzzwTRj988sknsW3QoEFp1KhRsU1EpBLRCRARkdzxzTffRE/1559/Pgz9Pn36hFOQLZ3DYj4vvvhibL/qqqtCCpSBZAgjv1+/funxxx9Pffv2jcwB2YJLLrkkXXbZZWnEiBHpww8/LB0hIlJ56ASIiEjumHzyyVPr1q3T6quvnj799NP06quvRsQ/cwKWWmqpWHmVFZAx6FmAKYOFtq6//vq00UYbxaJMc801VzgML7/8cnryySfT4YcfHoumLbDAAqUjREQqD50AERHJHRj+J598cqxyvOmmm6Z555239MjfzDPPPOEozD///GmKKaYI+U/G559/np544ol0xhlnpK233jr1798/nAQkRH/++WdaZJFF4thZZ521dISISOWhEyAiIrkDPf+UU06Zdtttt7TKKqukGWecsfTIuJl++unTYostFtF+HIBHHnkkMgIY/W+//XZIjUREKh2dABERGS8aW8tLJD7o+Cn85Ua0nsg/rUMx2B988MH/dANC7oPs5957700//vhjWnDBBUuPpLTQQgulVVddNTT/1AqcfvrpaeDAgZEBWH755cPB4NzIg0REKhWdABERqTEfffTRP0W0Ne2Z35BMM800cZ1du3aN1p/c0Pqvs846afHFF0+77rpr1AO0bNky/fbbbyH9adasWVpmmWWiZgC50LHHHhtOANr/WWaZJc555JFHpuHDh6eOHTtGZmCrrbZKSyyxRDr77LPDgejQoUNIinA2kAaJiFQakxSyKigREZFxQCvN9u3bpxlmmCEMaAxliminnnrqMJiRyNBtRyqXK664IrIcODLStKDjFfUpyNOkcunevXvaYost0mabbVba0jCYCRARkRqDFAbj/6233kqHHXZY2muvvdK5554bvfKR3IiISOPATICIBGifH3vssZBEiFQHDsB9990XRv+kk06aJplkktDIb7zxxqGtNxNQ2ZgJaLqYCWgcVEomQCdARIKdd945eqbPN998pS0iY+fpp5+O6P+vv/6aJptssnAE0MYzod100006ARWOTkDTRSegcaATICIVxZZbbhkFkxROilTFV199Fd8TVsWly84mm2ySDjzwwLT00kvHY0iEdAIqG52ApotOQOPAmgAREWl0YGBceeWVaaWVVgoJ2Y033pjWW2+96JxDRqAx8P3336cddtghuvpkt2233TY6HlUHUjle+8iRI0tbREQaLzoBIiJSY2iVefPNN6eHH344tWnTJk077bRRE9CYIAGOlIloKWsA0PaUlYFPOeWUWEkY2I6xT8Sc1YJZX+CGG25It956a/ryyy+jHoJz8D/74Vg0tvUTRCTf6ASIiEiNIeKPBIjVdpsKrPTbqVOnMOzfeOONWOjrtNNOC4lcu3bt0hlnnJGGDh2abr/99vTss8+mk08+ORYKu+2226JT0oYbbpj233//9N5774WDISLSGNAJEBGR3IMkCEaNGpW++OKLWDDszDPPTKuttloY/mQ7dtxxx7Tuuuums846K80555yxP7r67bffPqRErKFAnYSISGNAJ0BERKQMtP8ff/xxeuihh0LmQwekMcHY/+mnn9Kjjz6aPvvsMzMAItLo0AkQEZHcg0EP00wzTRQ8Y9wjB9ptt93SHHPMEY+V89prr6WLL744LbPMMrHPwgsvXHpERKRxoBMgIiK5BgfghRdeiNqAJZdcMroczTjjjCH5QQr0wQcflPb8f5AHsQ8OArUAWUGxiEhjQSdARERyCQW+LI632GKLpQcffPCfiH7btm2j8JdVkFnzYJZZZolagcUXXzy9/vrrqVWrVtEtaNFFF03t27ePGgHkQ3QJskOQiDQWdAJERCRXzDTTTOmWW26JLkBE8NH00/Z0hRVWiCwAC58NGzYsWoc+/vjj0QUIx4DHR4wYEcY+BcIsusUCaWQL3n777bTXXns1qa5JItK00QkQEREREckZOgEiIiIiIjlDJ0BEREREJGfoBIiIiIiI5AydABERERGRnKETICIiIiKSMyYpuNa5iBRhddSTTjopLbfccqUtIuPHu+++m1q3bp2+/PLL0hapRKaffvr4re+5556lLdJUuPbaa9P777+fjjvuuNIWqUS6d++etthii7TZZpuVtjQMZgJERKRW+O2339Lyyy+ffv75Z28VfDv11FPTN998U/rURCSv6ASIiIiIiOQMnQARERERkZyhEyAiIiIikjN0AkREREREcoZOgIiIiIhIztAJEBGRRseQIUPSYostlo4++uj066+/lrZWFh999FG655570qhRo0pbqof9dthhh3TNNdeUtoiI1B06ASJSp7AUye+//55++eWX9NNPP6XRo0d7q6cb7zcG8p9//ln6NJoGvKannnoq/e9//0sPPvhg+vTTT0uPpPTHH3/E43zvuPG9YxvwPeQ9YRv70NKUffjLfbbzvrEf9/mfxzKy49menZP3NjtXdm7O+e2336Yrrrgiri+7Ho7PPpfsM8meP/uscARo4ykiUte4WJiIBHWxWNgPP/yQXn311fToo4+mF154IX344YdhJEndM+mkk6ZZZpklNW/ePK2xxhppzTXXTIssskhsrytef/31dMghh6S77rqrtKVu4Ht04IEHxnf1kUceST169EgdO3YMw/qGG25ITz75ZDrqqKPStNNOm7p06ZK22WabtPnmm6fLLrss9e/fP7Vo0SK+mwsssEA69NBD04UXXpg+/vjjMNL5rnbq1ClNNdVU6c4770zrr79+OuaYY9KUU04ZRv1NN90UBv5+++2X9thjj/Tiiy+mvn37pjnmmCM9/fTT8f5eddVV8b3ffffd019//ZX233//tN1228Xx2Xtz8MEHx7Yvvvgi+vY/8cQTqU2bNmnYsGGRDajLhby4DhyoI488srRFmgouFtY4qJTFwnQCRCSoTScAw+ezzz4LIwrDqGXLlmm99dZLSyyxRBhmUvdgELNy78svv5zuvvvuiDZvvfXWaa211kpTTz11aa/apT6cAKas+++/P11++eUhBRowYEC8thNOOCFe19icgK222iotuuiiYezzHqyyyipp7733Tosvvng4AWeeeWYYxZwD+c4555yTbrvttojOn3zyyWGQ4yDwfcZ4573F6bjuuuvif45nQuc7vu+++6YOHTqkbbfdNp133nnpxx9/jGNuv/329Pjjj8e5X3nllbh2Hh8xYkR66KGH0kEHHZQmm2yytNFGG4XToRMgE4JOQOPAFYNFpMlCdPPKK69MX331VTr22GMjUkv0VQeg/sCgnHvuudPGG28cRmpmtN54442lPRonyGnIKmHAY9jj1Lzxxhuhv68KDPWRI0dGdJ9j5pxzzjg+Y7rppovts846a5p55pnDEZ5vvvnSjDPOmKaffvqQ57z99tuRLRg4cGAaNGhQbOc+sN9cc82VZppppjie7385OAIY+2wnS/DAAw+kKaaYIjIaXPe8886b5plnnvi7wgorlI4SEalbdAJEpFbBYCLqScS2a9euUbxZlxIUGTdIWYgwH3DAARFFf/jhh0uPND7ee++9iKgjnzn88MNTv379wkDnfrl+vyomJvmNY8V7iaFPpH7ppZeO7dNMM004uJNMMkncr4rseAz+3XbbLRwPwEkg0yAiUp84M4tIrfLWW2+lwYMHp5133jkim1I5rLjiiqFjP//889M333xT2tp4wFBG3oTsZ9ddd410+o477pjWWWeddO+994ZWn6g82QKc0U8++SS0+RjfGN4U3uJEcMMZqikY+dRWcI727duHdp+C35rKqmaYYYa0zDLLpNlmmy30/iuvvHJ65plnInOw0EILhWyLTAUFztQYiIjUBzoBIlKroKleffXVowhVKg8MUApi0c1PCBisaNhrEnWvbb777ru4boxxHIC2bdumTTfdNP6n4Pydd94J2RkReQqBr7/++tSsWbPIRCHxadWqVTrxxBNTr169IkNVUzi+devWadlllw2nY5NNNgn9f3VOLtKjhRdeOOoIKPylOJv3nQJtsgD8RXLEubgWnBoKl3E2RETqAwuDRSSorcJgjBqMHqLOUnkQTafDDRkbDOLxZejQoWEAr7rqqlE0y18i7VAfhcHo+yF7TmAaYzvbcAD4n+L0TIbGNjIIF198cTgMXPNee+2VVltttbje8nNyHOfjf/5m5+Ec/F++L9vH3IfH+ct9tnPL7mfXCZNPPnlsh+y82T785VZXWBjcdLEwuHFgYbCINEnefffd6AIklQnGJxKU6gppq4PoNlFr+vQTHacLzvPPPx9RegzYugbjm1s5GNPlRjWPU3ib7YtBTUYADT+GL9kQtPlIo7L9s3Oyb/Y/5+P/7Lw8xnm5ZUb6mPvwf/YYf7mu7PHy47P9IdvOfuyfHS8iUpfUSSaA9mdff/116Z5UMkT0Joas6wWt9KRyQbuMYU73k6qorUzA/PPPH1psqVww2ukYVF2nIDo7UXCLjn5MHnvssXTKKafEY5nRu/3226d27drFard1vU6ATBxmApouZgIaB016nQAmAjolUAwllQuTdbbq5YTy3HPPRTp9fPS1Uv9glDPo0CayKnQC8kNNnAD67TNGoFsfkw8++CAcAcYPHACi2mjx6UA0fPhwnYAKRyeg6aIT0Dho8k4A3Sey9mdSmdDxYmKXp2e1TnqP0xNeKhcKISmmZOGkqtAJyA81cQLQz5PhY6Grclhp94ILLoh6AIqD6WtPHQgOACsUY1jqBFQ2OgFNF52AxoE1ASIi0uhggSsyBAR5MDQI+LD67brrrhu69rqAVYExbugANC4osKVdKIGJsUmZxoQ4GLIn9n/ttdeiSHdcIIPs3bt3BEHKQQaLw00b0Ox27rnnRuvS6iCjwrmU0YpIfaITICIiNQaZZ7du3aL9JouP0fqSrGJdgsSI/vk1kS9ixL/55pvRxSjrxFMdOAHUP7D/mCv9VgUZEORQrDdQDpkTFmJbaqml0v777x/tRFnduE+fPun7778v7fVfaHvK+0lxtYhIfaETICIiNYZe9/vtt19afvnlwyEo73JT34waNSpttdVWaY455oi++48++mjpkb+j9Rji9PKnHSjyF5yIq6++Oi255JJxzB133FHa+//BwCeaz+N0E2J1YsBR6NmzZ7z+cUktqJGiDenGG2+cOnXqFNkT1jDgenfaaac4NzUUZCxorMDzIavEaWA/HIyVVlop9ttnn33S559/XjqziEjtoRMgIiI1hkJg2ms2pPGf0a9fv5DcvPTSS1GbQMQ9M5jRRVPPgMwGB4A6hQceeCAWOiPqfvfdd8eiXRybQVaAgmii92QTWEfh0EMPTW+88UYcS1tVFv/CkMdQHxe0+5xrrrlCloQTMXDgwKiZ49wsdHbeeeel6aefPgx99ME4AuzPNSK5Yv/PPvssXkNDLM4mIk0bnQBpEqClJTVfk/Q/UNz48ccf17i1KedlfybymtTSI0mgOHbkyJGlLSJSm/A7pNvVTDPNFLKk22+/vfTI31DgTtSe7kZE1THs6WYGaPSpL8BxKF8vgezBsGHD0uyzzx7bcXg4Bw4FEXsyA6yxsPjii6d11lmndFTN4HpZ3ZjMxL777hsOzNigne92220X6zAcddRR4YCIiNQFOgHSJLjllltColCd7jYDg/7pp5+OFHxNCwFHjx4d+9NNpSa6ZJyL0047LTqsiEjtw2+dgmSi9ccff3wY1tXB757fJfUF55xzThQ00zFruummK+3xtxSI3zrjA92P+vfvn+acc8401VRTxeNE9GsyXmRg+LNCM84E5z799NOjpTLXzW1s4HDQxeubb75JZ599dlp99dVLj4iI1C46AdLkwdBnwqcl4n333fdPWh1jnlaJF154YeiE0esCxXmDBg2K7h9EF8eWLSDCT7qefe6///44F7eXX345DP/bbrstsg0iUjcQyUf6s/POO4d2nkxdOUTQKfTld8jvlda1LJiHVj9zAvif2oYMahyI8lPsjDQHR2C11VaLGgKyA0hzyCJgoNdkxWWu8dVXXw0nguORJaH7z7ILY4Nzc9z6668ff7kvIlIX6ARIk4ZJF8OfKCDGAAY/sgBgcmVCJ7KHQY/BjxwA7TBaXKJ+FA6iAS4HJ4F2gnT04Fj+pyMIBgIpfjTGRBNpO1hTeZKIVA0ONr+xAw88MO29994RRUduhySnb9++6YgjjkhvvfVW1CpkbUE5hkj+YYcdFuuhoLlv06ZNRP9Z7ZjMAccQpc/g+M033zy2odPneTD2Wfxyww03TDPOOGM64YQTYqxgpeSq4Jq4Tp4DWQ8yoGWXXTattdZaUXPA62CcIAvBtXFNOCwUHFNrscwyy8SaHZdddlk4CwQoxicDISJSE1wsLMc0pcXCmCyJ3mOEs2BRBlF8ooVE/PlOfvrpp/90/qA4kLQ7kb5LLrkkDRkyJCZ4+pEzKbOYBxkCag2y9D0TOftzrg4dOsQiSUzc9EcnesgETycSIo7olPkNMJk3NLxmFwuTjIlZLKw6Xn/99ZC71PZiYRjrrFKcwdhFdB4nG3kPBbhE8TGqF1xwwagRQi7E9Pbll1/Gd5KOPRj3jAF04CEjSE0AhbgY2Tjxc889d5p55pnTu+++G8Y3EXx+D7POOms8F9twCjiG45EKla+onEX+y6P37Mu1ci6uhWwh8DxsW3jhhcOhYDuBipVXXjkcAp6H18Nr4PrJHlTneIwPLhbWdGH+4nvqYmGVjYuFidQDdOEgokeP8bPOOiv6d2dgSBDhw4DHQCbCzyRNASAGUsuWLcN4xrDJJEEYAkzQ7EOUDwOBqB+DbrYgEIWKnBtnpBI6qIg0dnCqWZE4u6299trhyGO0cx/pDMYzhbt026F4l98mUh+i/82bNw8Dmt8jBvV6660Xx2GgAwY5x2Ls4yggCeJxFkBjG3A8jgTPRaR+xRVX/JcDABT1tmrV6p/r5IajkdUUcM0bbLBB3NiPa8R5YRxC+8/+jBs4DfxP21OyB5mjICJSm+gESJMFOQDGPxNojx490iKLLBKTdHUwGWMAUGz4yiuvRBYBORFGAjARY+QzeZMlwEEgosb/RO2QE2W1BSIiIiKVik6ANBmQNrEoD1F5/mKQE+EnQk9GYMCAAf+sIkqKndoADHz+IiMi8kamgLT7M888E/sS7ScrUE4WlaMmgHaCyIKQRBFJJLL47LPPxjmfeOKJ6AzSFEG2UAdKwv+AJAKNNu8tBd6VCN+vW2+9NSQ2VcF3E7ka3wmySqeeempIz7IidRERkfpGJ0CaBKTlSbmjX95jjz1ipVAKetHwIwmgNR9a3V133TUi9kT2t9lmm0j90wEE458Wo6T+6TaCnIBsAB09dt9999Ack6JHSoAEAd0zWQL6eCMZ4BikAvyl4A9NNMYrMoSmBo4N7xmLJSGfqitngPOSaUHDjcaato0UR7Kd9Rro/oKjx/Xwnmd1CDgoOGEUZLIPzhyF2mi++Z9tXDvnxmFkYSaOzwpKOZ792M4+PCfHcxzadJw8HseY5xja09JthsfQoSMXY5VZjuc7hwNAvQl1K7wGZGdbb7112n777eN7hVOKs8M1cQzHA/txXRSY81rITGXXKCIiMrFYGJxjmlJhsFRPbRYGE71Gq4wTxDEUR6NnxoHKNNe1URiM4c04QntHZFyck+5OdGghg4OTt+eee0YhKKvGMu5069YtIu58H5s1axbHPfroo5HpIQpPsSsLMZHp4buPNpwMA4Wkhx9+eOi8b7755lhNNlsVl04uyMRwJLOCUAzyY445JrVo0SIde+yx0UWKhatwMjk3WQGMeF4DnWtwSig+Z38KxslK4bywlgSF5zfddFM4O0jLWNiKfag7obivdevWkdnifFlx+sTWmjS2wmCpXSwMbrpYGNw4sDBYRBolRK9pu4gM5tJLLw2DFQOatREm1qksB+Of6DoFlLRYxFgmKl4dGPM4phjKGOljGsw4BRtvvHHIvKjdwFHA0SAzhKHO5EkrSrI4GO04Njgb1JcQhScL1LNnz6gvISOAQ8JAThE5kX0cEp5zq622imMx5OlEg7NBgSf78HjWlpL3i+g/2QccMBaHwsEYPHhwPE4WghqVgw46KPbFYSFzICIiMrGYCcgxZgLyA5kAIuQYr1VBpJwsAIXP4wLZy4MPPhjGMUY2Nwzqzp07p4suumiiMwEYvxjCrNdAdyfkWfylKwzyLJ57bJkAnIUzzjgjjPJddtklZDisJss6ELw+It98V8li0CseZ4boPIY90i1eP1InhkWi/tSSkB3AacDhodMMmQ/OiQOAZAyngag5EX8M/z59+kTHKd5rIq5cI+e44IILwrngHByPU8Hzn3feeSE74/Vh4CNl41j243NjH+pQeN2dOnWKbAPnnxjIBJC5qG41WpwXnJbxyQTgpFEjQ/ccqVxwsJGkIYGUpoWZgMZBpWQCdAJyjE5AfsCYxOhk0KkNkKdgjCJ3oUiayDYGLtF3fv8T6wQQ0adwFqMdYxxpDivCUnfBJIdxXpUTgHFPtJ3aEHT2NXUCqPlAioMTQ9SelpO8Nlo28jtBikTxOMY5EqAxnYBDDz00JD1kRDDoieDjFJEVqMoJwHHgWJ4H2RHOVLkTgFyIuhOkXLXtBCAF4T2oCmRROCfj4wRQN8EiWThiUrkg10LixndWmhY6AY2DSnECiHjVOsUXVXj33XdL96RSmXrqqUv/TThDhgwpdOnSpXRPKpWTTz65UDR+S/cmjj/++KNQNGLj+1M0zgtFY7Xw6KOPFn744YfCX3/9VZhvvvlKe044L730UqFo8BaKhnOhaLAXvvnmm0LR4Syss846hVtvvbVQNOgLRWM4nrdo0BaKRnHsy35Fo7Ww0047FUaMGFHYd999C0UDvPD6668XLr/88rjWDz74oPD0008XigZ5nOfHH38sFAfkwjnnnFMoTp6F7bffvlA0YgufffZZoehcFIrGf5yLfW655ZbCqFGjCj169CgcffTR8XoffPDBQseOHQtDhw4t3HvvvXHM8OHDCwMHDiwUHYjC1VdfXXj55ZcLRSO+MGjQoHg+rnG//faLcxUdlELRYSm89dZb8Xq4xhdffDGurejYxLVyzRtssEG8ht9++630Lk04XCvvb3UUnaFC7969S/dqBu8T479UNnyPevXqVbonTQnGE8ZnqWy6detWKDrjpXsNhzUBkgvQr6MFpzMQkg004EVDMVYGLf4OSnv9F7TaRDXLVwDNO0iAkLAgnSFaXDR8U9E4j0WaJrZgFSiYJdPA+VZZZZVYlZVoPF2eeE6izUTKaeXKZ4hMh4gK3aH4XIm8kzUgas5nSw0D18XjLMxE1oJtnJ8IPI8RFaVegC5TZAd4TUhaZpttttS1a9fYj32yYuFsf/4n4s/jRPCRSXENZAzOPffcWBSKgl4i6uy/2267xUrVRPKzc3C9LCjVtm3bOAdZAu5n18hfrplrz55fRERkYlEOlGPyJAfCCUAygrG41157RYtJ0qUYb3RcwdBEyoFWFgNt3nnnDaMRacg999yTevfuHYYZ3VKQumCoIlNBpsE5Kp2adAeqKejW6Z6DU5WthFpObXUHmhBw2nBQ0KYjm6EmgGthG/Id+Ru7A+UbuwM1XZQDNQ7sDiTSgBCZ3XbbbWMi/OCDD8IpwFCkKBSjh+JOurTQ151sAQWqRJeJfOMQ0K0FPXhDGbsNCU5PFnmvNMj00LYUB43PkO5CdC/SARAREfk3OgGSW5BaIG1BwsGiU/S+p6MMsgvaP/I4nU4oFqWAE2kIXWqQoCBLYSEn2lbWQTJNJhBkMxQFI+Gi9z43MjgiIiLyb3QCRIqQEWABKuQM9IJHKjUmSCNefPHFcBBwFMa2j4jUD6yZQA0Fjh7OfCVChpExg7GjJrAfXaRY4E5EpK7RCZDcQgaAoksKNFnxlfsUk2644Yb/kY8Q7R86dGjUB9C6ETkMmQERqX8w+qn3QNvet2/f9OWXX5YeqRww6GkXS5E57WBrAvuxP8EIEZG6RidAcgkGP33j6TtPd5es0wt6d3rLf/TRR6U9/x+cBQx/9iG698UXX5QeEZH6hHUkqNfZbrvtouifrADgHGB4U+zPWhCsCt2tW7d0++23h4Hdr1+/tOqqq0bROFkEaoDIArJSMz3zCQLQ0IKiaNZnoEPUqaeeGgY95+Z45IHsg7HOonasNM3zseIzkkIWWOOaWOyOTlNI0+gUhaNC3RHjDRK1xx9/PK6ZfVkTg+fir4hIfaETILmBCZtFnNCN08aRolEWm5pjjjli8kfjj9Yf44KWlLR2ZJEn7tOOEieBwtM11lgjoo8UFNNNKG9gDPH6aypxEKltWM2Ytr20XGV1aH6jv/32WzxGfQ8yHL6ndLLCWWfbiBEjYoE5uoPRFYcOSTgT7MNvmdazdFRhdWhqgFh4DmeADmjZDcP/8ssvjzavdBsbPnx4+uWXX9LLL78c4wi/i0xauP7668cCcHQBoTidReUIMHDD+WAsIuKP9IcmBJwXB4LVsEVE6gOdAMkFGPX3339/OALZjdamtLMEonOvvvpqtJjEoKB14tprrx0ROyJ4tFKl9zuRQI7FgKClKJN23vq2YzRhRNG3HyOJnv41lTuITCx818jEkcVbeumlY40KpHpE/quClr50+UL+t9RSS8Uq06xBkUFQAIef1sC0C27dunWsII1hn60YzfhARyycDdZrYEVpOoYB8kFqieg6xl8aBpSDE8I1c26CCzQdWGKJJWI/shj8zxjEX9aWEBGpD3QCRGS8wJBC/vDZZ59FhHObbbZJV111VRgzRF9F6hKMfRx1nIFnnnkmpH1E+4cNGxYOanUg+6Ogf3wdd77XBAh4vsMPPzycYM7FbwFoFIAjQZZxbHCtXCd1DPvtt1867bTT4vhsjREci3Fdu4hIbaMTICLBc889F4u+sQJvdTdkC8goyIgQYUUTjWGz9957u0iU1CkYykTUcUAxqpH3cB+DmgXsiLLzP0Y1301qAnAaMM6J1o8ePToyeMiFkP/UFBwHVqkmO4jk59prr432wa1atSrtUT1E/slckGG49dZb02WXXRbNBcg0soI5EiJqA7j+PK49IiINg06AiAQYJqy0S8RzXDeMqTHB6EIfLU0bjO+Gyvrw3UP6g0HNon04pUjSunbtGsX83Jo3bx5OANF2HAMcByLuFN5iyF999dWRuaKmoKYQ8acWCLkPz9uzZ8/01FNPhSNcFRzD/jgp1BKsttpqcR3UG5BJoAYJWdG6664bWYSzzjoriprNCIhIfTFJoQ5WOmrXrl06//zzo4OCVC5Et9C6TgwUy6GtJ4IslUuvXr3SPPPMk7p06VLa8l9YaZcOJxRHVweGD9kAVk3G2GJ/FlDDmKFOAEPLaGZlQ03LmWeeGbUvVYFxTfE3K2iXQxErxbNrrbVW2nnnnUPHnslgKHQ95JBD6iwjhKyG58fAph4AI5opjEg6xcLo6meaaabYB70+i/txzHzzzRffVZwGHieCT0Sf7yvXm2n4OZ7MAdkCugDh1JIxoIYAPT8FxBQYc06MemoIcCZwPqgvwpjH6CfrwPtCxoLiYWoLuF7243w4A3QpYmVrjH6cb27UE3Cd/Fbrcv6ktSrvGc6INC3IUr3//vtR5C6VCw0DyAZuttlmpS0Ng5kAERkviPjjVGCwnH766al///7RcQWjaYoppijtJU0VjGiKZS+55JK09dZbp2OPPbbe+vRTmIsB36JFi3AAAH0/xjTtOTHUs32Q69A5aPXVVw8jHsOcx2655ZZo3Yn0hhajyIcw0Lnx/WVfjuH8HEMBMd91HB0Mc4JcW221VTgWPDdtgykqxtDnePanqJj9cQzoMkQRMZ3FKErmupj8uWbAIWD/zTffPPbjdRhAE5H6QCdARMYLjBaKI1k5uUePHmHAuHpyfqBdLl2xiJIjC6LHPsYtWaRKbhuLkY7DQn9+1ghh7QBkRSIieUU5UI6pDTkQhuC2225rz/gKh2jnOeecE5HbqqipHGhcEP1UDlTZ1FQOxAJaY3PwkMPQ9jKbPoiIkyFYb731IlNkgXhloxyo6aIcqHFQKXIgnYAcY01AfqjNmoBxgZyCSYiMgVQmdIJiFVukXFVRVU0ARj6GBh2hyAYgwUF737lz59C5H3PMMToBFY5OQNNFJ6BxYE2AiDRJ6IiCgSGVCYXdFLOi658QKG5lxVyO33jjjcPoZ4VcVt8m41QXUFzLOgA16UjE63vzzTeji1BN9icORstQ9me9gZrExSjeZeXfMRcFw2liZeAbbrjhnxvSo3EFW7hmzmVGVUTqE50AEalV6H2OwSaVCZF8uvjQSnNC4HiKWjH+6bZDUfiEOhQ1ZcCAAZFxrEkLWrrt0JKT7CTG+rjA6KczD/tT41ATJwApFK1CyYSWw/oZZN24Xs7F4mJkVO65555qHQGcFp4fJ0REpL7QCRCRWoXoMEWXNTHApP5hAa1HH300Fr6aEJB70YN/jz32CBlQVavk1gesV0F//d133z2cEtp3ZuAwsCYAaXfkL6xvgIOA4c5K1xxDbcSYkD1gQS8epw0uDhOwRgFSC5wejPzqoE7q5JNPDodgnXXWiezAhx9+GNd7wQUXxLmpt6CdKPUzbCNrcN5556WRI0fGc1J8z344B3xmIiK1jU6AiNQqGD1EUx944IHSFqkkMIjp6MTiWRPCtNNOG8Z/JdR8DBo0KK6jffv2IVPitWWLgGF0U5eGs0NmAOOf1a0HDhwY6wPQPhSD/t133439Mx566KF08803h16X9p8nnHBCrDnw9NNPx+JjtB+lDgIDflzQFpTMGIXUrBnAdZBJwUmgRSnGP84y7Ul5TymsZg2EO+64I66Ptrv3339/PDfHiYjUJjoBIlKr0FN9t912SzfddFMUoErl0KdPn1jp9qijjvqnz35jht76GOtEy1ltlyg6BjewaB2r/LIPxe44AWRAyFxsuOGG0Slr1lln/ZcTgCaf/ehwRYMLbhjlyIWQ9jRr1iyej17+tEUdF3RN4ng0/2QYeN5OnTrF9fL7wDHgcdqu0sJ02WWXjWuiyJrr5PMiW0EmoCYyJRGR8UEnQERqFYwXFkxq27ZtOvXUUyOySrRTI6b+4T3HAEUKQ0SbbkAYoDPMMENpj8YLxv7xxx8fkXakNchnysHJwcDmxv/o+DG6KWomQ8BiXzhE5e1skfwQ9SdCny06hhGOVp9IPIuBcT7+jm8RNL8B2rLy3Pvvv38stDc2eC7WYSADwHWQHRARqQt0AkSk1sHowpA58MADoxXlvvvuG5FPCoYpgvRW9zf08US+0ZkT9cbAxbAkU9MUYJVivk8UJyNtGrPwltdLXQDGO39Z/ZcI/w477BDRfxwjjt9xxx1LR6TYh5oHvq8cg7SI92yjjTYKpwAngmwBBn1NOvnw3J9++mkci/PwyiuvpIsuuiikPtQHjI233norHBNasOKsWVsjInWF6wTkGNcJyA/1uU7AmGBIsUrrk08+GcbXxH7npGaQkaFdKxKT9ddfP/6OjwSoqnUCqoOC1kMOOaTW1wmgnz3n3mWXXSICz9i18MILR1EwxvS6666b+vXrFw7OiSeeGLUCGNtkCjDmyUZxLO/HNddc84/TgPaf+zgU/EWrj2yHAmBkRDwn31kyWkiCKDRebbXVolaA94Xzl/+myCIghVt55ZXjmsg+DBkyJDox4RQzL1K7QG9wxk3kQjhp9HVn5eWtttoqtWjRIrI2rLmAE8F7uc8++8TxOBO1gesENF347rpOQOXjYmHS4OgE5IeGdAKkcVJJTgB6fwz5DFqSoq0nSt63b98wjtHVU7DbunXr9MYbb0RhMNMbawxQHMxkSzQeCRAFvhjoXbt2DaP7gw8+iNXPidBTS0AB7+DBgyMSjz5/iSWWiOdiG0b9iiuuGMcjRVp99dVLV5XSt99+G+Mh0fwMzr/NNtvEisqvvvpquvzyy2M78yPbqBNAXoRhTqaBzkUUHZPF4fXwGqhBoOC+tuo4dAKaLjoBjQOdAGlwdALyg06AjC+V5ARI7aIT0HTRCWgcuGKwiIiIiIg0CDoBIiIiIiI5QydARERERCRn6ASIiIiIiOQMnQARERERkZxhd6AcY3eg/GB3IBlfJqQ7EIuU8R3ba6+9SlukEqFNarNmzVLPnj1LW2oHWq0+8cQTpXsyJjvttFPpv7rD7kCNA1uESoOjE5AfdAJkfJkQJ4D++KzI29ATm1QPq0mz9gBrEtQmN954YyzSxuJ08m9YFG7UqFGle3WHTkDjQCdAGhydgPygEyDji+sENF3qap0AnAAWRDv55JNLWySDFa7JlNQ1OgGNA9cJEBERERGRBkEnQEREREQkZ+gEiIiIiIjkDJ0AEREREZGcoRMgIiKNji+//DLdd9996bXXXkt//fVXaWtlQWH1yJEj0++//17aUj3s99xzz6UPP/ywtEVEpO7QCRARkUbFn3/+GQ7A1ltvHR2t6qP14vjy22+/pcceeyzddttt6ccffyxtrR72O/7449O9995b2iIiUnfoBIiISKPi+++/T08//XRabbXVoh0i6xMAGYGhQ4emAQMGhGMwevToaIf5/PPPpz/++CMWsjrmmGPSJZdckq655pow0DnXPffck/r37x+tremd/8ADD6Sbbrop2p0OGjQoDHocD44/6qijYp+XX3450WGb5+f5OBcG/AUXXBDP+8ILL6QTTjgh2idj1PM8OC4HHXRQOvzww9Mbb7wR18y+t9xySzr00EPTrbfeGttEROoDnQAREWlU0G/9o48+St26dYv1aJDQYOTjBGBcP/zww+mHH35Iv/zyS7rzzjtjG8Y6hj6SmznnnDPWNyFSjxH+0EMPhQHOdo477LDD4nnmmGOO1K9fv/Tiiy+m4cOHh2Mw33zzpfnnnz/tv//+cc7PPvssDRw4ML377rtpkUUWCWcAB2X22WePVXnpD59dI330V1xxxTTttNOGw/Dxxx+Hs8Axc889d5p++unTSy+9FM8tIlLX6ASIiEijAWMfg3yuueZKa6yxRlp77bXTU089lb7++uvSHv+FY1jI7Ntvv02bbLJJ2nDDDdNiiy1WejSlqaeeOgz2DTbYIM4322yzxV/2hc8//zwyDET+WeBnp512SlNMMUUY/jDppJOmBRdcMLVt2zYcB5wGrq958+ZxXh7DMZh11lnTNttsEzImMgtkMHAOcAA6deqU1ltvvbT44ovHOUVE6hqdABERaTQg80Hes+SSS0a0ffXVV0/ffPPNP5KgsYHxjqRnxhlnjGj/VFNNFSumZ0w22WThCEw++eRxm2666WIf/ucxVlb/5JNP0g033BDOA9H9Z599NrIRMMsss8R5cQw4hucqh+wC+15++eWxb8uWLcOpIIvw66+/pimnnPKfG88tIlIfNCongIGYTgsMnERm6LxQFez71VdfRbSlKhiov/vuu/8M2DWBtDOTEYM7E0wG24k2cY3Zjfvl+1QFk8GEXIuISB5gHEUuQ+T/zDPPjCg7y+6/+uqr6a677orCWqLyjMPsSwYgG1Mx5tHlkzFgrK1u/hgTHIR555037bjjjum9996L8+B0kBGoCch8kBHtueeeMW9wwwlo165dOA5ffPFFyJK4Xq5NRKQ+aBROAIM57eD69u0bgzBpU24Ud+EUjGlgc//xxx9Pxx57bAyuY4NJYsSIERGZQS/K/fGB6+nRo0c655xzYvDO+N///hdaUVLJWdp33333jeeq7jlwRiguIzVcaaCrZdIa830WkfyBUY0hPb5jZm2A4Y7UZrnllgtHgOg8EXYKbTGqCQ4tsMAC4QwwB7APMiAM7aWWWirNMMMMof+///7741ZTyAqstNJKUU/A8VdddVXafPPN/8kEjA2cEbINzBXMU6usskr85Xkvuuii1LVr13AmVl111TD+H3zwwfTkk0+mV155pXQGEZG6pVE4ARjZDLp0Y8Bop5grK8S68MILI+KP8Yzm8u67747/KcRikCb9y4RFcRjdIIgiUdyF0T3PPPOktdZaK/SYGLkUbeEQ3H777RFVyjSmDNwY6Bw/ePDgfxn9YwPd54EHHhiTBTcmrP322y8cBDIUTEyci44Qn376aRjZPHfv3r3TM888E8/H5EahGvsxOTRkhoA+3KeddlpMXqTddQZE8guGb69evaKjDmNafY4HZHZnnnnm1KZNm9DcTzLJJBHhX3/99SOqjmPSokWL1Lp16zRkyJAY5xmLmQ+Q4eAgYGQTxcf4pkAXQ51juCHHYV+Ox/CfaaaZ0jrrrBOFwEh4COwgA2Kuufjii0MahAyILkXMIxxDAGj55ZeP7AH/cw7kS61atUpbbbVVzC/vvPNOOuWUU9JCCy0Ucia2Dxs2LN5PHBpqCURE6ppG4QRgKNNBgUEaw52Bn8ItDHgMVAbU66+/PvXp0ye9/fbb4RRgaDNRMWExWeE8EI3HGcAgZzsG/9VXXx0TAvf32WefaOX25ptvhtNBJIlJhOOJPhFROvvss8MJqU5mVA4TDIVkHEvKmufkfNynOwXGP04FkiEcBIxsshcY/rxmnpc2czgHDQVRKq6Ztni01+M9xHERkfzB2MfYSMaTdpkEM5BF1gcEdfbYY4+08847h8QGmA+WXXbZaL25zDLL/LMPrUF32223uE4KiBlfGWdxIhjXyRbgPHC/Y8eOqUOHDuEUsC/HZBKevffeO4z6zNkg8MS8sfLKK8dzU8jL81CjwPFIfghAURuAo0G2uHv37uEsbLnllpHRJovNNQOOB3METgXdjngdOCEiInVNo3ACSJkyUBKNYWAFUq1oNCmiyiL2RGK6dOkSHRoYsAGDGsOetmxMWNnAWxVMILvvvnsM6Bjt6DNJA2+88cbRlg6HY3xXqCQiRNSKiZKJYKONNoroENpSIkRMJHSlQN+66aabxqRC6pgIEalknBeupaFgYmXy4vVfeumlEaniPcIZsIZBJF/Q6QYtPPVOGLRHHHFEGN0333xzRevZmS923XXXGH/JzhLUIFIvIpJXGk1hMFpMIjlZ6pm/2X1SsEC6F+1nOUSscQjo38x+OArVQXqX/TkPx2KEo98k2rXLLrukFVZYobTn+ENEHc3neeedF5IhDH8iR2OCHIioEFKibbfdNi2xxBKlR2qfNddcc5w3HCAyLXwGOD9kM+iSQS9tImIi0jRh7BtzPGDcIpJNAIDxAFkm8kwWu2L/SoVAEuM39WRkEmgTyjYRkbzSKJwAJEDw4YcfhiENTD7o5pHPYFBXB/vUtJAtcygyiMJTL0Dkix7O9IAeX0g9kz3ItKGkltGAEvEf02kh1Y6RjQPCZIXkiXR1XYFzU5MbaersWsnGcMtS6JUCaXq+K9mNiB/a3fHJ2owPyMiQBCA9E2mKEPgY23jASrrZWEnQhPGgffv20bhBREQaB43CCSB6j9GMTp5iL7ScGHes/kikHN1mVSDDoaCLWgGcBo4ZH8guYJjjCFAQhoaf7EN1xXA8RpSMTAXHESXba6+9QlaEw8I2rodiYzINgLwJWRDPRQcLnB1eJ6+ZW3XPNzHw3o7rxnXw2pnscWTQvFLAdvLJJ0+QU1RXUFtBeh8niuI/5FVkKniPef9wrOguwt/s/cRB4HNiO1IGtmefH5kP/uczyY7JHsvOw/uQSaJ4LGs9yN+6cj5E6gvGojHHA77njz76aIxXyCdxFJAKon1nvK0L+C1mv7OawPg5PvvzW2V/fus1IfutZ0GpjPIxILtl48q44Fw12U9EpLZoFE4AUSa6MvTs2TN6Q1O4RSSK4q3OnTuH5p7ILwYpExMQPafLAwXEFFlhGKJrZz8iWBi01BPgQGQdImghx/88xmTGDe0o0XjajZLq3m677eL8PA+dJtD4Y8BncK2cH+Nz3XXXjc4STCx0/sGhIJXOhHn00UfHgjNcM5MP10odwllnnRV1DPzPPshuaCXH5MBE2BCwND6ZDFLoFCife+654QxUMrzX1IbwOWGok4GhqA9HjC4idJri/USexedEDQb1JHw27I/TduKJJ0Ydx6BBg+Jz5DGi/3znyOZQH8EkDxgRFHFzDrqA4JziOOkISFMDuSLjAO2PH3nkkXTZZZfFuFqX0BwB+SEBiXHB75qsIC2cs99ndfAb5bfK/jg3NfnNUmDM67/22mtLW/6GQBN1XYzfdAxivGHcZIXj6hwMMtXML9W1HBURqW0aTU0AoE0nE8CAyqCNUQ8Y/BSrYoDhEGCUs4AMAzROAMYZunqMaqRByEQw8DHW6HZDpoCWbE888UQYd0S/MALpIsR+tJjj+Sh8w/DDAaFIme5DRMXLdf2sYHnGGWfENWa3008/PRwDrovnvO222/7pNc35iK7xGoik0eKUyYXXw0RLOzn2Ya2BMaVD9QXF1LRVZWJlcit3eioVHCuMFcAR4LPDMaBjCI4c0jKMeu7zGdJjHKeO70xVEUQyBhgJfA533HFHOBM4jMAkfuWVV0YxN9+VTTbZJNq7ZpkekaYCwQs6m/HboeFC9htoCDD4kePhqD/88MP/+r0RWWfsp4EBndayiDy/+/vuuy+Oobh5THAC6N7G4+xHtzngeIIHtI8mKFIdjPmM/cwpzD10p+O5uF7GB85Nu2nWNaDxBUEjMsYEJXB0eB0PPPBA7EfrULKOIiK1TaNyAiYE2rzhEFAYjKHHAE9XiEqSsVQ6RPloz0qWo9IhUk9RNRkVJlGcOhw2JmK6RBHdJyKH04eTQOSN7wWOFv9//PHHVUYPcQ6YtMke8Z5gDOF0Atu54SThRPK8nM/InjQ1cKZpfdlQQYlyMKgxnlnDhGwrDQyydVz4fZMBJJBCYIY1Yshq4qyzBgvSzuOPP/4/jjoGPs0bcAAwzhlPiPyznXGFgALnZawYF8g/CTrhQOB8cBzXSxCIoA/OAdfJuchAImNELorjwnjFNZL9xqGoqVRJRKSmNHknADDMaGNHj39uSHykaUKWAuOEzMoOO+wQshz+p2/3+eefH5kY/tLdJFtNGueGY5B9ITsbszi8HCJyGA1VSbPU9IrUHwR5KEYmi4cTzkKRRNYBB52sH4ty4bTjKGB8Y2yTzSWTS4aAqH8Gjj6RfrKHGOmsHcM+yElZH4YaCKRJFEFn0tPqYB+kphjwZBLJGjMuEUAgK00Wg+tEskqgBeknElOaRiBn5PWxbg0dmHQCRKS2yYUTIPmBFq/0LEc+Reci5FlE9onokf1B2oWsjAg9Mix6nmeTL1kiDAgmXh7jPsdiAADtBNmfqCAOBFHFLE1PD3Ju7Ms5iDqyGij7i0jtgyNOZJ16LQxnfsfl8NsnK8fvmceR49CQAckNEsCswUF5to4aINaCodaBZhRISHEuWLASyR/yUhwBAgtkGMcH5ElE9I888sjIplCHNDaQAyELJZNJwKq6xhciIhODToA0eYi0Ufx7wQUXRJ9zjAAihLT3pPUpWQEMCDpOMTEzQdNlCP0/UUYMBSCiRx0AzgQrfBIxzKJzpP1ZQI1zkG3gLyuNKjsTqRv4XdJhDaee+rBxradC7QIOAb9PZEBkBMkMkCXMwNHHcaAdNNIfVqFHkkORL+AIVJUFHBtZYIFMI8eh8efcOBhVLVxJZoK6MbINbdq0CWdGRKQu0AmQJgMpfropjdm5CIkQxj3RPVZexglAJoTsh05TFGCz/dprr43oPcYChgX7IyHAGCBtTwof2QHOBLUHFEoTXcTB4DlYiIiCSbTDFAUzyTeGImqRxggGPb919Pbo6JHrlEMzA4pq6dhD3Q/GP7UMRORx6Fm/hUJ+mgRk4ADQKILoPw48Gn26+5ARZOX0LCvA75/xYVzwHGj7GWsYHwgwcL1kEBlbxgaZBrIMPCeFyMiBRETqAi0UaTJgcFfVqQRtbqb952+m5y3fXn5stp0b28uP4X62P3/Lz1X+WLZdRCYOsnksUrb00kuHxA7jHSkQaxTgjBPNx4DHScfAxkHAeCeKz2MY9iy+SGSdzl1k7aj/wfGniJ8MAAY6xjpZQoIDdD469dRTo6iYLAOReZ6X7CDFwXRxo810OfzukR7RzpTrxPBHYnTUUUdFEIFzEyjg/IwTaP8pZOYacBhoY0ztABlLJIq0X2XsIZtAVkFEpDaZpFAHlYxIJki10vteKheiYUw4EwPRMCY1Om5I5UIRJMWRtNGtCiQVJ510koXzEtAVh2j0wQcfXNoybpCykJFDKieVC+1dkVNRn1Cb4HSRVWUhSfk3OIF0iKprcGypVzvuuONKW6QS6d69e8iK6V7ZkJgJEBERERHJGToB0iRAGkBGoiaZDZJfdABhwS/0vTVJhqHjZX/qB2rSqi9rNUjhoYiIjD+MzY8//ngs6kmWAWkV0AqWSHffvn1DRlUTaMlKoTcdmqqC2hKyJGQzpGZQU0PrdT6j7EZb3QmVr1F3w3o+1PKwUB/zLnV2VZ2P7dToMJdn8y71NtT+yLjRCZAmAQWATBI1WVmTQeO9995L99xzTxT21tQJYH+cjZoMbgxGLDZEhyERkaYCLVUpVq6PdQsYa+m0hryIhdUwODHuWB2a9R/69etXYycAA59W0RiUVY35nIumDiNGjChtqUyQFdHuthLWjuD7gKFOXQ21M8ypyIPppDUh0H6bFbc5D+dExkqxfFU1dszl/fv3j/cD2J+6HJty1AzfJWnyYLxTEEhRH5MJOmfAsKeb0IYbbhjFfkQegMHn8MMPj7aAhx56aESQxgTtM0WJ7EPxIEY/Dgit/TbddNM4LluMTESkqUB3NYqsqSdgpeOaBFEmFtqkcmNMZbHGF198MVqtZlBcTVaAsZwx+YknnojtZA7OPffc2Ea0utxhwHjt3LlzPHbaaaeFk9BYoBMWhe1E3ZmvGhq6dLEy9k477RTrb9BND0cKB47CfNbbYDvr57AaNx31mI+zNXj4HvXs2TM+C1b4xrnhe8WaPDh8ZO5xCFk0j0X0OJY1f3gOiuepXyJ7QBewIUOGxOfPOfheXHXVVf98L8gqcV724/lYEJBaOFoGN6bPvzbRCZAmDVECovcUqvfu3Ts9+OCDEaEHCuMogr3oooticmAwIXrBoMFjdB3BYbj00ktj/wyW+cfwJ+pB6piBjgmIYiwiInQfoTMJKcrx6SkuIlLpNG/ePNZFYX0VWi8jy8HYqkt4PjpEYfTRNhVDjsAOEHyhWxOOARHkgw46KIw6DEfGfiSZGHx0XsokIhyDAcjikjgHRNZZoI3AUGOALlkY3sxRK620Urzeuv4MagLReqL2vL9Ic5lXydJzvQTgaLmL4c91E0SjaxafE210cfD4LOaaa67S2VKcg3mVQByPM+9yHME7Xi+NSWjnvcEGG8QCobTxJVuEg8fcfeutt8bz873gO4CjgCNBty2+Lyz+x3o+XBcysfpwaCsNnQBp0tD3nx8/q28SQWAAImoPtBOklz/GPEY70RUeJ7JCe0C6OfA4UYqs1oBBIuvwQPs/+nmzLwY/gwhGP5MNzgULjtEGsFJgYCYyVtVNDaXUBkTgxvb98lY5N4xdxqqxPTauG21NiapyDgIiRNFZ1fjMM8+Mx+sCDEueF0OQcRbJBy1dAYOOcZsV2zHqMQox7pCH4jCw+juRZxaEZDtgKFJXQGtW5gi2k2HI5oa6Ysz3ckJvOGI4YIzpfAZIo2hJi2PD4/UNv3mMbiL36PGZNzHIgc8ORwUHAYMcI581OLh+ou8Y+Uh5+Hz4PIjy02p3TDDe+Xw4F3MzQTsMeM6Pg0hb4PKW3bwPZOz5rvC9IFPB58wCg8Ax2WPUIWRKgLxhi9Ac05RahDIgsBonGtFscuCrjSafloWkTnfddddISdLfm0GIKAG9uBlUBg4cGJEtIhMMpBSGEX1iQGGRIaJdRDKWWmqpmIxOOOGEyBow8LAPkQicAYqSkAIxsCAp4hxEHxoaWoTyHnE9VcFkQqYkG7wl30xIi1Ciejjb/C6kcsGAR17BHDAhMFZgkDPGMv6hvybaS2CFcbC2WoRiXLJYIzJL1nZAioQBz2KPfMeYd3guFoZjbN5tt93itbESPIGYaaedNiQorPXAdxnZZ48ePcI2IZOAg8D6EoDECSnnPvvsk/bbb794jtoEwzWbm2oDDFcy1tlngOHM2M1rwpCurxahSGz22muvMNBZNwPDmnmUaxg8eHDIdpD48D7vv//+8Rky//KdwSjnvcaOYBvRfLL3rJOBDIhsB3Iu5DzUB9D+lLmX71oG0h7mbtbg4Lgjjjgi1vvgmrBDCfLRGpvvBW05cTRYNJBj2JfPBBkTz7399tv/40TUNZXSIpQvUK1TfFGFotdWuieVStETLv034QwZMqRQ/IGV7jUcffr0KRQH8MI333xT2lIo/PHHH4WiU1Do3Llz4aOPPiq8/PLLhbXXXju23X///YWiY1C4++67C8XJodC7d+9Chw4dCsUJo1ActAqnnXZa4dtvv437r732WuG7774rFH+0hQsuuKDw/PPPF4qDRuHmm28ujB49ulAc1ApvvPFGoTjgFTp27Fi45557CsVJslCcVArFwbB0NQ1LcaIsFCfM0r2x0759+8Lw4cNL9yTvXHTRRfG7GB9GjBgR479UNpdffnmhV69epXvjB2Nh0ZAuFI2yQtGQKyy55JKFogEWY2nRSKvVMY8x/PTTTy+sscYahQceeKDQrl27wswzz1y44447Ctdff32hdevWMUafdNJJhaOPPrrw5ZdfFopGZGHzzTcvXHXVVYWioRf7vPLKK7Ffy5YtC/379y8UHYmYLxjDv//++8KwYcMKH3zwQRy71lprFYpORekKao+FFlqo9N/EM2rUqELRyP3nMyg6QIUddtihcO+99xauuOKKwvHHH1/as+557LHHCkVjtvDMM8+Utvw/XA/fD+ZHvjdcF58Tcytz8hNPPBGfBXNu0XErfPrpp4Wi8V8oOqdxvtdffz3mXT4nPqMtt9wy5teiA1t49dVX43N96qmnYo5nTv/xxx8LRaeicPDBBxeKTlLMe3wf+V68//77cZ1XX3114cEHHyxstdVWMZdjqxYdlvg+cd76gtd71113le41HMqBpMlAhAitIWlp/pLuJdVLBAivH/0+6UfuEwUjdYleFB0iUQeiRETwiRKgESR6RBSCVHM5RHSIJlBwjNaQaAMSIqIwbCdqRWSK9GLxN1Y6SkSk8UObZDKGzZo1S3vssUeMgXTdIYpel/JHIrY858orrxzZ2CxiS0ZgnXXWiUgv2SvGerIARFiRZDKmX3DBBTFeZ1IZouUdOnSI+jAWSKR1KPMH80JjgGg6BbC8NrIezFXUslGPVkkS1HL4nJDkMAczZ5Ip5zWQjeK60fhTNExR8dg+B+ZdisHpBER2iIw9nZ7IPiBtoy6ErlXZnJt9L8hQZN8LZEpkKuX/mazomR1f+r/W4EPija7N1JfUPkhEqNqfGNDHo9FkSf2GhIGENCR/SRvyF43okksuGQM+AwM6SiYqUolo+THaGUQZcNCM8p3lOLSVyGbYvtZaa4XUh3PyfSblzOOci+X8SWlyTiYb0p0MVGxH98iA1bJly9DLNjSkbLk+UvVVgYaWeobywizJL6TZmVzXWGON0pZxQ19v6m922GGH0hapRNBmY3Qxbo0vyDUY45AzILOgNor7gIwSiQrjSG2AoY8xx5jN2IUTwJjKuI5UhPsY/AR7kJMgb2Vs5/tHm0jGccZr6p0Ys5Go4ESwL5IgJDSM7VwvwR/Gf+YL9OnVSScnBAJKBxxwQOnexIHsDk179hnwHmQ6euogMLTLuyfVJbx/vOfMjXxW5fAYnxHvZ/be8r7yOSEdoxaPz4K5G2kQcy6fDzfqTmaeeeb4HPns2AdpD58l8y6PZzp/zokEiMcXWWSRmNuZi7EByr8XyH04H9fF8/M9oqaAc/P94jz1JQdCOszr4pobEmsCcgw/yqZSEyDVg8PHQMeEURW0SiMqxoQiMiE1ARTiUYPDBCeVC1lRjHXafI4vRNMxxDDQxjSYCCTgCNRWTUBTAqM0ayoxsVAMjcGMIzTmZ4BunmLb+qoJkAmjUmoClAOJiIhIjSCjSFa0viKm8l+IXo/NCRMZX3QCRERERERyhk6AiIhUBBT2kSJHt4t8gnoa9N0U8dcFyFpY6I92kRSG1gQWQKKolOLEmoA+m5aJtDbk/wzkHNTq0LaYNUq4Py5YNIn355prriltERGZcHQCJBcw2dMvmi5A2Y3VJ+koUR1MzCwW5sq/IvUDhj9dQlhAiN8p3UJYiZvf8KeffpqeeOKJ2E5HLkrauNEznW2s3p31Tke7TvcR/tIhhMWGMPTpPc8aH6whgvGNvroceuBjnHM+imBrYpxnsHgTK5FyLB1cyp0XHqOJAtdEYefYzsuCVRzL82fdxbh2ai2ov+I4EZHaQidAcgGGAC3Jjj322CheI/pHsSwTMpNsVdAelCL3rLWciNQfdH2hcA4jGKOfVpQ4CKyQSltHovJ0JKKImVa/F110UXSnw5hmFW86e5FdIILOYnn89tmfZgaMB6weyuMZH330UYwNNDrguYj2c56agFFP+0zOfcMNN0TRLYsQZs0XMOpZPInrP+igg+K5yuEaTz311Hj88ssvT5deemk4LbRBpNCW+zguOCkiIrWBToDkBoqoWAsAY4AJlZZgrBqMcQH33ntvTNxMxKwxQBSQ/susdkgPZgwLsgk8zn7sT3RPROoGovq0KqW9H1F1WlvyPx2IaE3Jb5rH2c7vktVeySAQ9a8qgs/vmvVBWL0UB5/zAdk++t/TwSUzuumghuPw448/xj7VQdSe/Rlj6EdOxoHMRJZpoJCT66NVJM4LkX32yWDMwchnnROkQ7xesglcK8f27t07OniZlRSR2kInQHIJ/YxZYhyNLnIfooFkBViEhkgb0UQic/TMpw0b7W6ZzLPlzYFIIZkCJn8RqR1wtjHOMaZZjIraAIxf6gToCU4LRAxijHmcACQ29EZnzRNa3L7wwgvhPFTlBGBcY0jTn5t+47TOBdqh4jzQW5zfPAY9Pcd5HnrqjwvOyTjCuED3FnqQlzP77LPHORlT6KnOOJM5AfzlWK7t0EMPjUwBjg1jE1In+qtzTl4//c1FRGoDnQDJLSwYgqFAXQAT/+677x4p+kGDBoX8gMeZrHmMxcSIGG6++eaxKAsRQ1YVLtf8isjEgwHOWjMYwkj2iJzz28MJoPc5v08W+cNRIBtHlJz7FNieeOKJkeljpdBs8aSxwe8cJ78cFryadtppQ75TlQNRHV988UXIiBgzOnXqFJmKmoIzwsqnLGy13377RSExmQicH66LGgZqIkREahOdAJEiaHXRDxOlQwqQSQQyiPYjM2DFR6KFRxxxRGQNRKR2wfkm87bSSiulVq1ahROOUf7888+HU4Bxv++++4bRjNHO6qKsFsp9nHI656C/xzlg5VCKickuENEHovv8dik4xrCmkBc4Fwvl4SAQpcdJIPPHarJZ9q86uG4i9lwfmQMclHIoaObcBA9uu+22tPzyy8cxQEaD10s2gNdBxuDCCy+M/XkNWUaAMYjrFhGpDXQCJJdg1BO5Y+l1jAW6hGy77bYhQWDbmLA/kgO0vJ07dw4JAdE7kbyBUZ3J5Wo7Oo0BjQE8xRRTlLb8Db81jGYM/l133TWtvfbaaZNNNonWni1atIht7du3j9WN11prrZDikB3YZZddQlJEZJ3fOb9t5DQ4ExTf4hBgiCMP5Llpv0n0nXPjKGy00UZpt912+9dvHYMdQ51gAYtmcVtvvfUiOMA1ULTM83NO3ivqhnheznfYYYeltm3bRkZj0003jSg/r5e/1CiRxeC5yYTwWlu3bp223nrreO1s533nmjLnQURkYpikaNzUuqCZAYxULdEcqVyYfLLOFRMKkTK6YZAGr2SIENJvHINhm222iW4/d911V+iNMRSuv/76iNxhMNDRg6jb6aefHp1BmJiPOeaYMHjoSMLkzYR/9913xz4bbrhhGAaVDEYPjkuXLl1KW/4Lxg+aaqKhInTcQSePYV0OxfEYsrTyJCKP9AbDGsMdGR1Fu/y2pHK54oorom6CBge1CUXUr776ajhI8m+Yayg6r2uomXn//ffD0ZTKpXv37hF0oPtZQ2IoU3IBkTMKgTHeTzvttGgliP52u+22i2XwieA1a9Ys3XTTTSEFwsgherfqqqtGm0IcASQBRCBxFigCXGWVVUJCIJInMGbIhtG6EqcZxxIJDsZfebcbERGpbMwE5Jg8ZQLyTk0yARRG031k1llnLW2RPEPPe5xdHN8xweDHYeZxpDLckK4gWWGxKzMBlY2ZgPrHTICUYyZARCoKBqXmzZuHdtqbN4IEWc3MmDc08ZkELvtLcS7HiIhI48BMQI4xE5AfapIJECmnqpoACoKR1F1wwQUh/6EoFllQy5YtYzxhJV4zAZWNmYD6x0yAlGMmQEREGh0YMn379o2ONXSrwejo0KFD1NRU15u/kqAxwN577x3XnN26deuWPvzww9IeYwf5E68ZA1pEpLGjEyAiIjWGjBKZP9rq0r6S3vi0uGxMsO4ALYJZYIxmAc8++2w4MHTHYo2AqmChsltuuSX99ttvpS0iIo0XnQAREakxOAF006IGoKkw++yzx1oDRPppc4oMCjkFklZWAEbewiJddAm7//77Q1bHwl04BKuvvnp0FOvatWtkEupAYSsiUifoBIiISO6hVTBQ84Cmmk5Zt956a2Q7nn766SiARjK08cYbhxxqzjnnTKNGjUrnnXdeaOs5ZtiwYbZJFZFGg06AiIhIGawrQqYDJ4CVwse2MjJtUWmnS3MEsgSjR48uPSIi0jjQCRARkdzzyy+/xF/aorIaOAugsTr4QQcdFBKoMRkxYkQ69dRTQwq0//77pyWWWKL0iIhI40AnQEREcg2tTV966aVYA2HxxRePwt955503LbLIIrH9k08+Ke35/1A/QJtl9uHx6gqKRUQqEZ0AERHJJej5V1pppSjufeihh9L2228fRv2GG24YRb5t27ZNd955ZyyO9v3338dj77zzTmynwxCFwxQUsy7ORx99FK1D2S4i0hjQCRARkVwx44wzxiKHr732Wnr44YfTo48+GgtorbLKKmmKKaZIK6ywQhoyZEjcaAt6ww03pDZt2qQWLVqkJ554Im5rrLFGLKg2dOjQcBSef/751Llz56gnEBFpDOgEiIhIrqDTz7TTTptmmmmmf27cp9gX+Dv99NPHdv7yGGshsJYAXYTYzn3kQNk+bNcBEJHGhE6AiIiIiEjO0AkQEREREckZOgHyf+2dCbhO5fqHHyRRyhBJ0WAeMkWIJEMoIZk1qGOIkj+ZlZQcQ4aoTk5CpKMMHUOGCmUIDcqUSumUjBeSoUnTv/uxlmu32dunvp1v7+93X9d3fXu/a613vWudzvb8nvcZhBBCCCFEnCERIIQQQgghRJwhESCEEEIIIUScke633wl+jhr169f3usnUUBaxC5UtaJLzV6BlPqX2xo8fH4yIWGTQoEHe9fSuu+4KRoRIHspffvfdd9a9e/dg5ORs2bLFa+yrVn5sQ3Wknj17WseOHYOR6PDiiy/a3Xff7U3XxB/Zvn27N5hLaSZPnmz/+9//7KGHHgpGRCzSoUMHa9Cggd14443ByOlBIiCOkQiIHyQCxKnyZ0TARx99ZD169LBXXnklGBGxCD0RaGzWt2/fYESkFSQCUgexIgIUDiSEEEIIIUScIREghBBCCCFEnCERIIQQQgghRJwhESCEEEIIIUScIREghBBCCCFEnCERIIQQIsVYtmyZVahQwUaNGmVHjhwJRmOLL7/80iudHTp0KBhJngMHDth9991ns2bNCkaOsmvXLmvfvr2VKVPm2Of++++3PXv2BGdEl59//tlmzpxpjz76qO3fvz8YFUKIyJAIEEIIkSJg9C9dutTWrl3rZUN3794dHIkdMJ4nTZrkYuWXX34JRpOH8yjD+PXXXwcjR6EOPL0SunTpYsuXL7cnn3zSdu7caYsWLUoRAUSFb9awbds2FwRCCHEqSAQIIYRIEfCMv/32296YCiN1w4YNPo6xTK16GkshDDCUGzdubNOmTbPDhw/b0KFDvc9M8+bNrVmzZta7d2/76quvrFevXtauXTtvSHbOOefYI488Yvfcc4/ly5fP+vTp4x76b7/91h577DG77LLLLEeOHN7HBAP8jTfe8GvpY1CsWDGrWbOmN3CaP3++DRs2zD+jR492g5r75MqVywoVKmRz5sxxo59zuf6iiy6yBx98MFmj/qyzzrKsWbNaiRIlLE+ePLZq1Sr75ptvfDckd+7cPsfAgQO9DwO9Wp5++mkrWrSor/eZZ57xud977z1/P6+99ppfS4+Phx9+2NeyZMkSu/LKK61GjRq+gxEKAK5jd6J06dKWM2dO69atW0wKLyFEbCARIIQQIurgpf7www/95xYtWlj58uVdEGD4JgWdhtesWeMG8MiRI10M0NQqhHAdBASG8oABA7yhWdu2bd2Tz72Yf+HChS42MJ7xwGNsh+IDUUKIDrsSGNMIg3r16rmxTNhO586dbd68ebZ161b77LPPfA18Nm3aZK+//rob7MyLGAjnTI4ff/zR14tg+fzzz31noH///vbyyy/7DsSnn37qOxDvvPOOvfDCC74eBMb7778fzHA8CIIZM2Z4k6EpU6a4oAgFCe9t7NixNm7cOHv33Xfthx9+8GflWwghEiMRIIQQIupg7GOI4g0vUKCAVaxY0TZu3Gg7duwIzjgePNp4/M8++2y/5oILLvDrQ84991wrUqSIe7nxmpNrkD9/fsuWLZt73rknXYvZEcCg5v543vHiA+cxZ/bs2X0OdiASgshYv369G+8Yz8yFAf/FF194mA9ryps3r98TT3xSvPXWW26g070VA5ydC3YE2N0glwAhwU4EY5s3b7a9e/f6NYgYjHpyFJKC8B/OR1SxFnYrsmTJ4scQD+edd55deuml3iGc+yGOkhNeQoj4RSJACCFE1MFoxrDF8B8+fLgtXrzYvet4vU8Wv54+fXr/pEuXLhiJDHYSmBtvOV52jP8bbrjBLr74Yj+OuOCT1Lzh9Rjan3zyiYcm1apVy4UDEGoUSd4AQgfjHg9906ZNrVKlSh6y1LdvX98JIDyIMCbeCSLh4MGD/r4IRWrQoIEb8cnBGjDsWW9CWPsZZ5zh704IIU6G/lIIIYSIKoTA4JXOkCGDVa9e3Q1gPOeFCxd2Lzieejz3GNUYwRjNCATOx+DG+MYbTlgOicWRgkece+Cx79Spk91+++1emYf4/khgTcWLF3cjnDyG+vXr++4AHnuEBDsHeOEJK2KXICkw/MlXeOCBB+z666+3zJkz+/MR6kT4EqFM7GgQ6oS3Hm8+Mf9t2rTxd8H9uAaxwv337dvn9yPEit0QdjQQKTwbOydhuE+pUqVcwDDGOhFBvAtyFIQQIjESAUIIISIGg3TFihVu6CcFnnh2AQoWLGh33nnnsU+jRo38egz8smXLuqe8ZcuW9t///tfDdhABjGOIE8tPIi1hLZGCFxzPPUY898MYJ7wGozkpMJAJq5k7d67nGpBsy/kY7127dvVjiAh2FDDOyQcgfv9U1gVcS5hRkyZNPP/g/PPP9zCha6+91hOVyUu45ZZbfL2EKjE/4okk5xEjRhwTBRzjnRH/zzyEKvHegPAonpkkaUQF75SdBa4VQojEpPsN10KUwXsyZswY93CI2IV/GEh0+ytQmYLqG+PHjw9GRCwyaNAgNyowDISIBJJuCTnp3r17MHIUvNk33XSTVa5c2av2lCtX7pgRirea6juzZ892IYBRjnc9DE/h7w1zEmfPMXYEGMODT2gL38xBcisGMkm8GMfXXXedl91kh4C5COnhOj7kBhAeg8ec8TPPPNN3GAixYU6MZv7WYYBzb87h3iTmci5rYR7WgiDA0859mI/nYv5MmTK5F54xjjEf9+Sb+UIYwxPPWBinnxDWxXsB7oXY4B7herme+3Et9wvHWSfwzfoQYMzD82XMmNHFAbkAvBt2BcJjnMtaEoc/UZmJXQjCk0TagjwUytc+9NBDwYiIRTp06OACnQT/04l2AoQQQkQMnmoq6lBFp2rVqh5ygzcaAzYEwxbjOzRMQzCaGceoDg1s5gsTdTlOaU887x07drSSJUu6MYt45XzmC0UFxi3edH7GEA6NdQxeDHs8+ITwMCdwjPtgSHMN92MuzsfoRiRzPLwP1zLGdcB5GNXMy3ncO6EAAK5l7ScSAMD5PG/o7ef8cJx7cc/w2oTPwb34cH/gebkPoVM8N+sJ3zPigl0HruP6xAJACCFCUmwnAK9NmIwlYhO23cNY0j8LDXHwGJLsJmKXCRMm2BVXXOEGmxCRwP+vMe4Jq0kMcf3sAvD3I0xExVDHs/XUU095ZR0Ru2gnIO2inYDUQazsBKSICKChCaXZROzzV/+xpvY1TXaoaiFiF7yGVCOhrKAQkYAIoK79icI6SZBdt26de//xNPMh0ZV4fP4mSATENhIBaReJgNRBmhYBQgghUjdJ5QQwRofbsGsuxn+VKlX8HzQSWfv16ycREONIBKRdJAJSB8oJEEIIkeqgsg+GBgY/ja/oAUBXXcJAwwTWaDN//nyvIERy78lgd4KyotOmTTvWSTc58IMR9sT59BaIxC+GEKIrL829EkJCLuKJqkLhZ+LEiZ50nBysmblIVhZCiL8LiQAhhBARQ6IsHqx///vfXge/bt26noCakqxcudKWLVuWbFnSEBKJP/jgA1uyZMlJm5IBRj/hTZxPff1IRAC5EHPmzPFuvAmhetDMmTM94ZeKRqVLl/aGYIgmjiUFDdSosiYRIIT4O5EIEEIIETH58+f3MqDUt6cyzemsPkP5TOr2k/TesGFD78QbQnlNChZQwpQkZppnIQrw+FerVs2vIcE5MewejB492o/T6Cz09lP6k3w38mrY/UgOGqMhlKjnz7o2bdrkuRKst3Pnzj43JVARHuw+kFc1ZcoUu/fee31XYvXq1S6uOI+QHUJ3hBAi2kgECCGEiBiqAVGqMhZKTxJqg8cdY/6SSy7xUBy6+QIdeu+44w4/h+66CxYs8L4m5CsMHjzYk55btWplGzZs8PNDZsyY4edxPt196VOAoY7Bvn79enviiSe8cVgknYzZNaFxGWFMGPJTp051EcGuRsWKFT2MinNuvfVWq1mzposLyn2yyzBkyBCvtLR582ZfTyShTUIIcSpIBAghhEh1ELZD+VK67fL93HPPeWx9GM5DKE6BAgW8azGddPHos1NAHX3q8tNNF4/91q1b/XygERiV7RAUhPSQ94ARv2XLFq+GRN+CokWLekdjdkJOBdbVvHlzu+qqq1ycIELCcCWEFfcjp4LeBeRarF271jp16uShTQl7MAghRLSQCBBCCJHqINyHsCQEAF5zQn6Sg3wCwnHw4Ldv397DiBgjhyAk7LaLJ75p06Ze6QhDPRQWic8/GVzH9eya4MkfOHCgNW7c2L+HDh0anPVHCAdq0qSJhw+RfHyqYkMIISJFIkAIIUSqg0RbDGa85jSm3L17d3DkKJRJ3Ldvn4sFvumiy84A4UOE5VBtCCFA1+MQvPDsHNARmYRe4vTx2tNYMVu2bLZjxw4XEnzCsKPkIAyIUCRCfgihYteBuH/WsX379uCsP8K8zE9OAYKDn4UQIiWQCBBCCBHT4E0nWZZYfpJzH3/8cU/0rVSpkhv0eNU3btxoGTNmPBY7TyLv9OnT/Rqq7lCPm7h7kpkJxenTp4+XHk0Ya4+xjgBgjKRi7rVixQqfl2sJJRo1apTNmzfPvv/+++Cq46FCENcOGDDAu6qTYFyqVClfL+Jj0KBBHnaUOXNm332gmR/PQ74B9yLcaMyYMTZp0iTPbUDwnMoOhBBCRIKahQkhhDiOpJqFJcdHH33kITrRbha2Zs2aP5TjpCQpsfWIA5JsMZwx7vG2kyNAyU+MaqDsZ+HCha1MmTKWPn16N6qJt8f4JtSGakecS9w/8f8Y5CQAkzCMkX7NNdf4LgL3QmjwjOQMcD3XsnMQwq4D5Uy5fwjnkpOQJUsW76weJhRzH+Ynz4B8AMYRK3Xq1PFeDB9//LE/DxQqVMhzETgvGqhZWNplspqFpQrUMVgIIUTMEksiQEQXiYC0i0RA6kAdg4UQQgghhBCnBYkAIYQQQggh4gyJACGEEEIIIeIMiQAhhBBCCCHiDIkAIYQQQggh4gxVBxJCCHEcf6Y60KeffmrNmjXzspoidqEbce3ata1Lly7BiEgrqDpQ6kAlQoUQQsQsf0YE0B2XLry9evUKRkQssmTJErvwwgtP6X9bkTqQCEgdSAQIIYSIWdQnIO2iPgFpF4mA1IH6BAghhBBCCCFOCxIBQgghhBBCxBkSAUIIIYQQQsQZEgFCCCGEEELEGRIBQgghUgwqBg0YMMBeffVV+/nnn4PR2GLfvn328ccf2w8//BCMJM/3339vU6ZMsffffz8YOcqBAwds4sSJ1r9//2OfF1980Q4dOhScEV1+/fVXe++992zOnDn27bffBqNCCBEZEgFCCCFSBIz+1157zQYNGmTjxo2zr7/+OjgSOxw+fNiNaETKqYiAl156ydauXRuMHOXgwYMuDnjOwoULW6ZMmWzWrFn29ttvp4gA+uWXX+yDDz6w+fPneyUnIYQ4FSQChBBCpAh42N966y1vILZ7927fFQAMYgzvoUOHusG8d+9e6927ty1atMh+/PFHmzp1qtWrV8/uv/9+96ZTrpTr+R4yZIj94x//sMqVK/t5CIyaNWvaM88840Y8c+N9r1Wrlp+zbNky95ivWbPG7zd69Ggvy9e5c2fbv3+/vf766/bggw/a8OHDbdKkST42duxYv5bz8LQD49y7evXq9sQTT/hYUlSpUsVuvfVWX2euXLm8Lj9iA0FAIzXmeP75532tGPK8i/r16/s9WQ+Vuym3ynoREOwk8Jzjx4/3Z1m/fr21bt3a2rRp4+tjDuA6zm/cuLHPNWbMmBTbhRBCpH4kAoQQQqQIdBBGCNx9991WpEgRe/fdd+2nn35yY5U69dQz53c+mzdvdkGwceNGmz17tt1yyy3WqlUr99Bv3brVjhw54sYvnu+OHTtajRo17L777rNKlSr5/PPmzXMD+M033/SfH374YevXr5+1bdvWQ33w0q9YscLOPvtsN/qZZ+nSpX598+bN/dO0aVM3wvkQ1oMx3bNnT9uyZYvPi8HNtdWqVfO5TgY7ARkzZnQBwBoQNF27drU+ffrYzJkzfQ3vvPOOP+8999zjtd0x7jds2ODhPbwfQoww8lnDtm3bfJzdhvPOO887/mbIkOHYDsamTZvsn//8p911110uatipQFjxfoUQIjESAUIIIaIORjve90KFClnp0qXd2MZI37NnT3DG8XANHnAM23Llylnx4sWtfPnywVGzbNmyWZkyZTzUpkCBAj4nv/PzOeec44Y+hnX27Nktf/78VqpUKStRooR99dVXfj0CIG/evL6mCy64wEUKhjrjfPCyr1692ue7+OKLfd358uWzzz77zOP/mYt1MV61alWf80RglOOBxyhH7Fx99dU+P8+HuDnrrLPsP//5j5UsWdIN/jPPPNMuu+wy/535Mf6TYteuXfbFF19Y3bp1rWzZsv5hbuD9pkuXzucI39/y5cu1GyCEOCESAUIIIaLOzp073aDGOMeLjeGLQYyn/2SN6rkGwxaD9lQglIjdhLlz59oNN9zgHTkJNWIcEBEIhPTpT/xPH7H+XI+BjpHPLgK/h550wnciabJPIjRhP+wiIGJYS9GiRe3//u//3DjH28/3qlWrfH7yJth1ICQo4XqTgjWcKMcAgZAjRw7LkiVLMCKEEEkjESCEECKqEL5C6MyXX35p69ats4EDB9r06dPdI71w4UL/xvuNZxxjlt8xhjHOEQCEwJAD8M0337jXO1Iwfi+99FLPJ8CwXrx4sfXt29fDdyLh3HPP9V0ADHLCdAgrIi+hQoUKfmzHjh2+20B4T3I7GuQOEIpDPgSGP9fyTFdccYW98cYb9uSTT3qYEJ77PHnyWO3atT1fgGOEG/E7xwFBQNIv4gDCECPeLe+NeUNBUKxYMRdafLiGtSIKzjjjDD8uhBAJkQgQQggRMcSkEx4TJqOeCIxTDFzCcYitf/nll23atGl25513enIwuwTkCGBMP/300x63jsGKsco1uXPn9rh3EnxPRQQgLPDgYyiTRIxHHq9+cpVzMKiJrycsh50LrucZScpFvLCrgDi57rrr/FyShhEyGN+nAue/8MILnuDLva688kqrWLGiJ/BiqPOeWC/frJeEYsZJGub9IUDYAeDdkA+ByJowYYLnGoQi4KqrrvL399xzz3nyMgKiTp06x8KFhBAiIRl+/6MzIPhZCCGEcMIkXuLZE4IA6NGjhxvyxNUTYhOG7eCtJqm2RYsWbtDjQS9YsKDH+GNIY8AS+87nkksusfPPP9/FBLHr1157rcfcY+gS14/hSuw/98E7z3GMYsQDcf0cZ25+J9Towgsv9JCbyy+/3I9jyHN++/btPa4fgXDRRRf5NXjmOUZsP7H/OXPm9B0I1kf4DvkE7EKwTqr84K3nGPfgnTAHhjiefYz1EJ6Td8K8zJkQ7scuBQKJHQt2J3i3nM+6yCNAjJD0zHk8E8d4j6yR+xH/z9o4njVrVn8HvGMEBc9NqBPvAxHBcfIGyDNIvBNAfgPvh5AlkbZg543/dqlAJWKXV155xf+/yt+400m63//gnjzAUQghRFyBJx1jsnv37sHIUUhaxVDFUOcfsJtuuslLYWL0ktSLQOAfuD8LFXBGjhzphipGNd73ESNGuEAQ0eHZZ5/1kCFCpUTaYvLkyf7/USpNidilQ4cOnrNEGeLTicKBhBBCRAxe9ZYtW7pHm5h3wmYIoRk1apQn1v5V8LZjnGKoEirENx5+IYQQ0UUiQAghxAnp1auXh5Ik/BCmQh16DH42kknoJS4dwz0anmW8/4QJEXLDTgOhMIwJIYSILhIBQgghTghefpJOE35INqWzbubMmT0XgDh24tFJoqVRlRBCiNSBRIAQQoiIofHW1KlTPZGWajTUwqcSELkDCIOUgBjnk1UkCmF3gjVShSiS84HKRJy/f/9+v/5kkBxMhR+SlhOCQKI0KKU+ww99ESKp+89cYedfIYT4O5AIEEIIETFUlcFo7dq1q5fx7N27t4fvpCTjx4+3p556KqKcA3YrZs6c6TkKJzO+gS7BH374oZ9PsnMkIoB8CEKfFixYEIwchWRb+gqwK0Jp0nHjxtmjjz5qS5YsSXYtiBzOpdmXEEL8XUgECCGEiBhKez7++OO+A0DcflLdd/8OEAXUyu/Xr5+vid2CEIxu6uv379/fexTQkwCDnyZg1OrnGrz0iUFE0GiM44MHD/Zux4D4oaEXVVcSG/+JadeunRv19BSgFwDVktidYL3PP/+8zz1s2DDbtGmTG/5UYmJ3hfr+lFnlnsOHD/fzaLLGToUQQkQbiQAhhBARQxgQCbuxkKxL0y46C5OTQKMvGm1RIx0wuklipj4/IoBKRuvXr3djm3E+dPOl825COI8dDnoEMBfdfwnVoW/CSy+95M8P7B6cDGr1IwIQJJQ+pYMx66LaEQIE4x9xQa8B+i0gsAhhokEY1xJeNWPGDL834kQIIaKJRIAQQohUCd12b775Zlu+fLm9+eabHlYThgzRMKxWrVp2xx13eFMeQnI458iRI9akSRPvbYDBnXD3gGvpXkx4U5s2baxZs2a+g7B582ZbuXKll0e97bbbvHswP58MEqfpc8AOBPelqReN1FasWOGCgHtzHFHAfDTv4t6NGjXyRmE0XiPHgDAj5hBCiGgiESCEECLVgXcdT3rNmjWtdevW1rZt2+DIUejKS5dgPnTWJel369atni9A5126/dKQLOFOALH+/E6IEV2CEREY4ewEIBDwzGfKlMl3Eeg6fCqQTEy4T6VKlVyEdOvWLTjyRwgH4hi7HJRoJflaCCFSAokAIYQQqQ7CgJYuXerdhDGsMc4TgtGNpx8POt8Y8Llz53bvPpV98K4TmsNOQQihPhj/dETes2ePn0MoTp06dTz8ifh9KvgwZyThOdyXeRAiXLNq1Sovu1qtWrXj1htCngDr69y5s4cHqUeCECKlkAgQQggR01CxB4N83bp17r0nnh7jmDAfwnQQA4QEkaQchs0QSkNoD2E3nF+jRg279tprPSyHc4n7r1KlyrHEX2D3AAOdsCJCh8aMGePhPyTmIjQIDVq2bJkb81QSSgquZ53cZ/78+ZY/f34rX768r5fEZMKBSD6m+RpCgZ0FxAV5BtmzZ/fwIJ6JBGREAYImkqpFQghxKmQY8DvBz0IIIYSDBxzj8+qrrw5GTg6hLBjfrVq1Ckaiw/bt2+2jjz7y5F8MaIxlkpMJ6eF+1PgvVaqUlShRwg1tvPQY0iT2crxu3brWsGFDN8YxuEm8xdtOc7MyZcp4qA/hRVxDIi+GOVV8wlKg3IuYfQQGRj2hQIQUcT8SiEN4X4gVEpBZJ++wZMmSXi2IXQji/clNQCCwdq4vVqyY5y+Qd4BoqF27tu9IIGC4Hx2TixcvboUKFYrargD3JyGZHASRtkAo89999erVgxERi1AxjL9V/G05naT7Te4FIYQQiSDe/rvvvvMmYJGCod6jRw//B07ELs8++6yLFQSOSFtMnjzZd6IoZStilw4dOliDBg3sxhtvDEZODwoHEkIIIYQQIs6QCBBCCCGEECLOkAgQQgghhBAizpAIEEIIIYQQIs6QCBBCCCGEECLOUHUgIYQQx/FnqgNRqrN9+/b24IMPBiMiFqFsKuVKqeQk0haqDpQ6iJXqQBIBQgghjuPPiIBPP/3UmjZt6o21ROzy5ZdfWr169ey+++4LRkRaQSIgdSARIIQQImZRn4C0i/oEpF0kAlIH6hMghBBCCCGEOC1IBAghhBBCCBFnSAQIIYQQQggRZ0gECCGEEEIIEWdIBAghhEgxvvnmG3vvvffsq6++slitQ/HDDz/4On/55ZdgJHl+/vlnr4S0d+/eYOQoR44c8TKp77777rHPZ599Zj/99FNwRnThfe7Zs8er/bAmIYQ4FSQChBBCpAi//vqrzZ07166++mp7+OGH7eDBg8GR2AHDffny5TZ79mw7dOhQMJo8PEe3bt1szpw5wchRdu/ebZ06dfLSm8OHD7cHHnjAK/B8+OGH/i6iDYb/rFmzbPDgwbZ///5gVAghIiPDgN8JfhZCCCEcvNh4sDHgIwXPOI2oWrVq5b8fOHDAJk6caOnTp3dPO/0DLrzwQjeI169fb2vXrvXfMcTDsqLZs2f3nYMZM2b47gGe9F27dlmOHDls1apV9vHHH9tbb71lCxYssEyZMtm6detcaLDWvHnz+hxr1qyxl156yd5880274IIL/NqtW7fa6tWr3Ws+b948+/zzz61AgQK+hkceecTXky9fPrvooots5cqVNnXqVPvggw8sT548li1bNi+XunjxYje6Mbi5b7Fixaxs2bJ+T0AccLxjx47GP628O9bCs5cpU8bFwPPPP+/PkS5dumPr5d7Tp0+3JUuWWM6cOb2RF8/Mc2bIkMEyZ85sr732mosM1rh9+3abNm2ar4/nOnz4sNWsWdOyZMliX3zxhb344ou2aNEifye83zPOOMPvE/L+++/bt99+a9dcc00wItIK/HfJf2/Vq1cPRkQswt+7IkWKWOHChYOR04N2AoQQQqQI1CvHKO3SpYsboxifhNzwQWRgMGPA4oGfMmWKbdiwwa957rnn3Ej//vvvbfTo0bZw4UIXFDNnzvTzfvzxR7/+/vvvd8OYD7Xv6VOwceNGN7QRFhjleOK3bdvm802YMMGNJIzjp59+2teDkMB4Dj9vv/22Cxd+Zi3Dhg3z+THmqcGO8cyaESPJgZGP+DjnnHNczCA+EBsIJZ6X9W7ZssU2b95sL7zwghtuzNu1a1c37DH0eT+EHRGuhChChPAz7wFRwE4Aa+N9AM/55JNP+j04hlBg3ZGGOQkh4guJACGEEFEHIxQvO554vJJXXXWVe8CTC1vBOEcIcA6dh2+66Sb3zIdgsOfPn98aN25s119/ve8o1KpVy3/HEMbYxovPeJs2bTw0B/GAAADGL7/8ct+pOO+889yTfskll7g3nw+euaVLl7rnn2tbtmzpMffE+TMvnvt27dr5PXmu5CBef+fOnf4sRYsW9fXh8cdDT4MgQoYQCRjpiIIWLVr4PfmZ+yUFTb7YKWGO2267zYoXL25nnnmmH0PAICpY97333uvCi/shLoQQIjESAUIIIaIOnu133nnHrrjiCg9xQQTgtQ4N8hOB4UzYDQZ67ty5PQzm3HPPDY6ah7VkzZrVjV4+GNF47DNmzOjHuBaP+8svv+z3q1Kliu8MIA6A83PlyuViguvxqieEnQO8/3jmCxUqZDfffLNt2rTJjXkM6bPPPtvXxD0JW0oKDPzLLrvMGjVq5M/ONwLjlltucZHTsGFD69mzp+3YscPXRmjAddddZ5UrV/b1snuSFOxwICi4/1lnneU7DYQMAbsTvDeekWOsFxGknQAhxImQCBBCCBF18HATk9+7d283nDFy8aYTxkKYT0Iw/sPKQYTRYIzjEcdzH45HAoYv8fR41dmFQBAQIoNnHMhN4JMUGM0Y0O3bt3dDnGvx3tepU8fXlTD0Jrl1jRkzxq/HK0+CMDsICIchQ4a4Ed+/f38PZyLEh3siEng3rJedg7Zt2wYznfg+zMEOBbstCY9ffPHFHgqU0PPPuoUQ4kRIBAghhIgYDE/i4pMzgjlOqA2JwMS9cw2GKTH8GLsYqhisX3/9tSfLYhBzPt75EiVKuKHOeYgIklwjBbFRvnx5n5c5iYkvV66cx9UnBUYyOwkID8QJ3njO5/qnnnrK6tev74Y5Owt41dnd4BihN6cC17ATMH/+fF8TP5NYfOWVV7pRz3Fi/QlXwqPPrgU7FvyMoCJJmHdOiE+pUqU8JIg18N5438D75hre3YoVKzypGvHF7okQQiRG1YGEEEIcB0YpMfqJqwPhrSapFsMZ4xLve+htDqsDNWjQwK8nFr5ixYpu3HNOGIJTsGBBN4DxtGOo470ntr1kyZIeRkNIDvMgHojPx/BlHfv27fNYfK7FMOd41apV/RvDn9CjChUq+L1I7mUNjz32mJUuXdp3FjDyuQ+hNDwHIT9cQ7gMRjbGNEY/kGCLt/2hhx7y+5E7wC4AogSvPtchWHiWEIx55iW/4NJLLw1Gj0JuA6FNvLtly5a5Ic+OBRWKeC/Mi/E+YsQIfwYEDc9FFSTWzv2oJIJo4Bp2KEhsZl3kSSB+uAfrIXmaZydXonbt2i4MEqLqQGkXVQdKHcRKdaB0vyXnzhFCCBGX/Otf//IY++7duwcjRyFGvnnz5i4QMPYxMjHQCWuhOk+PHj2Olfv8M5AUSzgNhjbx7W+88YbH2NetWzc4Q/xVqExEgjGVk0TaggpWiGjEq4hdOnTo4H8/SfA/nSgcSAghRMTgeaYqDR7vkSNHetOsXr16eRlPPOF/FeZHZODdxqN/1113yasphBApgHYChBBCHAfNtsaOHXvCKjjUsA/rz2Oo8yHMhtKZxNP/lZ0AkfJoJyDtop2A1IF2AoQQQsQshN8QEoQxkfjTrFkzzwkAylNSnpOQILrWCiGESB1IBAghhDgOavWTEEtSbcJPnjx5jnXLJaG1SZMmXvueOH4SVoUQQqQOJAKEEEJEDM2tZs+e7QnBy5cv90o0VLhIXIEmmjzwwAPWtWvXiDrfkrD8+OOP29133+2JzSeDXgR0Mub8JUuW+O8ng0pEdDOeMGFCMHIU3g27IQgoqhjRc4DOx5TqTG5enovQq61btwYjQgiR8kgECCGEiBhKX9Lkipr21M4Pu9WeDiihSUWi1atXe2lE6viHkK9Ad2Lq+mOEIw5IgaPhF/kMXEPJ0cRgrGPMc5zz6B8AXB/OR1J0cmDQcx8qKZHoPHr0aNu1a5evl+pHzE19f8qcIlQQUtOnT/duwZQx5Tk4znn0WYhGwrUQQiRGIkAIIUTEUNO/WrVqx3ICTid0BcbAprY+VYqotR92Iybxdc6cOTZ48GDfScDAJqH5mWeesaFDh3puA8eoqZ4QjG46+9Lpl86+JNEiBDDeH3nkERs0aJDX7sfIPxk5c+b0vgP0FyBZk7CpJ554wncqWO/48ePd+0/dfoTK3LlzvTcB34RXsUbWgJiIZIdCCCFOBYkAIYQQqRKM69tvv91q1Kjhxv/SpUv/YNS3adPGu/5ijFPCdNGiRW50Dxw40JuBvfrqqy4OQvD2E+qE550qK/RIIESIHAi6F9MYbdSoUZ4HEXbpTQ46H9M/gR0Azme9t956q9WpU8crKrEe+iFQIYSmanRUJoyI9fJcNAhDlLDbwRxCCBFNJAKEEEKkOjCK6ThMB16M9rx58wZHjkKXYboNE59PJ11CeDDm2T3Aw06zfIRDwjh8OvPi8cczf++997rXHlHBffD8Y6BTMpXdkMsvvzy4KjIIT9qxY4eLEnIA8uXLFxz5I3RUphvw4sWLfe08gxBCpAQSAUIIIVIdhM3grScpuUWLFlauXLngyIkhdwFPPhWMKHHavn17mzhxou8ihFDqlHNKlixpd9xxh3Xp0sUbopUpU8aPE8PPbkGkEMKDwU/oFNcR94/x36pVKy+peiLw+k+aNMlDrho1anScuBFCiGghESCEECLVgbHOJ3PmzJ5cSxJtQgjrIQYf7zvefwz58uXLe1lTkpuzZs1q7dq180o/IYyVLVvWQ3dKlSrluQCEDmHMFy1a1Hbu3OkfQnRWrlwZXJU07Cy8/vrrXjmJcquslfAf5iO86ERwTu7cuV2QIAi4lxBCpAQSAUIIIWIaQn9oXEasPAZ1oUKFvKwnOwD9+vWzChUquBAgfAbPO7H4119/vcf9cwyjH+87sfhVq1b18p6VK1f2JF86HROfj9HNbkHr1q19jH4InTp18gTeggUL2s033+w7BJQAHTdunHvquU9i8PqTi8A6MeapKNSnTx9fM+VCSUomlIjKRBynElCJEiX8PL4RDgiRevXqeSLy3r17XXgQTiSEENEk3W/UTBNCCCH+Iniue/ToYa+88kowImIRKh5RPalv377BiEgrECJHJSryXkTs0qFDB2vQoIEXBTidaCdACCGEEEKIOEMiQAghhBBCiDhDIkAIIYQQQog4QyJACCGEEEKIOEMiQAghhBBCiDhDIkAIIYQQQog4QyVChRBCRAUac1H67pNPPglGRCySK1cu69Wrl5coFGmLWbNmWc+ePYPfRCwzatSo014iVCJACCGEEEKIOEPhQEIIIYQQQsQZEgFCCCGEEELEGRIBQgghhBBCxBkSAUIIIYQQQsQVZv8PfdtK4iBn92IAAAAASUVORK5CYII=)"
      ],
      "id": "b0kqxLO29BoC"
    },
    {
      "cell_type": "code",
      "execution_count": null,
      "metadata": {
        "id": "ueR2wdS2Vdzl"
      },
      "outputs": [],
      "source": [
        "#Semi-Supervised Learning\n",
        "if (task == \"semi\"):\n",
        "\n",
        "    torch.manual_seed(seed)\n",
        "    np.random.seed(seed)\n",
        "\n",
        "    #########################\n",
        "    '''\n",
        "    Training the Labeller Model to be used to Label Unlabled Data\n",
        "    '''\n",
        "    #########################\n",
        "\n",
        "    Labeller = ModelClass(device=device, num_classes=len(testloader.dataset.classes), optimizer=optimizer, lr=learn_rate, weight_decay=weight_decay)\n",
        "    Labeller = Labeller.to(device=device)\n",
        "    example_ct = 0\n",
        "    batch_log_interval= 25\n",
        "    \n",
        "    for ep in range(epoch):\n",
        "\n",
        "        Labeller.train()        \n",
        "        print(f\"==========Semi-supervised Learning Labeller Epoch Number: {ep+1}/{epoch}==========\")\n",
        "\n",
        "        if ep == epoch/2:\n",
        "            learn_rate = learn_rate/10\n",
        "            print(f\"Update Learning Rate: {learn_rate}\")\n",
        "            Labeller.update_lr(learn_rate)\n",
        "\n",
        "        if ep == 3*epoch/4:\n",
        "            learn_rate = learn_rate/10\n",
        "            print(f\"Update Learning Rate: {learn_rate}\")\n",
        "            Labeller.update_lr(learn_rate)\n",
        "\n",
        "\n",
        "        for idx, batch in enumerate(labelledloader):\n",
        "            data, target = batch\n",
        "            data = data.to(device=device)\n",
        "            labels = F.one_hot(target, num_classes = 10).float().to(device=device)\n",
        "            batch_len = data.shape[0]\n",
        "            aug_num = []\n",
        "\n",
        "            if augment_file != None:\n",
        "\n",
        "                for i in range(len(augment_strength)):\n",
        "                    aug_num.append(augment_strength[i]*batch_len)\n",
        "\n",
        "                if len(aug_num) != 1:\n",
        "                    aug_num = torch.tensor(aug_num)\n",
        "                    aug_ind = torch.cumsum(aug_num,0).int()\n",
        "                else:\n",
        "                    aug_ind = aug_num\n",
        "\n",
        "                for i in range(len(Aug)):\n",
        "                    if i == 0:\n",
        "                        temp_Aug, temp_label = Aug[i](data[0:aug_ind[i]],labels[0:aug_ind[i]])\n",
        "                        Aug_data = temp_Aug\n",
        "                        Aug_labels = temp_label\n",
        "                    else:\n",
        "                        temp_Aug, temp_label = Aug[i](data[aug_ind[i-1]:aug_ind[i]],labels[aug_ind[i-1]:aug_ind[i]])\n",
        "                        Aug_data = torch.cat((Aug_data, temp_Aug), 0)\n",
        "                        Aug_labels = torch.cat((Aug_labels, temp_label), 0)\n",
        "\n",
        "            else:\n",
        "                Aug_data = torch.cat((data,data),0)\n",
        "                Aug_labels = torch.cat((labels,labels),0)\n",
        "\n",
        "\n",
        "            loss = Labeller.train_sup_up(Aug_data, Aug_labels)\n",
        "            example_ct += len(Aug_data)\n",
        "\n",
        "            if idx % batch_log_interval == 0:\n",
        "                #Logging into WANDB\n",
        "                print('Train Epoch: {} \\tLoss: {:.6f}'.format(ep+1, loss))\n",
        "\n",
        "                loss = float(loss)\n",
        "                #wandb.log({\"epoch\": ep+1, \"train/loss\": loss}, step=example_ct)\n",
        "                print(f\"Loss after \" + str(example_ct).zfill(5) + f\" examples: {loss:.3f}\")\n",
        "                \n",
        "        #Logging into WANDB\n",
        "        train_loss, train_accuracy = Labeller.test(labelledloader)\n",
        "        valid_loss, valid_accuracy = Labeller.test(validloader)\n",
        "        train_loss, train_accuracy, valid_loss, valid_accuracy = float(train_loss), float(train_accuracy), float(valid_loss), float(valid_accuracy)\n",
        "        #wandb.log({\"epoch\": ep+1, \"train/loss\": train_loss, \"train/accuracy\": train_accuracy, \"validation/loss\": valid_loss, \"validation/accuracy\": valid_accuracy}, step=example_ct)\t\n",
        "        print(f\"Train Loss/Accuracy after \" + str(example_ct).zfill(5) + f\" examples: {train_loss:.3f}/{train_accuracy:.3f}\")\n",
        "        print(f\"Validation Loss/Accuracy after \" + str(example_ct).zfill(5) + f\" examples: {valid_loss:.3f}/{valid_accuracy:.3f}\")            \n",
        "\n",
        "            \n",
        "    \n",
        "    print()\n",
        "    print()\n",
        "    print()\n",
        "\n",
        "    ############################\n",
        "    '''\n",
        "    Curiosity Stuff:\n",
        "    Check Performance of the Labeller using the unlabled dataloader as test set\n",
        "    '''\n",
        "    ############################\n",
        "    train_loss, train_accuracy = Labeller.test(unlabelledloader)\n",
        "    train_loss, train_accuracy = float(train_loss), float(train_accuracy)       \n",
        "    print(f\"Unlabelled Dataloader Loss/Accuracy:  {train_loss:.3f}/{train_accuracy:.3f}\")\n",
        "    \n",
        "    print()\n",
        "    print()\n",
        "    print()\n",
        "    \n",
        "    ############################\n",
        "    '''\n",
        "    Training the Final Model using the Labeller Model to predict for the unlabelled data\n",
        "    '''\n",
        "    ############################\n",
        "\n",
        "\n",
        "    Model = ModelClass(device=device, num_classes=len(testloader.dataset.classes), optimizer=optimizer, lr=learn_rate, weight_decay=weight_decay)\n",
        "    Model = Model.to(device=device)\n",
        "    example_ct = 0\n",
        "    batch_log_interval= 25\n",
        "    Labeller.eval()\n",
        "\n",
        "    with wandb.init(project=f\"Semi-Supervised Learning {model_file} {data_file}\", entity='ift6759-aiadlp', job_type=\"train\", name=f'Config_{num}') as run:\n",
        "        for ep in range(epoch):\n",
        "            \n",
        "            Model.train()\n",
        "            print(f\"==========Semi-supervised Learning Model Epoch Number: {ep+1}/{epoch}==========\")\n",
        "            \n",
        "            if ep == epoch/2:\n",
        "                learn_rate = learn_rate/10\n",
        "                print(f\"Update Learning Rate: {learn_rate}\")\n",
        "                Model.update_lr(learn_rate)\n",
        "\n",
        "            if ep == 3*epoch/4:\n",
        "                learn_rate = learn_rate/10\n",
        "                print(f\"Update Learning Rate: {learn_rate}\")\n",
        "                Model.update_lr(learn_rate)\n",
        "\n",
        "            #First Run Through Labelled Dataloader\n",
        "            for idx, batch in enumerate(labelledloader):\n",
        "                data, target = batch\n",
        "                data = data.to(device=device)\n",
        "                labels = F.one_hot(target, num_classes = 10).float().to(device=device)\n",
        "                batch_len = data.shape[0]\n",
        "                aug_num = []\n",
        "\n",
        "                if augment_file != None:\n",
        "\n",
        "                    for i in range(len(augment_strength)):\n",
        "                        aug_num.append(augment_strength[i]*batch_len)\n",
        "\n",
        "                    if len(aug_num) != 1:\n",
        "                        aug_num = torch.tensor(aug_num)\n",
        "                        aug_ind = torch.cumsum(aug_num,0).int()\n",
        "                    else:\n",
        "                        aug_ind = aug_num\n",
        "\n",
        "                    for i in range(len(Aug)):\n",
        "                        if i == 0:\n",
        "                            temp_Aug, temp_label = Aug[i](data[0:aug_ind[i]],labels[0:aug_ind[i]])\n",
        "                            Aug_data = temp_Aug\n",
        "                            Aug_labels = temp_label\n",
        "                        else:\n",
        "                            temp_Aug, temp_label = Aug[i](data[aug_ind[i-1]:aug_ind[i]],labels[aug_ind[i-1]:aug_ind[i]])\n",
        "                            Aug_data = torch.cat((Aug_data, temp_Aug), 0)\n",
        "                            Aug_labels = torch.cat((Aug_labels, temp_label), 0)\n",
        "\n",
        "                else:\n",
        "                    Aug_data = torch.cat((data,data),0)\n",
        "                    Aug_labels = torch.cat((labels,labels),0)\n",
        "\n",
        "\n",
        "                loss = Model.train_sup_up(Aug_data,Aug_labels)\n",
        "                example_ct += len(Aug_data)\n",
        "\n",
        "                if idx % batch_log_interval == 0:\n",
        "                    #Logging into WANDB\n",
        "                    print('Train Epoch: {} \\tLoss: {:.6f}'.format(ep+1, loss))\n",
        "\n",
        "                    loss = float(loss)\n",
        "                    wandb.log({\"epoch\": ep+1, \"train/loss\": loss}, step=example_ct)\n",
        "                    print(f\"Loss after \" + str(example_ct).zfill(5) + f\" examples: {loss:.3f}\")\n",
        "                    \n",
        "                            \n",
        "            #Second Run Through Unlabelled Dataloader\n",
        "            for idx, batch in enumerate(unlabelledloader):\n",
        "                data, _ = batch\n",
        "                data = data.to(device=device)\n",
        "                target = torch.argmax(Labeller.forward(data), dim=1)\n",
        "                labels = F.one_hot(target, num_classes = 10).float().to(device=device)\n",
        "\n",
        "                batch_len = data.shape[0]\n",
        "                aug_num = []\n",
        "\n",
        "                if augment_file != None:\n",
        "\n",
        "                    for i in range(len(augment_strength)):\n",
        "                        aug_num.append(augment_strength[i]*batch_len)\n",
        "\n",
        "                    if len(aug_num) != 1:\n",
        "                        aug_num = torch.tensor(aug_num)\n",
        "                        aug_ind = torch.cumsum(aug_num,0).int()\n",
        "                    else:\n",
        "                        aug_ind = aug_num\n",
        "\n",
        "                    for i in range(len(Aug)):\n",
        "                        if i == 0:\n",
        "                            temp_Aug, temp_label = Aug[i](data[0:aug_ind[i]],labels[0:aug_ind[i]])\n",
        "                            Aug_data = temp_Aug\n",
        "                            Aug_labels = temp_label\n",
        "                        else:\n",
        "                            temp_Aug, temp_label = Aug[i](data[aug_ind[i-1]:aug_ind[i]],labels[aug_ind[i-1]:aug_ind[i]])\n",
        "                            Aug_data = torch.cat((Aug_data, temp_Aug), 0)\n",
        "                            Aug_labels = torch.cat((Aug_labels, temp_label), 0)\n",
        "\n",
        "                else:\n",
        "                    Aug_data = torch.cat((data,data),0)\n",
        "                    Aug_labels = torch.cat((labels,labels),0)\n",
        "\n",
        "\n",
        "                loss = Model.train_sup_up(Aug_data,Aug_labels)\n",
        "                example_ct += len(Aug_data)\n",
        "\n",
        "                if idx % batch_log_interval == 0:\n",
        "                    #Logging into WANDB\n",
        "                    print('Train Epoch: {} \\tLoss: {:.6f}'.format(ep+1, loss))\n",
        "\n",
        "                    loss = float(loss)\n",
        "                    wandb.log({\"epoch\": ep+1, \"train/loss\": loss}, step=example_ct)\n",
        "                    print(f\"Loss after \" + str(example_ct).zfill(5) + f\" examples: {loss:.3f}\")\n",
        "                \n",
        "            #Logging into WANDB\n",
        "            train_loss, train_accuracy = Model.test(labelledloader)\n",
        "            valid_loss, valid_accuracy = Model.test(validloader)\n",
        "            train_loss, train_accuracy, valid_loss, valid_accuracy = float(train_loss), float(train_accuracy), float(valid_loss), float(valid_accuracy)\n",
        "            wandb.log({\"epoch\": ep+1, \"train/loss\": train_loss, \"train/accuracy\": train_accuracy, \"validation/loss\": valid_loss, \"validation/accuracy\": valid_accuracy}, step=example_ct)\t\n",
        "            print(f\"Train Loss/Accuracy after \" + str(example_ct).zfill(5) + f\" examples: {train_loss:.3f}/{train_accuracy:.3f}\")\n",
        "            print(f\"Validation Loss/Accuracy after \" + str(example_ct).zfill(5) + f\" examples: {valid_loss:.3f}/{valid_accuracy:.3f}\")\n",
        "\n",
        "    ##########################\n",
        "    '''\n",
        "    Evaluation on Test Dataset\n",
        "    '''\n",
        "    ##########################\n",
        "    Model.evaluation(testloader, project=f\"Semi-Supervised Learning {model_file} {data_file}\", entity='ift6759-aiadlp', name=f'Config_{num}')\n",
        "    "
      ],
      "id": "ueR2wdS2Vdzl"
    },
    {
      "cell_type": "markdown",
      "source": [
        "# More Learning Methods to be added soon..."
      ],
      "metadata": {
        "id": "Nqt5nQctB-Yr"
      },
      "id": "Nqt5nQctB-Yr"
    }
  ],
  "metadata": {
    "accelerator": "GPU",
    "colab": {
      "collapsed_sections": [],
      "name": "Colab.ipynb",
      "provenance": [],
      "include_colab_link": true
    },
    "kernelspec": {
      "display_name": "Python 3 (ipykernel)",
      "language": "python",
      "name": "python3"
    },
    "language_info": {
      "codemirror_mode": {
        "name": "ipython",
        "version": 3
      },
      "file_extension": ".py",
      "mimetype": "text/x-python",
      "name": "python",
      "nbconvert_exporter": "python",
      "pygments_lexer": "ipython3",
      "version": "3.10.4"
    }
  },
  "nbformat": 4,
  "nbformat_minor": 5
}